{
 "cells": [
  {
   "cell_type": "markdown",
   "metadata": {},
   "source": [
    "# Mobile Application Analysis"
   ]
  },
  {
   "cell_type": "markdown",
   "metadata": {},
   "source": [
    "## Project description and objective"
   ]
  },
  {
   "cell_type": "markdown",
   "metadata": {},
   "source": [
    " Identify the characteristics of user behavior of a startup's mobile app selling food products:\n",
    " - sales funnel\n",
    " - A/A/B test results"
   ]
  },
  {
   "cell_type": "markdown",
   "metadata": {},
   "source": [
    "## Data description "
   ]
  },
  {
   "cell_type": "markdown",
   "metadata": {},
   "source": [
    "- EventName - the name of the event;\n",
    "- DeviceIDHash - unique user identifier;\n",
    "- EventTimestamp - time of the event;\n",
    "- ExpId - experiment number: 246 and 247 are control groups, and 248 is the experimental group."
   ]
  },
  {
   "cell_type": "markdown",
   "metadata": {},
   "source": [
    "## Plan "
   ]
  },
  {
   "cell_type": "markdown",
   "metadata": {},
   "source": [
    "1. Data preprocessing and validation\n",
    "2. Analyzing the sales funnel\n",
    "3. Analyzing the results of experiment A/A/B test\n",
    "4. Overall conclusion"
   ]
  },
  {
   "cell_type": "markdown",
   "metadata": {},
   "source": [
    "## Project "
   ]
  },
  {
   "cell_type": "markdown",
   "metadata": {},
   "source": [
    "### Data preprocessing and validation"
   ]
  },
  {
   "cell_type": "code",
   "execution_count": 171,
   "metadata": {},
   "outputs": [],
   "source": [
    "import pandas as pd\n",
    "import numpy as np\n",
    "from matplotlib import pyplot as plt\n",
    "import scipy.stats as stats\n",
    "import datetime as dt\n",
    "import plotly.express as px\n",
    "from plotly import graph_objects as go\n",
    "from scipy import stats as st\n",
    "import math as mth\n",
    "from IPython.display import display"
   ]
  },
  {
   "cell_type": "code",
   "execution_count": 172,
   "metadata": {},
   "outputs": [],
   "source": [
    "data = pd.read_csv('logs_exp.csv',  sep = '\\t')\n"
   ]
  },
  {
   "cell_type": "code",
   "execution_count": 173,
   "metadata": {},
   "outputs": [
    {
     "name": "stdout",
     "output_type": "stream",
     "text": [
      "<class 'pandas.core.frame.DataFrame'>\n",
      "RangeIndex: 244126 entries, 0 to 244125\n",
      "Data columns (total 4 columns):\n",
      " #   Column          Non-Null Count   Dtype \n",
      "---  ------          --------------   ----- \n",
      " 0   EventName       244126 non-null  object\n",
      " 1   DeviceIDHash    244126 non-null  int64 \n",
      " 2   EventTimestamp  244126 non-null  int64 \n",
      " 3   ExpId           244126 non-null  int64 \n",
      "dtypes: int64(3), object(1)\n",
      "memory usage: 7.5+ MB\n"
     ]
    }
   ],
   "source": [
    "data.info()"
   ]
  },
  {
   "cell_type": "code",
   "execution_count": 174,
   "metadata": {},
   "outputs": [
    {
     "data": {
      "text/html": [
       "<div>\n",
       "<style scoped>\n",
       "    .dataframe tbody tr th:only-of-type {\n",
       "        vertical-align: middle;\n",
       "    }\n",
       "\n",
       "    .dataframe tbody tr th {\n",
       "        vertical-align: top;\n",
       "    }\n",
       "\n",
       "    .dataframe thead th {\n",
       "        text-align: right;\n",
       "    }\n",
       "</style>\n",
       "<table border=\"1\" class=\"dataframe\">\n",
       "  <thead>\n",
       "    <tr style=\"text-align: right;\">\n",
       "      <th></th>\n",
       "      <th>EventName</th>\n",
       "      <th>DeviceIDHash</th>\n",
       "      <th>EventTimestamp</th>\n",
       "      <th>ExpId</th>\n",
       "    </tr>\n",
       "  </thead>\n",
       "  <tbody>\n",
       "    <tr>\n",
       "      <th>0</th>\n",
       "      <td>MainScreenAppear</td>\n",
       "      <td>4575588528974610257</td>\n",
       "      <td>1564029816</td>\n",
       "      <td>246</td>\n",
       "    </tr>\n",
       "    <tr>\n",
       "      <th>1</th>\n",
       "      <td>MainScreenAppear</td>\n",
       "      <td>7416695313311560658</td>\n",
       "      <td>1564053102</td>\n",
       "      <td>246</td>\n",
       "    </tr>\n",
       "    <tr>\n",
       "      <th>2</th>\n",
       "      <td>PaymentScreenSuccessful</td>\n",
       "      <td>3518123091307005509</td>\n",
       "      <td>1564054127</td>\n",
       "      <td>248</td>\n",
       "    </tr>\n",
       "    <tr>\n",
       "      <th>3</th>\n",
       "      <td>CartScreenAppear</td>\n",
       "      <td>3518123091307005509</td>\n",
       "      <td>1564054127</td>\n",
       "      <td>248</td>\n",
       "    </tr>\n",
       "    <tr>\n",
       "      <th>4</th>\n",
       "      <td>PaymentScreenSuccessful</td>\n",
       "      <td>6217807653094995999</td>\n",
       "      <td>1564055322</td>\n",
       "      <td>248</td>\n",
       "    </tr>\n",
       "  </tbody>\n",
       "</table>\n",
       "</div>"
      ],
      "text/plain": [
       "                 EventName         DeviceIDHash  EventTimestamp  ExpId\n",
       "0         MainScreenAppear  4575588528974610257      1564029816    246\n",
       "1         MainScreenAppear  7416695313311560658      1564053102    246\n",
       "2  PaymentScreenSuccessful  3518123091307005509      1564054127    248\n",
       "3         CartScreenAppear  3518123091307005509      1564054127    248\n",
       "4  PaymentScreenSuccessful  6217807653094995999      1564055322    248"
      ]
     },
     "execution_count": 174,
     "metadata": {},
     "output_type": "execute_result"
    }
   ],
   "source": [
    "data.head()"
   ]
  },
  {
   "cell_type": "code",
   "execution_count": 175,
   "metadata": {},
   "outputs": [],
   "source": [
    "#column rename\n",
    "data = data.rename (columns = {'EventName' : 'event_name', 'DeviceIDHash' : 'device_id', 'EventTimestamp' : 'event_ts', 'ExpId' :'exp_id'})"
   ]
  },
  {
   "cell_type": "code",
   "execution_count": 133,
   "metadata": {},
   "outputs": [
    {
     "name": "stdout",
     "output_type": "stream",
     "text": [
      "<class 'pandas.core.frame.DataFrame'>\n",
      "RangeIndex: 244126 entries, 0 to 244125\n",
      "Data columns (total 4 columns):\n",
      " #   Column      Non-Null Count   Dtype \n",
      "---  ------      --------------   ----- \n",
      " 0   event_name  244126 non-null  object\n",
      " 1   device_id   244126 non-null  int64 \n",
      " 2   event_ts    244126 non-null  int64 \n",
      " 3   exp_id      244126 non-null  int64 \n",
      "dtypes: int64(3), object(1)\n",
      "memory usage: 7.5+ MB\n"
     ]
    }
   ],
   "source": [
    "data.info()"
   ]
  },
  {
   "cell_type": "code",
   "execution_count": 134,
   "metadata": {},
   "outputs": [],
   "source": [
    "#no missing values, data type in the date column needs to be changed"
   ]
  },
  {
   "cell_type": "code",
   "execution_count": 135,
   "metadata": {},
   "outputs": [],
   "source": [
    "# сhange the data type in the column with date and time information\n",
    "# add a column with date\n",
    "data['event_ts'] = pd.to_datetime(data['event_ts'], unit='s')"
   ]
  },
  {
   "cell_type": "code",
   "execution_count": 136,
   "metadata": {},
   "outputs": [],
   "source": [
    "data['event_date'] = data['event_ts'].dt.floor('d')"
   ]
  },
  {
   "cell_type": "code",
   "execution_count": 137,
   "metadata": {},
   "outputs": [
    {
     "data": {
      "text/html": [
       "<div>\n",
       "<style scoped>\n",
       "    .dataframe tbody tr th:only-of-type {\n",
       "        vertical-align: middle;\n",
       "    }\n",
       "\n",
       "    .dataframe tbody tr th {\n",
       "        vertical-align: top;\n",
       "    }\n",
       "\n",
       "    .dataframe thead th {\n",
       "        text-align: right;\n",
       "    }\n",
       "</style>\n",
       "<table border=\"1\" class=\"dataframe\">\n",
       "  <thead>\n",
       "    <tr style=\"text-align: right;\">\n",
       "      <th></th>\n",
       "      <th>event_name</th>\n",
       "      <th>device_id</th>\n",
       "      <th>event_ts</th>\n",
       "      <th>exp_id</th>\n",
       "      <th>event_date</th>\n",
       "    </tr>\n",
       "  </thead>\n",
       "  <tbody>\n",
       "    <tr>\n",
       "      <th>0</th>\n",
       "      <td>MainScreenAppear</td>\n",
       "      <td>4575588528974610257</td>\n",
       "      <td>2019-07-25 04:43:36</td>\n",
       "      <td>246</td>\n",
       "      <td>2019-07-25</td>\n",
       "    </tr>\n",
       "    <tr>\n",
       "      <th>1</th>\n",
       "      <td>MainScreenAppear</td>\n",
       "      <td>7416695313311560658</td>\n",
       "      <td>2019-07-25 11:11:42</td>\n",
       "      <td>246</td>\n",
       "      <td>2019-07-25</td>\n",
       "    </tr>\n",
       "    <tr>\n",
       "      <th>2</th>\n",
       "      <td>PaymentScreenSuccessful</td>\n",
       "      <td>3518123091307005509</td>\n",
       "      <td>2019-07-25 11:28:47</td>\n",
       "      <td>248</td>\n",
       "      <td>2019-07-25</td>\n",
       "    </tr>\n",
       "    <tr>\n",
       "      <th>3</th>\n",
       "      <td>CartScreenAppear</td>\n",
       "      <td>3518123091307005509</td>\n",
       "      <td>2019-07-25 11:28:47</td>\n",
       "      <td>248</td>\n",
       "      <td>2019-07-25</td>\n",
       "    </tr>\n",
       "    <tr>\n",
       "      <th>4</th>\n",
       "      <td>PaymentScreenSuccessful</td>\n",
       "      <td>6217807653094995999</td>\n",
       "      <td>2019-07-25 11:48:42</td>\n",
       "      <td>248</td>\n",
       "      <td>2019-07-25</td>\n",
       "    </tr>\n",
       "  </tbody>\n",
       "</table>\n",
       "</div>"
      ],
      "text/plain": [
       "                event_name            device_id            event_ts  exp_id  \\\n",
       "0         MainScreenAppear  4575588528974610257 2019-07-25 04:43:36     246   \n",
       "1         MainScreenAppear  7416695313311560658 2019-07-25 11:11:42     246   \n",
       "2  PaymentScreenSuccessful  3518123091307005509 2019-07-25 11:28:47     248   \n",
       "3         CartScreenAppear  3518123091307005509 2019-07-25 11:28:47     248   \n",
       "4  PaymentScreenSuccessful  6217807653094995999 2019-07-25 11:48:42     248   \n",
       "\n",
       "  event_date  \n",
       "0 2019-07-25  \n",
       "1 2019-07-25  \n",
       "2 2019-07-25  \n",
       "3 2019-07-25  \n",
       "4 2019-07-25  "
      ]
     },
     "execution_count": 137,
     "metadata": {},
     "output_type": "execute_result"
    }
   ],
   "source": [
    "data.head()"
   ]
  },
  {
   "cell_type": "code",
   "execution_count": 138,
   "metadata": {},
   "outputs": [
    {
     "data": {
      "text/plain": [
       "413"
      ]
     },
     "execution_count": 138,
     "metadata": {},
     "output_type": "execute_result"
    }
   ],
   "source": [
    "#check for explicit duplicates\n",
    "data.duplicated().sum()"
   ]
  },
  {
   "cell_type": "code",
   "execution_count": 139,
   "metadata": {},
   "outputs": [
    {
     "data": {
      "text/plain": [
       "0"
      ]
     },
     "execution_count": 139,
     "metadata": {},
     "output_type": "execute_result"
    }
   ],
   "source": [
    "#remove all excplicit duplicates\n",
    "data = data.drop_duplicates().reset_index(drop = True)\n",
    "data.duplicated().sum()"
   ]
  },
  {
   "cell_type": "code",
   "execution_count": 140,
   "metadata": {},
   "outputs": [
    {
     "name": "stdout",
     "output_type": "stream",
     "text": [
      "<class 'pandas.core.frame.DataFrame'>\n",
      "RangeIndex: 243713 entries, 0 to 243712\n",
      "Data columns (total 5 columns):\n",
      " #   Column      Non-Null Count   Dtype         \n",
      "---  ------      --------------   -----         \n",
      " 0   event_name  243713 non-null  object        \n",
      " 1   device_id   243713 non-null  int64         \n",
      " 2   event_ts    243713 non-null  datetime64[ns]\n",
      " 3   exp_id      243713 non-null  int64         \n",
      " 4   event_date  243713 non-null  datetime64[ns]\n",
      "dtypes: datetime64[ns](2), int64(2), object(1)\n",
      "memory usage: 9.3+ MB\n"
     ]
    }
   ],
   "source": [
    "data.info()"
   ]
  },
  {
   "cell_type": "markdown",
   "metadata": {},
   "source": [
    "### Sales funnel analysis"
   ]
  },
  {
   "cell_type": "code",
   "execution_count": 141,
   "metadata": {},
   "outputs": [
    {
     "data": {
      "text/plain": [
       "243713"
      ]
     },
     "execution_count": 141,
     "metadata": {},
     "output_type": "execute_result"
    }
   ],
   "source": [
    "#number of events in the log\n",
    "event_count = data['event_name'].count()\n",
    "event_count"
   ]
  },
  {
   "cell_type": "markdown",
   "metadata": {},
   "source": [
    "**The number of events in the log is 243713 after removing explicit duplicates.**"
   ]
  },
  {
   "cell_type": "code",
   "execution_count": 142,
   "metadata": {},
   "outputs": [
    {
     "data": {
      "text/plain": [
       "7551"
      ]
     },
     "execution_count": 142,
     "metadata": {},
     "output_type": "execute_result"
    }
   ],
   "source": [
    "#number of unique users in the log \n",
    "user_count = data['device_id'].nunique()\n",
    "user_count"
   ]
  },
  {
   "cell_type": "code",
   "execution_count": 143,
   "metadata": {},
   "outputs": [
    {
     "data": {
      "text/plain": [
       "32.0"
      ]
     },
     "execution_count": 143,
     "metadata": {},
     "output_type": "execute_result"
    }
   ],
   "source": [
    "#average number of events per user\n",
    "event_per_user = event_count/user_count\n",
    "event_per_user.round()"
   ]
  },
  {
   "cell_type": "code",
   "execution_count": 144,
   "metadata": {},
   "outputs": [
    {
     "data": {
      "text/plain": [
       "Timestamp('2019-07-25 04:43:36')"
      ]
     },
     "execution_count": 144,
     "metadata": {},
     "output_type": "execute_result"
    }
   ],
   "source": [
    "#minimum date of events in the log\n",
    "date_min = data['event_ts'].min()\n",
    "date_min"
   ]
  },
  {
   "cell_type": "code",
   "execution_count": 145,
   "metadata": {},
   "outputs": [
    {
     "data": {
      "text/plain": [
       "Timestamp('2019-08-07 21:15:17')"
      ]
     },
     "execution_count": 145,
     "metadata": {},
     "output_type": "execute_result"
    }
   ],
   "source": [
    "#maximun date of events in the log\n",
    "date_max = data['event_ts'].max()\n",
    "date_max"
   ]
  },
  {
   "cell_type": "markdown",
   "metadata": {},
   "source": [
    "**The data contains records of events in the application starting from July 25, 2019, and ending on August 7, 2019.**"
   ]
  },
  {
   "cell_type": "code",
   "execution_count": 146,
   "metadata": {},
   "outputs": [
    {
     "data": {
      "image/png": "[encoded data removed]",
      "text/plain": [
       "<Figure size 1400x500 with 1 Axes>"
      ]
     },
     "metadata": {},
     "output_type": "display_data"
    }
   ],
   "source": [
    "#histogram showing the distribution of events in the log by date.\n",
    "data['event_ts'].hist(bins=14*24, figsize=(14, 5))\n",
    "plt.title('Distribution of Log Entries by Date')\n",
    "plt.xlabel('Date')\n",
    "plt.ylabel('Frequency')\n",
    "plt.xticks(rotation = 45);"
   ]
  },
  {
   "cell_type": "markdown",
   "metadata": {},
   "source": [
    "**Around July 31st and August 1st, we observe a sharp increase in the number of events in the log. Let's check the event count depending on the date:**"
   ]
  },
  {
   "cell_type": "code",
   "execution_count": 147,
   "metadata": {},
   "outputs": [
    {
     "data": {
      "text/html": [
       "<div>\n",
       "<style scoped>\n",
       "    .dataframe tbody tr th:only-of-type {\n",
       "        vertical-align: middle;\n",
       "    }\n",
       "\n",
       "    .dataframe tbody tr th {\n",
       "        vertical-align: top;\n",
       "    }\n",
       "\n",
       "    .dataframe thead th {\n",
       "        text-align: right;\n",
       "    }\n",
       "</style>\n",
       "<table border=\"1\" class=\"dataframe\">\n",
       "  <thead>\n",
       "    <tr style=\"text-align: right;\">\n",
       "      <th></th>\n",
       "      <th>event_name</th>\n",
       "    </tr>\n",
       "    <tr>\n",
       "      <th>event_date</th>\n",
       "      <th></th>\n",
       "    </tr>\n",
       "  </thead>\n",
       "  <tbody>\n",
       "    <tr>\n",
       "      <th>2019-07-25</th>\n",
       "      <td>9</td>\n",
       "    </tr>\n",
       "    <tr>\n",
       "      <th>2019-07-26</th>\n",
       "      <td>31</td>\n",
       "    </tr>\n",
       "    <tr>\n",
       "      <th>2019-07-27</th>\n",
       "      <td>55</td>\n",
       "    </tr>\n",
       "    <tr>\n",
       "      <th>2019-07-28</th>\n",
       "      <td>105</td>\n",
       "    </tr>\n",
       "    <tr>\n",
       "      <th>2019-07-29</th>\n",
       "      <td>184</td>\n",
       "    </tr>\n",
       "    <tr>\n",
       "      <th>2019-07-30</th>\n",
       "      <td>412</td>\n",
       "    </tr>\n",
       "    <tr>\n",
       "      <th>2019-07-31</th>\n",
       "      <td>2030</td>\n",
       "    </tr>\n",
       "    <tr>\n",
       "      <th>2019-08-01</th>\n",
       "      <td>36141</td>\n",
       "    </tr>\n",
       "    <tr>\n",
       "      <th>2019-08-02</th>\n",
       "      <td>35554</td>\n",
       "    </tr>\n",
       "    <tr>\n",
       "      <th>2019-08-03</th>\n",
       "      <td>33282</td>\n",
       "    </tr>\n",
       "    <tr>\n",
       "      <th>2019-08-04</th>\n",
       "      <td>32968</td>\n",
       "    </tr>\n",
       "    <tr>\n",
       "      <th>2019-08-05</th>\n",
       "      <td>36058</td>\n",
       "    </tr>\n",
       "    <tr>\n",
       "      <th>2019-08-06</th>\n",
       "      <td>35788</td>\n",
       "    </tr>\n",
       "    <tr>\n",
       "      <th>2019-08-07</th>\n",
       "      <td>31096</td>\n",
       "    </tr>\n",
       "  </tbody>\n",
       "</table>\n",
       "</div>"
      ],
      "text/plain": [
       "            event_name\n",
       "event_date            \n",
       "2019-07-25           9\n",
       "2019-07-26          31\n",
       "2019-07-27          55\n",
       "2019-07-28         105\n",
       "2019-07-29         184\n",
       "2019-07-30         412\n",
       "2019-07-31        2030\n",
       "2019-08-01       36141\n",
       "2019-08-02       35554\n",
       "2019-08-03       33282\n",
       "2019-08-04       32968\n",
       "2019-08-05       36058\n",
       "2019-08-06       35788\n",
       "2019-08-07       31096"
      ]
     },
     "execution_count": 147,
     "metadata": {},
     "output_type": "execute_result"
    }
   ],
   "source": [
    "\n",
    "event_group = data.pivot_table(index = 'event_date', values = 'event_name', aggfunc = 'count' )\n",
    "event_group\n"
   ]
  },
  {
   "cell_type": "markdown",
   "metadata": {},
   "source": [
    "**We can see that the number of events (observations) sharply increases on August 1st. For further analysis, we will use data recorded from August 1st. To do this, we will make a slice and create a new table:**"
   ]
  },
  {
   "cell_type": "code",
   "execution_count": 148,
   "metadata": {},
   "outputs": [
    {
     "data": {
      "text/plain": [
       "Timestamp('2019-08-01 00:00:00')"
      ]
     },
     "execution_count": 148,
     "metadata": {},
     "output_type": "execute_result"
    }
   ],
   "source": [
    "#making a slice and checking the minimum date again:\n",
    "data_new = data.query ('event_date > 20190731')\n",
    "data_new['event_date'].min()"
   ]
  },
  {
   "cell_type": "code",
   "execution_count": 149,
   "metadata": {},
   "outputs": [
    {
     "data": {
      "text/plain": [
       "240887"
      ]
     },
     "execution_count": 149,
     "metadata": {},
     "output_type": "execute_result"
    }
   ],
   "source": [
    "#checking the number of events and users in the table with up-to-date data:\n",
    "event_count_new = data_new['event_name'].count()\n",
    "event_count_new"
   ]
  },
  {
   "cell_type": "code",
   "execution_count": 150,
   "metadata": {},
   "outputs": [
    {
     "data": {
      "text/plain": [
       "7534"
      ]
     },
     "execution_count": 150,
     "metadata": {},
     "output_type": "execute_result"
    }
   ],
   "source": [
    "user_count_new = data_new['device_id'].nunique()\n",
    "user_count_new"
   ]
  },
  {
   "cell_type": "code",
   "execution_count": 151,
   "metadata": {},
   "outputs": [],
   "source": [
    "#calculating losses of discarded data (events) and unique users in absolute terms after filtering out events before August 1st"
   ]
  },
  {
   "cell_type": "code",
   "execution_count": 152,
   "metadata": {},
   "outputs": [
    {
     "data": {
      "text/plain": [
       "2826"
      ]
     },
     "execution_count": 152,
     "metadata": {},
     "output_type": "execute_result"
    }
   ],
   "source": [
    "events_loss_abs = event_count - event_count_new\n",
    "events_loss_abs"
   ]
  },
  {
   "cell_type": "code",
   "execution_count": 153,
   "metadata": {},
   "outputs": [
    {
     "data": {
      "text/plain": [
       "17"
      ]
     },
     "execution_count": 153,
     "metadata": {},
     "output_type": "execute_result"
    }
   ],
   "source": [
    "users_loss_abs = user_count - user_count_new\n",
    "users_loss_abs"
   ]
  },
  {
   "cell_type": "code",
   "execution_count": 154,
   "metadata": {},
   "outputs": [],
   "source": [
    "#calculating the proportion of discarded data (events) and unique users after filtering out events before August 1st"
   ]
  },
  {
   "cell_type": "code",
   "execution_count": 155,
   "metadata": {},
   "outputs": [
    {
     "data": {
      "text/plain": [
       "1.159560630741896"
      ]
     },
     "execution_count": 155,
     "metadata": {},
     "output_type": "execute_result"
    }
   ],
   "source": [
    "events_loss = (1 - event_count_new/event_count)*100\n",
    "events_loss"
   ]
  },
  {
   "cell_type": "code",
   "execution_count": 156,
   "metadata": {},
   "outputs": [
    {
     "data": {
      "text/plain": [
       "0.22513574361011646"
      ]
     },
     "execution_count": 156,
     "metadata": {},
     "output_type": "execute_result"
    }
   ],
   "source": [
    "users_loss = (1- user_count_new/user_count)*100\n",
    "users_loss"
   ]
  },
  {
   "cell_type": "markdown",
   "metadata": {},
   "source": [
    "**After cleaning the data, we lost less than 1% of unique users and 1% of events in the log. In absolute terms it is 2826 events and 17 unique users, respectively**"
   ]
  },
  {
   "cell_type": "code",
   "execution_count": 157,
   "metadata": {},
   "outputs": [
    {
     "data": {
      "text/html": [
       "<div>\n",
       "<style scoped>\n",
       "    .dataframe tbody tr th:only-of-type {\n",
       "        vertical-align: middle;\n",
       "    }\n",
       "\n",
       "    .dataframe tbody tr th {\n",
       "        vertical-align: top;\n",
       "    }\n",
       "\n",
       "    .dataframe thead th {\n",
       "        text-align: right;\n",
       "    }\n",
       "</style>\n",
       "<table border=\"1\" class=\"dataframe\">\n",
       "  <thead>\n",
       "    <tr style=\"text-align: right;\">\n",
       "      <th></th>\n",
       "      <th>device_id</th>\n",
       "    </tr>\n",
       "    <tr>\n",
       "      <th>exp_id</th>\n",
       "      <th></th>\n",
       "    </tr>\n",
       "  </thead>\n",
       "  <tbody>\n",
       "    <tr>\n",
       "      <th>246</th>\n",
       "      <td>2484</td>\n",
       "    </tr>\n",
       "    <tr>\n",
       "      <th>247</th>\n",
       "      <td>2513</td>\n",
       "    </tr>\n",
       "    <tr>\n",
       "      <th>248</th>\n",
       "      <td>2537</td>\n",
       "    </tr>\n",
       "  </tbody>\n",
       "</table>\n",
       "</div>"
      ],
      "text/plain": [
       "        device_id\n",
       "exp_id           \n",
       "246          2484\n",
       "247          2513\n",
       "248          2537"
      ]
     },
     "execution_count": 157,
     "metadata": {},
     "output_type": "execute_result"
    }
   ],
   "source": [
    "#сhecking the distribution of users across groups:\n",
    "users_by_exp_group = data_new.groupby('exp_id').agg({'device_id' : 'nunique'})\n",
    "users_by_exp_group"
   ]
  },
  {
   "cell_type": "markdown",
   "metadata": {},
   "source": [
    "There are users in each group "
   ]
  },
  {
   "cell_type": "code",
   "execution_count": 158,
   "metadata": {},
   "outputs": [],
   "source": [
    "#checking which events are present in the log and how often they occur.\n",
    "#funnel_events = data.groupby('event_name').agg({'device_id': 'count'}).sort_values(by = 'device_id', ascending = False)\n",
    "\n",
    "#funnel_events"
   ]
  },
  {
   "cell_type": "code",
   "execution_count": 159,
   "metadata": {},
   "outputs": [],
   "source": [
    "#number of users who performed each of the events in the log\n",
    "#funnel_users = data.groupby('event_name').agg({'device_id': 'nunique'}).sort_values(by='device_id', ascending=False)\n",
    "#funnel_users"
   ]
  },
  {
   "cell_type": "code",
   "execution_count": 160,
   "metadata": {},
   "outputs": [],
   "source": [
    "#merging the tables and finding the proportion of users who performed at least one event\n",
    "#funnel = funnel_events.merge(funnel_users, on = 'event_name')\n",
    "#funnel.columns = ['events_count', 'users_count']\n",
    "#funnel"
   ]
  },
  {
   "cell_type": "code",
   "execution_count": 161,
   "metadata": {},
   "outputs": [
    {
     "data": {
      "text/html": [
       "<div>\n",
       "<style scoped>\n",
       "    .dataframe tbody tr th:only-of-type {\n",
       "        vertical-align: middle;\n",
       "    }\n",
       "\n",
       "    .dataframe tbody tr th {\n",
       "        vertical-align: top;\n",
       "    }\n",
       "\n",
       "    .dataframe thead th {\n",
       "        text-align: right;\n",
       "    }\n",
       "</style>\n",
       "<table border=\"1\" class=\"dataframe\">\n",
       "  <thead>\n",
       "    <tr style=\"text-align: right;\">\n",
       "      <th></th>\n",
       "      <th>events_count</th>\n",
       "      <th>users_count</th>\n",
       "    </tr>\n",
       "    <tr>\n",
       "      <th>event_name</th>\n",
       "      <th></th>\n",
       "      <th></th>\n",
       "    </tr>\n",
       "  </thead>\n",
       "  <tbody>\n",
       "    <tr>\n",
       "      <th>MainScreenAppear</th>\n",
       "      <td>119101</td>\n",
       "      <td>7439</td>\n",
       "    </tr>\n",
       "    <tr>\n",
       "      <th>OffersScreenAppear</th>\n",
       "      <td>46808</td>\n",
       "      <td>4613</td>\n",
       "    </tr>\n",
       "    <tr>\n",
       "      <th>CartScreenAppear</th>\n",
       "      <td>42668</td>\n",
       "      <td>3749</td>\n",
       "    </tr>\n",
       "    <tr>\n",
       "      <th>PaymentScreenSuccessful</th>\n",
       "      <td>34118</td>\n",
       "      <td>3547</td>\n",
       "    </tr>\n",
       "    <tr>\n",
       "      <th>Tutorial</th>\n",
       "      <td>1018</td>\n",
       "      <td>847</td>\n",
       "    </tr>\n",
       "  </tbody>\n",
       "</table>\n",
       "</div>"
      ],
      "text/plain": [
       "                         events_count  users_count\n",
       "event_name                                        \n",
       "MainScreenAppear               119101         7439\n",
       "OffersScreenAppear              46808         4613\n",
       "CartScreenAppear                42668         3749\n",
       "PaymentScreenSuccessful         34118         3547\n",
       "Tutorial                         1018          847"
      ]
     },
     "execution_count": 161,
     "metadata": {},
     "output_type": "execute_result"
    }
   ],
   "source": [
    "funnel = data.groupby('event_name').agg(events_count=('device_id', 'count'),\n",
    "                                         users_count=('device_id', 'nunique')).sort_values(by='events_count', ascending=False)\n",
    "funnel\n"
   ]
  },
  {
   "cell_type": "code",
   "execution_count": 162,
   "metadata": {},
   "outputs": [
    {
     "data": {
      "text/html": [
       "<style type=\"text/css\">\n",
       "</style>\n",
       "<table id=\"T_c134f\">\n",
       "  <thead>\n",
       "    <tr>\n",
       "      <th class=\"blank level0\" >&nbsp;</th>\n",
       "      <th id=\"T_c134f_level0_col0\" class=\"col_heading level0 col0\" >events_count</th>\n",
       "      <th id=\"T_c134f_level0_col1\" class=\"col_heading level0 col1\" >users_count</th>\n",
       "      <th id=\"T_c134f_level0_col2\" class=\"col_heading level0 col2\" >ratio_user_event_all_users</th>\n",
       "    </tr>\n",
       "    <tr>\n",
       "      <th class=\"index_name level0\" >event_name</th>\n",
       "      <th class=\"blank col0\" >&nbsp;</th>\n",
       "      <th class=\"blank col1\" >&nbsp;</th>\n",
       "      <th class=\"blank col2\" >&nbsp;</th>\n",
       "    </tr>\n",
       "  </thead>\n",
       "  <tbody>\n",
       "    <tr>\n",
       "      <th id=\"T_c134f_level0_row0\" class=\"row_heading level0 row0\" >MainScreenAppear</th>\n",
       "      <td id=\"T_c134f_row0_col0\" class=\"data row0 col0\" >119101</td>\n",
       "      <td id=\"T_c134f_row0_col1\" class=\"data row0 col1\" >7439</td>\n",
       "      <td id=\"T_c134f_row0_col2\" class=\"data row0 col2\" >98.74%</td>\n",
       "    </tr>\n",
       "    <tr>\n",
       "      <th id=\"T_c134f_level0_row1\" class=\"row_heading level0 row1\" >OffersScreenAppear</th>\n",
       "      <td id=\"T_c134f_row1_col0\" class=\"data row1 col0\" >46808</td>\n",
       "      <td id=\"T_c134f_row1_col1\" class=\"data row1 col1\" >4613</td>\n",
       "      <td id=\"T_c134f_row1_col2\" class=\"data row1 col2\" >61.23%</td>\n",
       "    </tr>\n",
       "    <tr>\n",
       "      <th id=\"T_c134f_level0_row2\" class=\"row_heading level0 row2\" >CartScreenAppear</th>\n",
       "      <td id=\"T_c134f_row2_col0\" class=\"data row2 col0\" >42668</td>\n",
       "      <td id=\"T_c134f_row2_col1\" class=\"data row2 col1\" >3749</td>\n",
       "      <td id=\"T_c134f_row2_col2\" class=\"data row2 col2\" >49.76%</td>\n",
       "    </tr>\n",
       "    <tr>\n",
       "      <th id=\"T_c134f_level0_row3\" class=\"row_heading level0 row3\" >PaymentScreenSuccessful</th>\n",
       "      <td id=\"T_c134f_row3_col0\" class=\"data row3 col0\" >34118</td>\n",
       "      <td id=\"T_c134f_row3_col1\" class=\"data row3 col1\" >3547</td>\n",
       "      <td id=\"T_c134f_row3_col2\" class=\"data row3 col2\" >47.08%</td>\n",
       "    </tr>\n",
       "    <tr>\n",
       "      <th id=\"T_c134f_level0_row4\" class=\"row_heading level0 row4\" >Tutorial</th>\n",
       "      <td id=\"T_c134f_row4_col0\" class=\"data row4 col0\" >1018</td>\n",
       "      <td id=\"T_c134f_row4_col1\" class=\"data row4 col1\" >847</td>\n",
       "      <td id=\"T_c134f_row4_col2\" class=\"data row4 col2\" >11.24%</td>\n",
       "    </tr>\n",
       "  </tbody>\n",
       "</table>\n"
      ],
      "text/plain": [
       "<pandas.io.formats.style.Styler at 0x13128b490>"
      ]
     },
     "execution_count": 162,
     "metadata": {},
     "output_type": "execute_result"
    }
   ],
   "source": [
    "#proportion of users who performed at least one action in the funnel\n",
    "funnel ['ratio_user_event_all_users'] = funnel['users_count']/user_count_new\n",
    "funnel.style.format({'ratio_user_event_all_users' :'{:.2%}'})"
   ]
  },
  {
   "cell_type": "markdown",
   "metadata": {},
   "source": [
    "**Sequence of steps in the funnel:**\n",
    "One could assume that the sequence of steps in the funnel is as follows:\n",
    "1. MainScreenAppear\n",
    "2. OffersScreenAppear\n",
    "3. CartScreenAppear\n",
    "4. PaymentScreenSuccessful\n",
    "\n",
    "The Tutorial event was completed by 11% of users. This is less than the number of people who made a purchase, so we assume that this event does not affect payment and will remove it from the funnel."
   ]
  },
  {
   "cell_type": "code",
   "execution_count": 163,
   "metadata": {},
   "outputs": [
    {
     "data": {
      "text/html": [
       "<div>\n",
       "<style scoped>\n",
       "    .dataframe tbody tr th:only-of-type {\n",
       "        vertical-align: middle;\n",
       "    }\n",
       "\n",
       "    .dataframe tbody tr th {\n",
       "        vertical-align: top;\n",
       "    }\n",
       "\n",
       "    .dataframe thead th {\n",
       "        text-align: right;\n",
       "    }\n",
       "</style>\n",
       "<table border=\"1\" class=\"dataframe\">\n",
       "  <thead>\n",
       "    <tr style=\"text-align: right;\">\n",
       "      <th></th>\n",
       "      <th>events_count</th>\n",
       "      <th>users_count</th>\n",
       "      <th>ratio_user_event_all_users</th>\n",
       "    </tr>\n",
       "    <tr>\n",
       "      <th>event_name</th>\n",
       "      <th></th>\n",
       "      <th></th>\n",
       "      <th></th>\n",
       "    </tr>\n",
       "  </thead>\n",
       "  <tbody>\n",
       "    <tr>\n",
       "      <th>MainScreenAppear</th>\n",
       "      <td>119101</td>\n",
       "      <td>7439</td>\n",
       "      <td>0.987390</td>\n",
       "    </tr>\n",
       "    <tr>\n",
       "      <th>OffersScreenAppear</th>\n",
       "      <td>46808</td>\n",
       "      <td>4613</td>\n",
       "      <td>0.612291</td>\n",
       "    </tr>\n",
       "    <tr>\n",
       "      <th>CartScreenAppear</th>\n",
       "      <td>42668</td>\n",
       "      <td>3749</td>\n",
       "      <td>0.497611</td>\n",
       "    </tr>\n",
       "    <tr>\n",
       "      <th>PaymentScreenSuccessful</th>\n",
       "      <td>34118</td>\n",
       "      <td>3547</td>\n",
       "      <td>0.470799</td>\n",
       "    </tr>\n",
       "  </tbody>\n",
       "</table>\n",
       "</div>"
      ],
      "text/plain": [
       "                         events_count  users_count  ratio_user_event_all_users\n",
       "event_name                                                                    \n",
       "MainScreenAppear               119101         7439                    0.987390\n",
       "OffersScreenAppear              46808         4613                    0.612291\n",
       "CartScreenAppear                42668         3749                    0.497611\n",
       "PaymentScreenSuccessful         34118         3547                    0.470799"
      ]
     },
     "execution_count": 163,
     "metadata": {},
     "output_type": "execute_result"
    }
   ],
   "source": [
    "#removing all Tutorial events\n",
    "funnel = funnel.drop(index = 'Tutorial')\n",
    "funnel"
   ]
  },
  {
   "cell_type": "code",
   "execution_count": 164,
   "metadata": {},
   "outputs": [
    {
     "data": {
      "text/html": [
       "<div>\n",
       "<style scoped>\n",
       "    .dataframe tbody tr th:only-of-type {\n",
       "        vertical-align: middle;\n",
       "    }\n",
       "\n",
       "    .dataframe tbody tr th {\n",
       "        vertical-align: top;\n",
       "    }\n",
       "\n",
       "    .dataframe thead th {\n",
       "        text-align: right;\n",
       "    }\n",
       "</style>\n",
       "<table border=\"1\" class=\"dataframe\">\n",
       "  <thead>\n",
       "    <tr style=\"text-align: right;\">\n",
       "      <th></th>\n",
       "      <th>events_count</th>\n",
       "      <th>users_count</th>\n",
       "      <th>ratio_user_event_all_users</th>\n",
       "      <th>conversion_step_1</th>\n",
       "      <th>conversion_step</th>\n",
       "    </tr>\n",
       "    <tr>\n",
       "      <th>event_name</th>\n",
       "      <th></th>\n",
       "      <th></th>\n",
       "      <th></th>\n",
       "      <th></th>\n",
       "      <th></th>\n",
       "    </tr>\n",
       "  </thead>\n",
       "  <tbody>\n",
       "    <tr>\n",
       "      <th>MainScreenAppear</th>\n",
       "      <td>119101</td>\n",
       "      <td>7439</td>\n",
       "      <td>0.987390</td>\n",
       "      <td>1.000000</td>\n",
       "      <td>1.000000</td>\n",
       "    </tr>\n",
       "    <tr>\n",
       "      <th>OffersScreenAppear</th>\n",
       "      <td>46808</td>\n",
       "      <td>4613</td>\n",
       "      <td>0.612291</td>\n",
       "      <td>0.620110</td>\n",
       "      <td>0.620110</td>\n",
       "    </tr>\n",
       "    <tr>\n",
       "      <th>CartScreenAppear</th>\n",
       "      <td>42668</td>\n",
       "      <td>3749</td>\n",
       "      <td>0.497611</td>\n",
       "      <td>0.812703</td>\n",
       "      <td>0.812703</td>\n",
       "    </tr>\n",
       "    <tr>\n",
       "      <th>PaymentScreenSuccessful</th>\n",
       "      <td>34118</td>\n",
       "      <td>3547</td>\n",
       "      <td>0.470799</td>\n",
       "      <td>0.946119</td>\n",
       "      <td>0.946119</td>\n",
       "    </tr>\n",
       "  </tbody>\n",
       "</table>\n",
       "</div>"
      ],
      "text/plain": [
       "                         events_count  users_count  \\\n",
       "event_name                                           \n",
       "MainScreenAppear               119101         7439   \n",
       "OffersScreenAppear              46808         4613   \n",
       "CartScreenAppear                42668         3749   \n",
       "PaymentScreenSuccessful         34118         3547   \n",
       "\n",
       "                         ratio_user_event_all_users  conversion_step_1  \\\n",
       "event_name                                                               \n",
       "MainScreenAppear                           0.987390           1.000000   \n",
       "OffersScreenAppear                         0.612291           0.620110   \n",
       "CartScreenAppear                           0.497611           0.812703   \n",
       "PaymentScreenSuccessful                    0.470799           0.946119   \n",
       "\n",
       "                         conversion_step  \n",
       "event_name                                \n",
       "MainScreenAppear                1.000000  \n",
       "OffersScreenAppear              0.620110  \n",
       "CartScreenAppear                0.812703  \n",
       "PaymentScreenSuccessful         0.946119  "
      ]
     },
     "execution_count": 164,
     "metadata": {},
     "output_type": "execute_result"
    }
   ],
   "source": [
    "#calculating the conversion rate for each step.\n",
    "funnel['conversion_step_1'] = funnel['users_count'].pct_change().fillna(0)+1\n",
    "funnel['conversion_step'] = funnel['users_count']/funnel['users_count'].shift(periods=1, freq=None, axis=0, fill_value=7439)\n",
    "funnel.style.format({'ratio_user_event_all_users' :'{:.2%}', 'conversion_step' : '{:.2%}'})\n",
    "funnel"
   ]
  },
  {
   "cell_type": "code",
   "execution_count": 165,
   "metadata": {},
   "outputs": [
    {
     "data": {
      "text/html": [
       "<div>\n",
       "<style scoped>\n",
       "    .dataframe tbody tr th:only-of-type {\n",
       "        vertical-align: middle;\n",
       "    }\n",
       "\n",
       "    .dataframe tbody tr th {\n",
       "        vertical-align: top;\n",
       "    }\n",
       "\n",
       "    .dataframe thead th {\n",
       "        text-align: right;\n",
       "    }\n",
       "</style>\n",
       "<table border=\"1\" class=\"dataframe\">\n",
       "  <thead>\n",
       "    <tr style=\"text-align: right;\">\n",
       "      <th></th>\n",
       "      <th>event_name</th>\n",
       "      <th>events_count</th>\n",
       "      <th>users_count</th>\n",
       "      <th>ratio_user_event_all_users</th>\n",
       "      <th>conversion_step_1</th>\n",
       "      <th>conversion_step</th>\n",
       "    </tr>\n",
       "  </thead>\n",
       "  <tbody>\n",
       "    <tr>\n",
       "      <th>0</th>\n",
       "      <td>MainScreenAppear</td>\n",
       "      <td>119101</td>\n",
       "      <td>7439</td>\n",
       "      <td>0.987390</td>\n",
       "      <td>1.000000</td>\n",
       "      <td>1.000000</td>\n",
       "    </tr>\n",
       "    <tr>\n",
       "      <th>1</th>\n",
       "      <td>OffersScreenAppear</td>\n",
       "      <td>46808</td>\n",
       "      <td>4613</td>\n",
       "      <td>0.612291</td>\n",
       "      <td>0.620110</td>\n",
       "      <td>0.620110</td>\n",
       "    </tr>\n",
       "    <tr>\n",
       "      <th>2</th>\n",
       "      <td>CartScreenAppear</td>\n",
       "      <td>42668</td>\n",
       "      <td>3749</td>\n",
       "      <td>0.497611</td>\n",
       "      <td>0.812703</td>\n",
       "      <td>0.812703</td>\n",
       "    </tr>\n",
       "    <tr>\n",
       "      <th>3</th>\n",
       "      <td>PaymentScreenSuccessful</td>\n",
       "      <td>34118</td>\n",
       "      <td>3547</td>\n",
       "      <td>0.470799</td>\n",
       "      <td>0.946119</td>\n",
       "      <td>0.946119</td>\n",
       "    </tr>\n",
       "  </tbody>\n",
       "</table>\n",
       "</div>"
      ],
      "text/plain": [
       "                event_name  events_count  users_count  \\\n",
       "0         MainScreenAppear        119101         7439   \n",
       "1       OffersScreenAppear         46808         4613   \n",
       "2         CartScreenAppear         42668         3749   \n",
       "3  PaymentScreenSuccessful         34118         3547   \n",
       "\n",
       "   ratio_user_event_all_users  conversion_step_1  conversion_step  \n",
       "0                    0.987390           1.000000         1.000000  \n",
       "1                    0.612291           0.620110         0.620110  \n",
       "2                    0.497611           0.812703         0.812703  \n",
       "3                    0.470799           0.946119         0.946119  "
      ]
     },
     "execution_count": 165,
     "metadata": {},
     "output_type": "execute_result"
    }
   ],
   "source": [
    "#restoring the indices to the table\n",
    "funnel = funnel.reset_index()\n",
    "funnel"
   ]
  },
  {
   "cell_type": "code",
   "execution_count": 166,
   "metadata": {},
   "outputs": [
    {
     "data": {
      "text/html": [
       "<div>\n",
       "<style scoped>\n",
       "    .dataframe tbody tr th:only-of-type {\n",
       "        vertical-align: middle;\n",
       "    }\n",
       "\n",
       "    .dataframe tbody tr th {\n",
       "        vertical-align: top;\n",
       "    }\n",
       "\n",
       "    .dataframe thead th {\n",
       "        text-align: right;\n",
       "    }\n",
       "</style>\n",
       "<table border=\"1\" class=\"dataframe\">\n",
       "  <thead>\n",
       "    <tr style=\"text-align: right;\">\n",
       "      <th></th>\n",
       "      <th>event_name</th>\n",
       "      <th>events_count</th>\n",
       "      <th>users_count</th>\n",
       "      <th>ratio_user_event_all_users</th>\n",
       "      <th>conversion_step_1</th>\n",
       "      <th>conversion_step</th>\n",
       "      <th>conversion</th>\n",
       "    </tr>\n",
       "  </thead>\n",
       "  <tbody>\n",
       "    <tr>\n",
       "      <th>0</th>\n",
       "      <td>MainScreenAppear</td>\n",
       "      <td>119101</td>\n",
       "      <td>7439</td>\n",
       "      <td>0.987390</td>\n",
       "      <td>1.000000</td>\n",
       "      <td>1.000000</td>\n",
       "      <td>1.000000</td>\n",
       "    </tr>\n",
       "    <tr>\n",
       "      <th>1</th>\n",
       "      <td>OffersScreenAppear</td>\n",
       "      <td>46808</td>\n",
       "      <td>4613</td>\n",
       "      <td>0.612291</td>\n",
       "      <td>0.620110</td>\n",
       "      <td>0.620110</td>\n",
       "      <td>0.620110</td>\n",
       "    </tr>\n",
       "    <tr>\n",
       "      <th>2</th>\n",
       "      <td>CartScreenAppear</td>\n",
       "      <td>42668</td>\n",
       "      <td>3749</td>\n",
       "      <td>0.497611</td>\n",
       "      <td>0.812703</td>\n",
       "      <td>0.812703</td>\n",
       "      <td>0.503966</td>\n",
       "    </tr>\n",
       "    <tr>\n",
       "      <th>3</th>\n",
       "      <td>PaymentScreenSuccessful</td>\n",
       "      <td>34118</td>\n",
       "      <td>3547</td>\n",
       "      <td>0.470799</td>\n",
       "      <td>0.946119</td>\n",
       "      <td>0.946119</td>\n",
       "      <td>0.476811</td>\n",
       "    </tr>\n",
       "  </tbody>\n",
       "</table>\n",
       "</div>"
      ],
      "text/plain": [
       "                event_name  events_count  users_count  \\\n",
       "0         MainScreenAppear        119101         7439   \n",
       "1       OffersScreenAppear         46808         4613   \n",
       "2         CartScreenAppear         42668         3749   \n",
       "3  PaymentScreenSuccessful         34118         3547   \n",
       "\n",
       "   ratio_user_event_all_users  conversion_step_1  conversion_step  conversion  \n",
       "0                    0.987390           1.000000         1.000000    1.000000  \n",
       "1                    0.612291           0.620110         0.620110    0.620110  \n",
       "2                    0.497611           0.812703         0.812703    0.503966  \n",
       "3                    0.470799           0.946119         0.946119    0.476811  "
      ]
     },
     "execution_count": 166,
     "metadata": {},
     "output_type": "execute_result"
    }
   ],
   "source": [
    "#calculating standart conversion\n",
    "funnel['conversion'] = funnel['users_count']/funnel.loc[0, 'users_count']\n",
    "funnel.style.format({'ratio_user_event_all_users' :'{:.2%}', 'conversion_step' : '{:.2%}', 'conversion' : '{:.2%}'})\n",
    "funnel"
   ]
  },
  {
   "cell_type": "code",
   "execution_count": 169,
   "metadata": {},
   "outputs": [
    {
     "data": {
      "application/vnd.plotly.v1+json": {
       "config": {
        "plotlyServerURL": "https://plot.ly"
       },
       "data": [
        {
         "type": "funnel",
         "x": [
          7439,
          4613,
          3749,
          3547
         ],
         "y": [
          "MainScreenAppear",
          "OffersScreenAppear",
          "CartScreenAppear",
          "PaymentScreenSuccessful"
         ]
        }
       ],
       "layout": {
        "template": {
         "data": {
          "bar": [
           {
            "error_x": {
             "color": "#2a3f5f"
            },
            "error_y": {
             "color": "#2a3f5f"
            },
            "marker": {
             "line": {
              "color": "#E5ECF6",
              "width": 0.5
             },
             "pattern": {
              "fillmode": "overlay",
              "size": 10,
              "solidity": 0.2
             }
            },
            "type": "bar"
           }
          ],
          "barpolar": [
           {
            "marker": {
             "line": {
              "color": "#E5ECF6",
              "width": 0.5
             },
             "pattern": {
              "fillmode": "overlay",
              "size": 10,
              "solidity": 0.2
             }
            },
            "type": "barpolar"
           }
          ],
          "carpet": [
           {
            "aaxis": {
             "endlinecolor": "#2a3f5f",
             "gridcolor": "white",
             "linecolor": "white",
             "minorgridcolor": "white",
             "startlinecolor": "#2a3f5f"
            },
            "baxis": {
             "endlinecolor": "#2a3f5f",
             "gridcolor": "white",
             "linecolor": "white",
             "minorgridcolor": "white",
             "startlinecolor": "#2a3f5f"
            },
            "type": "carpet"
           }
          ],
          "choropleth": [
           {
            "colorbar": {
             "outlinewidth": 0,
             "ticks": ""
            },
            "type": "choropleth"
           }
          ],
          "contour": [
           {
            "colorbar": {
             "outlinewidth": 0,
             "ticks": ""
            },
            "colorscale": [
             [
              0,
              "#0d0887"
             ],
             [
              0.1111111111111111,
              "#46039f"
             ],
             [
              0.2222222222222222,
              "#7201a8"
             ],
             [
              0.3333333333333333,
              "#9c179e"
             ],
             [
              0.4444444444444444,
              "#bd3786"
             ],
             [
              0.5555555555555556,
              "#d8576b"
             ],
             [
              0.6666666666666666,
              "#ed7953"
             ],
             [
              0.7777777777777778,
              "#fb9f3a"
             ],
             [
              0.8888888888888888,
              "#fdca26"
             ],
             [
              1,
              "#f0f921"
             ]
            ],
            "type": "contour"
           }
          ],
          "contourcarpet": [
           {
            "colorbar": {
             "outlinewidth": 0,
             "ticks": ""
            },
            "type": "contourcarpet"
           }
          ],
          "heatmap": [
           {
            "colorbar": {
             "outlinewidth": 0,
             "ticks": ""
            },
            "colorscale": [
             [
              0,
              "#0d0887"
             ],
             [
              0.1111111111111111,
              "#46039f"
             ],
             [
              0.2222222222222222,
              "#7201a8"
             ],
             [
              0.3333333333333333,
              "#9c179e"
             ],
             [
              0.4444444444444444,
              "#bd3786"
             ],
             [
              0.5555555555555556,
              "#d8576b"
             ],
             [
              0.6666666666666666,
              "#ed7953"
             ],
             [
              0.7777777777777778,
              "#fb9f3a"
             ],
             [
              0.8888888888888888,
              "#fdca26"
             ],
             [
              1,
              "#f0f921"
             ]
            ],
            "type": "heatmap"
           }
          ],
          "heatmapgl": [
           {
            "colorbar": {
             "outlinewidth": 0,
             "ticks": ""
            },
            "colorscale": [
             [
              0,
              "#0d0887"
             ],
             [
              0.1111111111111111,
              "#46039f"
             ],
             [
              0.2222222222222222,
              "#7201a8"
             ],
             [
              0.3333333333333333,
              "#9c179e"
             ],
             [
              0.4444444444444444,
              "#bd3786"
             ],
             [
              0.5555555555555556,
              "#d8576b"
             ],
             [
              0.6666666666666666,
              "#ed7953"
             ],
             [
              0.7777777777777778,
              "#fb9f3a"
             ],
             [
              0.8888888888888888,
              "#fdca26"
             ],
             [
              1,
              "#f0f921"
             ]
            ],
            "type": "heatmapgl"
           }
          ],
          "histogram": [
           {
            "marker": {
             "pattern": {
              "fillmode": "overlay",
              "size": 10,
              "solidity": 0.2
             }
            },
            "type": "histogram"
           }
          ],
          "histogram2d": [
           {
            "colorbar": {
             "outlinewidth": 0,
             "ticks": ""
            },
            "colorscale": [
             [
              0,
              "#0d0887"
             ],
             [
              0.1111111111111111,
              "#46039f"
             ],
             [
              0.2222222222222222,
              "#7201a8"
             ],
             [
              0.3333333333333333,
              "#9c179e"
             ],
             [
              0.4444444444444444,
              "#bd3786"
             ],
             [
              0.5555555555555556,
              "#d8576b"
             ],
             [
              0.6666666666666666,
              "#ed7953"
             ],
             [
              0.7777777777777778,
              "#fb9f3a"
             ],
             [
              0.8888888888888888,
              "#fdca26"
             ],
             [
              1,
              "#f0f921"
             ]
            ],
            "type": "histogram2d"
           }
          ],
          "histogram2dcontour": [
           {
            "colorbar": {
             "outlinewidth": 0,
             "ticks": ""
            },
            "colorscale": [
             [
              0,
              "#0d0887"
             ],
             [
              0.1111111111111111,
              "#46039f"
             ],
             [
              0.2222222222222222,
              "#7201a8"
             ],
             [
              0.3333333333333333,
              "#9c179e"
             ],
             [
              0.4444444444444444,
              "#bd3786"
             ],
             [
              0.5555555555555556,
              "#d8576b"
             ],
             [
              0.6666666666666666,
              "#ed7953"
             ],
             [
              0.7777777777777778,
              "#fb9f3a"
             ],
             [
              0.8888888888888888,
              "#fdca26"
             ],
             [
              1,
              "#f0f921"
             ]
            ],
            "type": "histogram2dcontour"
           }
          ],
          "mesh3d": [
           {
            "colorbar": {
             "outlinewidth": 0,
             "ticks": ""
            },
            "type": "mesh3d"
           }
          ],
          "parcoords": [
           {
            "line": {
             "colorbar": {
              "outlinewidth": 0,
              "ticks": ""
             }
            },
            "type": "parcoords"
           }
          ],
          "pie": [
           {
            "automargin": true,
            "type": "pie"
           }
          ],
          "scatter": [
           {
            "fillpattern": {
             "fillmode": "overlay",
             "size": 10,
             "solidity": 0.2
            },
            "type": "scatter"
           }
          ],
          "scatter3d": [
           {
            "line": {
             "colorbar": {
              "outlinewidth": 0,
              "ticks": ""
             }
            },
            "marker": {
             "colorbar": {
              "outlinewidth": 0,
              "ticks": ""
             }
            },
            "type": "scatter3d"
           }
          ],
          "scattercarpet": [
           {
            "marker": {
             "colorbar": {
              "outlinewidth": 0,
              "ticks": ""
             }
            },
            "type": "scattercarpet"
           }
          ],
          "scattergeo": [
           {
            "marker": {
             "colorbar": {
              "outlinewidth": 0,
              "ticks": ""
             }
            },
            "type": "scattergeo"
           }
          ],
          "scattergl": [
           {
            "marker": {
             "colorbar": {
              "outlinewidth": 0,
              "ticks": ""
             }
            },
            "type": "scattergl"
           }
          ],
          "scattermapbox": [
           {
            "marker": {
             "colorbar": {
              "outlinewidth": 0,
              "ticks": ""
             }
            },
            "type": "scattermapbox"
           }
          ],
          "scatterpolar": [
           {
            "marker": {
             "colorbar": {
              "outlinewidth": 0,
              "ticks": ""
             }
            },
            "type": "scatterpolar"
           }
          ],
          "scatterpolargl": [
           {
            "marker": {
             "colorbar": {
              "outlinewidth": 0,
              "ticks": ""
             }
            },
            "type": "scatterpolargl"
           }
          ],
          "scatterternary": [
           {
            "marker": {
             "colorbar": {
              "outlinewidth": 0,
              "ticks": ""
             }
            },
            "type": "scatterternary"
           }
          ],
          "surface": [
           {
            "colorbar": {
             "outlinewidth": 0,
             "ticks": ""
            },
            "colorscale": [
             [
              0,
              "#0d0887"
             ],
             [
              0.1111111111111111,
              "#46039f"
             ],
             [
              0.2222222222222222,
              "#7201a8"
             ],
             [
              0.3333333333333333,
              "#9c179e"
             ],
             [
              0.4444444444444444,
              "#bd3786"
             ],
             [
              0.5555555555555556,
              "#d8576b"
             ],
             [
              0.6666666666666666,
              "#ed7953"
             ],
             [
              0.7777777777777778,
              "#fb9f3a"
             ],
             [
              0.8888888888888888,
              "#fdca26"
             ],
             [
              1,
              "#f0f921"
             ]
            ],
            "type": "surface"
           }
          ],
          "table": [
           {
            "cells": {
             "fill": {
              "color": "#EBF0F8"
             },
             "line": {
              "color": "white"
             }
            },
            "header": {
             "fill": {
              "color": "#C8D4E3"
             },
             "line": {
              "color": "white"
             }
            },
            "type": "table"
           }
          ]
         },
         "layout": {
          "annotationdefaults": {
           "arrowcolor": "#2a3f5f",
           "arrowhead": 0,
           "arrowwidth": 1
          },
          "autotypenumbers": "strict",
          "coloraxis": {
           "colorbar": {
            "outlinewidth": 0,
            "ticks": ""
           }
          },
          "colorscale": {
           "diverging": [
            [
             0,
             "#8e0152"
            ],
            [
             0.1,
             "#c51b7d"
            ],
            [
             0.2,
             "#de77ae"
            ],
            [
             0.3,
             "#f1b6da"
            ],
            [
             0.4,
             "#fde0ef"
            ],
            [
             0.5,
             "#f7f7f7"
            ],
            [
             0.6,
             "#e6f5d0"
            ],
            [
             0.7,
             "#b8e186"
            ],
            [
             0.8,
             "#7fbc41"
            ],
            [
             0.9,
             "#4d9221"
            ],
            [
             1,
             "#276419"
            ]
           ],
           "sequential": [
            [
             0,
             "#0d0887"
            ],
            [
             0.1111111111111111,
             "#46039f"
            ],
            [
             0.2222222222222222,
             "#7201a8"
            ],
            [
             0.3333333333333333,
             "#9c179e"
            ],
            [
             0.4444444444444444,
             "#bd3786"
            ],
            [
             0.5555555555555556,
             "#d8576b"
            ],
            [
             0.6666666666666666,
             "#ed7953"
            ],
            [
             0.7777777777777778,
             "#fb9f3a"
            ],
            [
             0.8888888888888888,
             "#fdca26"
            ],
            [
             1,
             "#f0f921"
            ]
           ],
           "sequentialminus": [
            [
             0,
             "#0d0887"
            ],
            [
             0.1111111111111111,
             "#46039f"
            ],
            [
             0.2222222222222222,
             "#7201a8"
            ],
            [
             0.3333333333333333,
             "#9c179e"
            ],
            [
             0.4444444444444444,
             "#bd3786"
            ],
            [
             0.5555555555555556,
             "#d8576b"
            ],
            [
             0.6666666666666666,
             "#ed7953"
            ],
            [
             0.7777777777777778,
             "#fb9f3a"
            ],
            [
             0.8888888888888888,
             "#fdca26"
            ],
            [
             1,
             "#f0f921"
            ]
           ]
          },
          "colorway": [
           "#636efa",
           "#EF553B",
           "#00cc96",
           "#ab63fa",
           "#FFA15A",
           "#19d3f3",
           "#FF6692",
           "#B6E880",
           "#FF97FF",
           "#FECB52"
          ],
          "font": {
           "color": "#2a3f5f"
          },
          "geo": {
           "bgcolor": "white",
           "lakecolor": "white",
           "landcolor": "#E5ECF6",
           "showlakes": true,
           "showland": true,
           "subunitcolor": "white"
          },
          "hoverlabel": {
           "align": "left"
          },
          "hovermode": "closest",
          "mapbox": {
           "style": "light"
          },
          "paper_bgcolor": "white",
          "plot_bgcolor": "#E5ECF6",
          "polar": {
           "angularaxis": {
            "gridcolor": "white",
            "linecolor": "white",
            "ticks": ""
           },
           "bgcolor": "#E5ECF6",
           "radialaxis": {
            "gridcolor": "white",
            "linecolor": "white",
            "ticks": ""
           }
          },
          "scene": {
           "xaxis": {
            "backgroundcolor": "#E5ECF6",
            "gridcolor": "white",
            "gridwidth": 2,
            "linecolor": "white",
            "showbackground": true,
            "ticks": "",
            "zerolinecolor": "white"
           },
           "yaxis": {
            "backgroundcolor": "#E5ECF6",
            "gridcolor": "white",
            "gridwidth": 2,
            "linecolor": "white",
            "showbackground": true,
            "ticks": "",
            "zerolinecolor": "white"
           },
           "zaxis": {
            "backgroundcolor": "#E5ECF6",
            "gridcolor": "white",
            "gridwidth": 2,
            "linecolor": "white",
            "showbackground": true,
            "ticks": "",
            "zerolinecolor": "white"
           }
          },
          "shapedefaults": {
           "line": {
            "color": "#2a3f5f"
           }
          },
          "ternary": {
           "aaxis": {
            "gridcolor": "white",
            "linecolor": "white",
            "ticks": ""
           },
           "baxis": {
            "gridcolor": "white",
            "linecolor": "white",
            "ticks": ""
           },
           "bgcolor": "#E5ECF6",
           "caxis": {
            "gridcolor": "white",
            "linecolor": "white",
            "ticks": ""
           }
          },
          "title": {
           "x": 0.05
          },
          "xaxis": {
           "automargin": true,
           "gridcolor": "white",
           "linecolor": "white",
           "ticks": "",
           "title": {
            "standoff": 15
           },
           "zerolinecolor": "white",
           "zerolinewidth": 2
          },
          "yaxis": {
           "automargin": true,
           "gridcolor": "white",
           "linecolor": "white",
           "ticks": "",
           "title": {
            "standoff": 15
           },
           "zerolinecolor": "white",
           "zerolinewidth": 2
          }
         }
        },
        "title": {
         "text": "Conversion"
        },
        "xaxis": {
         "title": {
          "text": "Number of Users"
         }
        }
       }
      },
      "text/html": [
       "<div>                            <div id=\"71082536-b396-4f88-8c0b-164cb43997a0\" class=\"plotly-graph-div\" style=\"height:525px; width:100%;\"></div>            <script type=\"text/javascript\">                require([\"plotly\"], function(Plotly) {                    window.PLOTLYENV=window.PLOTLYENV || {};                                    if (document.getElementById(\"71082536-b396-4f88-8c0b-164cb43997a0\")) {                    Plotly.newPlot(                        \"71082536-b396-4f88-8c0b-164cb43997a0\",                        [{\"x\":[7439,4613,3749,3547],\"y\":[\"MainScreenAppear\",\"OffersScreenAppear\",\"CartScreenAppear\",\"PaymentScreenSuccessful\"],\"type\":\"funnel\"}],                        {\"template\":{\"data\":{\"histogram2dcontour\":[{\"type\":\"histogram2dcontour\",\"colorbar\":{\"outlinewidth\":0,\"ticks\":\"\"},\"colorscale\":[[0.0,\"#0d0887\"],[0.1111111111111111,\"#46039f\"],[0.2222222222222222,\"#7201a8\"],[0.3333333333333333,\"#9c179e\"],[0.4444444444444444,\"#bd3786\"],[0.5555555555555556,\"#d8576b\"],[0.6666666666666666,\"#ed7953\"],[0.7777777777777778,\"#fb9f3a\"],[0.8888888888888888,\"#fdca26\"],[1.0,\"#f0f921\"]]}],\"choropleth\":[{\"type\":\"choropleth\",\"colorbar\":{\"outlinewidth\":0,\"ticks\":\"\"}}],\"histogram2d\":[{\"type\":\"histogram2d\",\"colorbar\":{\"outlinewidth\":0,\"ticks\":\"\"},\"colorscale\":[[0.0,\"#0d0887\"],[0.1111111111111111,\"#46039f\"],[0.2222222222222222,\"#7201a8\"],[0.3333333333333333,\"#9c179e\"],[0.4444444444444444,\"#bd3786\"],[0.5555555555555556,\"#d8576b\"],[0.6666666666666666,\"#ed7953\"],[0.7777777777777778,\"#fb9f3a\"],[0.8888888888888888,\"#fdca26\"],[1.0,\"#f0f921\"]]}],\"heatmap\":[{\"type\":\"heatmap\",\"colorbar\":{\"outlinewidth\":0,\"ticks\":\"\"},\"colorscale\":[[0.0,\"#0d0887\"],[0.1111111111111111,\"#46039f\"],[0.2222222222222222,\"#7201a8\"],[0.3333333333333333,\"#9c179e\"],[0.4444444444444444,\"#bd3786\"],[0.5555555555555556,\"#d8576b\"],[0.6666666666666666,\"#ed7953\"],[0.7777777777777778,\"#fb9f3a\"],[0.8888888888888888,\"#fdca26\"],[1.0,\"#f0f921\"]]}],\"heatmapgl\":[{\"type\":\"heatmapgl\",\"colorbar\":{\"outlinewidth\":0,\"ticks\":\"\"},\"colorscale\":[[0.0,\"#0d0887\"],[0.1111111111111111,\"#46039f\"],[0.2222222222222222,\"#7201a8\"],[0.3333333333333333,\"#9c179e\"],[0.4444444444444444,\"#bd3786\"],[0.5555555555555556,\"#d8576b\"],[0.6666666666666666,\"#ed7953\"],[0.7777777777777778,\"#fb9f3a\"],[0.8888888888888888,\"#fdca26\"],[1.0,\"#f0f921\"]]}],\"contourcarpet\":[{\"type\":\"contourcarpet\",\"colorbar\":{\"outlinewidth\":0,\"ticks\":\"\"}}],\"contour\":[{\"type\":\"contour\",\"colorbar\":{\"outlinewidth\":0,\"ticks\":\"\"},\"colorscale\":[[0.0,\"#0d0887\"],[0.1111111111111111,\"#46039f\"],[0.2222222222222222,\"#7201a8\"],[0.3333333333333333,\"#9c179e\"],[0.4444444444444444,\"#bd3786\"],[0.5555555555555556,\"#d8576b\"],[0.6666666666666666,\"#ed7953\"],[0.7777777777777778,\"#fb9f3a\"],[0.8888888888888888,\"#fdca26\"],[1.0,\"#f0f921\"]]}],\"surface\":[{\"type\":\"surface\",\"colorbar\":{\"outlinewidth\":0,\"ticks\":\"\"},\"colorscale\":[[0.0,\"#0d0887\"],[0.1111111111111111,\"#46039f\"],[0.2222222222222222,\"#7201a8\"],[0.3333333333333333,\"#9c179e\"],[0.4444444444444444,\"#bd3786\"],[0.5555555555555556,\"#d8576b\"],[0.6666666666666666,\"#ed7953\"],[0.7777777777777778,\"#fb9f3a\"],[0.8888888888888888,\"#fdca26\"],[1.0,\"#f0f921\"]]}],\"mesh3d\":[{\"type\":\"mesh3d\",\"colorbar\":{\"outlinewidth\":0,\"ticks\":\"\"}}],\"scatter\":[{\"fillpattern\":{\"fillmode\":\"overlay\",\"size\":10,\"solidity\":0.2},\"type\":\"scatter\"}],\"parcoords\":[{\"type\":\"parcoords\",\"line\":{\"colorbar\":{\"outlinewidth\":0,\"ticks\":\"\"}}}],\"scatterpolargl\":[{\"type\":\"scatterpolargl\",\"marker\":{\"colorbar\":{\"outlinewidth\":0,\"ticks\":\"\"}}}],\"bar\":[{\"error_x\":{\"color\":\"#2a3f5f\"},\"error_y\":{\"color\":\"#2a3f5f\"},\"marker\":{\"line\":{\"color\":\"#E5ECF6\",\"width\":0.5},\"pattern\":{\"fillmode\":\"overlay\",\"size\":10,\"solidity\":0.2}},\"type\":\"bar\"}],\"scattergeo\":[{\"type\":\"scattergeo\",\"marker\":{\"colorbar\":{\"outlinewidth\":0,\"ticks\":\"\"}}}],\"scatterpolar\":[{\"type\":\"scatterpolar\",\"marker\":{\"colorbar\":{\"outlinewidth\":0,\"ticks\":\"\"}}}],\"histogram\":[{\"marker\":{\"pattern\":{\"fillmode\":\"overlay\",\"size\":10,\"solidity\":0.2}},\"type\":\"histogram\"}],\"scattergl\":[{\"type\":\"scattergl\",\"marker\":{\"colorbar\":{\"outlinewidth\":0,\"ticks\":\"\"}}}],\"scatter3d\":[{\"type\":\"scatter3d\",\"line\":{\"colorbar\":{\"outlinewidth\":0,\"ticks\":\"\"}},\"marker\":{\"colorbar\":{\"outlinewidth\":0,\"ticks\":\"\"}}}],\"scattermapbox\":[{\"type\":\"scattermapbox\",\"marker\":{\"colorbar\":{\"outlinewidth\":0,\"ticks\":\"\"}}}],\"scatterternary\":[{\"type\":\"scatterternary\",\"marker\":{\"colorbar\":{\"outlinewidth\":0,\"ticks\":\"\"}}}],\"scattercarpet\":[{\"type\":\"scattercarpet\",\"marker\":{\"colorbar\":{\"outlinewidth\":0,\"ticks\":\"\"}}}],\"carpet\":[{\"aaxis\":{\"endlinecolor\":\"#2a3f5f\",\"gridcolor\":\"white\",\"linecolor\":\"white\",\"minorgridcolor\":\"white\",\"startlinecolor\":\"#2a3f5f\"},\"baxis\":{\"endlinecolor\":\"#2a3f5f\",\"gridcolor\":\"white\",\"linecolor\":\"white\",\"minorgridcolor\":\"white\",\"startlinecolor\":\"#2a3f5f\"},\"type\":\"carpet\"}],\"table\":[{\"cells\":{\"fill\":{\"color\":\"#EBF0F8\"},\"line\":{\"color\":\"white\"}},\"header\":{\"fill\":{\"color\":\"#C8D4E3\"},\"line\":{\"color\":\"white\"}},\"type\":\"table\"}],\"barpolar\":[{\"marker\":{\"line\":{\"color\":\"#E5ECF6\",\"width\":0.5},\"pattern\":{\"fillmode\":\"overlay\",\"size\":10,\"solidity\":0.2}},\"type\":\"barpolar\"}],\"pie\":[{\"automargin\":true,\"type\":\"pie\"}]},\"layout\":{\"autotypenumbers\":\"strict\",\"colorway\":[\"#636efa\",\"#EF553B\",\"#00cc96\",\"#ab63fa\",\"#FFA15A\",\"#19d3f3\",\"#FF6692\",\"#B6E880\",\"#FF97FF\",\"#FECB52\"],\"font\":{\"color\":\"#2a3f5f\"},\"hovermode\":\"closest\",\"hoverlabel\":{\"align\":\"left\"},\"paper_bgcolor\":\"white\",\"plot_bgcolor\":\"#E5ECF6\",\"polar\":{\"bgcolor\":\"#E5ECF6\",\"angularaxis\":{\"gridcolor\":\"white\",\"linecolor\":\"white\",\"ticks\":\"\"},\"radialaxis\":{\"gridcolor\":\"white\",\"linecolor\":\"white\",\"ticks\":\"\"}},\"ternary\":{\"bgcolor\":\"#E5ECF6\",\"aaxis\":{\"gridcolor\":\"white\",\"linecolor\":\"white\",\"ticks\":\"\"},\"baxis\":{\"gridcolor\":\"white\",\"linecolor\":\"white\",\"ticks\":\"\"},\"caxis\":{\"gridcolor\":\"white\",\"linecolor\":\"white\",\"ticks\":\"\"}},\"coloraxis\":{\"colorbar\":{\"outlinewidth\":0,\"ticks\":\"\"}},\"colorscale\":{\"sequential\":[[0.0,\"#0d0887\"],[0.1111111111111111,\"#46039f\"],[0.2222222222222222,\"#7201a8\"],[0.3333333333333333,\"#9c179e\"],[0.4444444444444444,\"#bd3786\"],[0.5555555555555556,\"#d8576b\"],[0.6666666666666666,\"#ed7953\"],[0.7777777777777778,\"#fb9f3a\"],[0.8888888888888888,\"#fdca26\"],[1.0,\"#f0f921\"]],\"sequentialminus\":[[0.0,\"#0d0887\"],[0.1111111111111111,\"#46039f\"],[0.2222222222222222,\"#7201a8\"],[0.3333333333333333,\"#9c179e\"],[0.4444444444444444,\"#bd3786\"],[0.5555555555555556,\"#d8576b\"],[0.6666666666666666,\"#ed7953\"],[0.7777777777777778,\"#fb9f3a\"],[0.8888888888888888,\"#fdca26\"],[1.0,\"#f0f921\"]],\"diverging\":[[0,\"#8e0152\"],[0.1,\"#c51b7d\"],[0.2,\"#de77ae\"],[0.3,\"#f1b6da\"],[0.4,\"#fde0ef\"],[0.5,\"#f7f7f7\"],[0.6,\"#e6f5d0\"],[0.7,\"#b8e186\"],[0.8,\"#7fbc41\"],[0.9,\"#4d9221\"],[1,\"#276419\"]]},\"xaxis\":{\"gridcolor\":\"white\",\"linecolor\":\"white\",\"ticks\":\"\",\"title\":{\"standoff\":15},\"zerolinecolor\":\"white\",\"automargin\":true,\"zerolinewidth\":2},\"yaxis\":{\"gridcolor\":\"white\",\"linecolor\":\"white\",\"ticks\":\"\",\"title\":{\"standoff\":15},\"zerolinecolor\":\"white\",\"automargin\":true,\"zerolinewidth\":2},\"scene\":{\"xaxis\":{\"backgroundcolor\":\"#E5ECF6\",\"gridcolor\":\"white\",\"linecolor\":\"white\",\"showbackground\":true,\"ticks\":\"\",\"zerolinecolor\":\"white\",\"gridwidth\":2},\"yaxis\":{\"backgroundcolor\":\"#E5ECF6\",\"gridcolor\":\"white\",\"linecolor\":\"white\",\"showbackground\":true,\"ticks\":\"\",\"zerolinecolor\":\"white\",\"gridwidth\":2},\"zaxis\":{\"backgroundcolor\":\"#E5ECF6\",\"gridcolor\":\"white\",\"linecolor\":\"white\",\"showbackground\":true,\"ticks\":\"\",\"zerolinecolor\":\"white\",\"gridwidth\":2}},\"shapedefaults\":{\"line\":{\"color\":\"#2a3f5f\"}},\"annotationdefaults\":{\"arrowcolor\":\"#2a3f5f\",\"arrowhead\":0,\"arrowwidth\":1},\"geo\":{\"bgcolor\":\"white\",\"landcolor\":\"#E5ECF6\",\"subunitcolor\":\"white\",\"showland\":true,\"showlakes\":true,\"lakecolor\":\"white\"},\"title\":{\"x\":0.05},\"mapbox\":{\"style\":\"light\"}}},\"title\":{\"text\":\"Conversion\"},\"xaxis\":{\"title\":{\"text\":\"Number of Users\"}}},                        {\"responsive\": true}                    ).then(function(){\n",
       "                            \n",
       "var gd = document.getElementById('71082536-b396-4f88-8c0b-164cb43997a0');\n",
       "var x = new MutationObserver(function (mutations, observer) {{\n",
       "        var display = window.getComputedStyle(gd).display;\n",
       "        if (!display || display === 'none') {{\n",
       "            console.log([gd, 'removed!']);\n",
       "            Plotly.purge(gd);\n",
       "            observer.disconnect();\n",
       "        }}\n",
       "}});\n",
       "\n",
       "// Listen for the removal of the full notebook cells\n",
       "var notebookContainer = gd.closest('#notebook-container');\n",
       "if (notebookContainer) {{\n",
       "    x.observe(notebookContainer, {childList: true});\n",
       "}}\n",
       "\n",
       "// Listen for the clearing of the current output cell\n",
       "var outputEl = gd.closest('.output');\n",
       "if (outputEl) {{\n",
       "    x.observe(outputEl, {childList: true});\n",
       "}}\n",
       "\n",
       "                        })                };                });            </script>        </div>"
      ]
     },
     "metadata": {},
     "output_type": "display_data"
    }
   ],
   "source": [
    "#conversion graph\n",
    "fig = go.Figure(go.Funnel(\n",
    "    y = funnel['event_name'],\n",
    "    x = funnel['users_count']))\n",
    "\n",
    "\n",
    "fig.update_layout(title=\"Conversion\",\n",
    "                  xaxis_title=\"Number of Users\")\n",
    "\n",
    "fig.show()"
   ]
  },
  {
   "cell_type": "code",
   "execution_count": 170,
   "metadata": {},
   "outputs": [
    {
     "data": {
      "application/vnd.plotly.v1+json": {
       "config": {
        "plotlyServerURL": "https://plot.ly"
       },
       "data": [
        {
         "type": "funnel",
         "x": [
          1,
          0.6201102298696062,
          0.8127032300021678,
          0.9461189650573486
         ],
         "y": [
          "MainScreenAppear",
          "OffersScreenAppear",
          "CartScreenAppear",
          "PaymentScreenSuccessful"
         ]
        }
       ],
       "layout": {
        "template": {
         "data": {
          "bar": [
           {
            "error_x": {
             "color": "#2a3f5f"
            },
            "error_y": {
             "color": "#2a3f5f"
            },
            "marker": {
             "line": {
              "color": "#E5ECF6",
              "width": 0.5
             },
             "pattern": {
              "fillmode": "overlay",
              "size": 10,
              "solidity": 0.2
             }
            },
            "type": "bar"
           }
          ],
          "barpolar": [
           {
            "marker": {
             "line": {
              "color": "#E5ECF6",
              "width": 0.5
             },
             "pattern": {
              "fillmode": "overlay",
              "size": 10,
              "solidity": 0.2
             }
            },
            "type": "barpolar"
           }
          ],
          "carpet": [
           {
            "aaxis": {
             "endlinecolor": "#2a3f5f",
             "gridcolor": "white",
             "linecolor": "white",
             "minorgridcolor": "white",
             "startlinecolor": "#2a3f5f"
            },
            "baxis": {
             "endlinecolor": "#2a3f5f",
             "gridcolor": "white",
             "linecolor": "white",
             "minorgridcolor": "white",
             "startlinecolor": "#2a3f5f"
            },
            "type": "carpet"
           }
          ],
          "choropleth": [
           {
            "colorbar": {
             "outlinewidth": 0,
             "ticks": ""
            },
            "type": "choropleth"
           }
          ],
          "contour": [
           {
            "colorbar": {
             "outlinewidth": 0,
             "ticks": ""
            },
            "colorscale": [
             [
              0,
              "#0d0887"
             ],
             [
              0.1111111111111111,
              "#46039f"
             ],
             [
              0.2222222222222222,
              "#7201a8"
             ],
             [
              0.3333333333333333,
              "#9c179e"
             ],
             [
              0.4444444444444444,
              "#bd3786"
             ],
             [
              0.5555555555555556,
              "#d8576b"
             ],
             [
              0.6666666666666666,
              "#ed7953"
             ],
             [
              0.7777777777777778,
              "#fb9f3a"
             ],
             [
              0.8888888888888888,
              "#fdca26"
             ],
             [
              1,
              "#f0f921"
             ]
            ],
            "type": "contour"
           }
          ],
          "contourcarpet": [
           {
            "colorbar": {
             "outlinewidth": 0,
             "ticks": ""
            },
            "type": "contourcarpet"
           }
          ],
          "heatmap": [
           {
            "colorbar": {
             "outlinewidth": 0,
             "ticks": ""
            },
            "colorscale": [
             [
              0,
              "#0d0887"
             ],
             [
              0.1111111111111111,
              "#46039f"
             ],
             [
              0.2222222222222222,
              "#7201a8"
             ],
             [
              0.3333333333333333,
              "#9c179e"
             ],
             [
              0.4444444444444444,
              "#bd3786"
             ],
             [
              0.5555555555555556,
              "#d8576b"
             ],
             [
              0.6666666666666666,
              "#ed7953"
             ],
             [
              0.7777777777777778,
              "#fb9f3a"
             ],
             [
              0.8888888888888888,
              "#fdca26"
             ],
             [
              1,
              "#f0f921"
             ]
            ],
            "type": "heatmap"
           }
          ],
          "heatmapgl": [
           {
            "colorbar": {
             "outlinewidth": 0,
             "ticks": ""
            },
            "colorscale": [
             [
              0,
              "#0d0887"
             ],
             [
              0.1111111111111111,
              "#46039f"
             ],
             [
              0.2222222222222222,
              "#7201a8"
             ],
             [
              0.3333333333333333,
              "#9c179e"
             ],
             [
              0.4444444444444444,
              "#bd3786"
             ],
             [
              0.5555555555555556,
              "#d8576b"
             ],
             [
              0.6666666666666666,
              "#ed7953"
             ],
             [
              0.7777777777777778,
              "#fb9f3a"
             ],
             [
              0.8888888888888888,
              "#fdca26"
             ],
             [
              1,
              "#f0f921"
             ]
            ],
            "type": "heatmapgl"
           }
          ],
          "histogram": [
           {
            "marker": {
             "pattern": {
              "fillmode": "overlay",
              "size": 10,
              "solidity": 0.2
             }
            },
            "type": "histogram"
           }
          ],
          "histogram2d": [
           {
            "colorbar": {
             "outlinewidth": 0,
             "ticks": ""
            },
            "colorscale": [
             [
              0,
              "#0d0887"
             ],
             [
              0.1111111111111111,
              "#46039f"
             ],
             [
              0.2222222222222222,
              "#7201a8"
             ],
             [
              0.3333333333333333,
              "#9c179e"
             ],
             [
              0.4444444444444444,
              "#bd3786"
             ],
             [
              0.5555555555555556,
              "#d8576b"
             ],
             [
              0.6666666666666666,
              "#ed7953"
             ],
             [
              0.7777777777777778,
              "#fb9f3a"
             ],
             [
              0.8888888888888888,
              "#fdca26"
             ],
             [
              1,
              "#f0f921"
             ]
            ],
            "type": "histogram2d"
           }
          ],
          "histogram2dcontour": [
           {
            "colorbar": {
             "outlinewidth": 0,
             "ticks": ""
            },
            "colorscale": [
             [
              0,
              "#0d0887"
             ],
             [
              0.1111111111111111,
              "#46039f"
             ],
             [
              0.2222222222222222,
              "#7201a8"
             ],
             [
              0.3333333333333333,
              "#9c179e"
             ],
             [
              0.4444444444444444,
              "#bd3786"
             ],
             [
              0.5555555555555556,
              "#d8576b"
             ],
             [
              0.6666666666666666,
              "#ed7953"
             ],
             [
              0.7777777777777778,
              "#fb9f3a"
             ],
             [
              0.8888888888888888,
              "#fdca26"
             ],
             [
              1,
              "#f0f921"
             ]
            ],
            "type": "histogram2dcontour"
           }
          ],
          "mesh3d": [
           {
            "colorbar": {
             "outlinewidth": 0,
             "ticks": ""
            },
            "type": "mesh3d"
           }
          ],
          "parcoords": [
           {
            "line": {
             "colorbar": {
              "outlinewidth": 0,
              "ticks": ""
             }
            },
            "type": "parcoords"
           }
          ],
          "pie": [
           {
            "automargin": true,
            "type": "pie"
           }
          ],
          "scatter": [
           {
            "fillpattern": {
             "fillmode": "overlay",
             "size": 10,
             "solidity": 0.2
            },
            "type": "scatter"
           }
          ],
          "scatter3d": [
           {
            "line": {
             "colorbar": {
              "outlinewidth": 0,
              "ticks": ""
             }
            },
            "marker": {
             "colorbar": {
              "outlinewidth": 0,
              "ticks": ""
             }
            },
            "type": "scatter3d"
           }
          ],
          "scattercarpet": [
           {
            "marker": {
             "colorbar": {
              "outlinewidth": 0,
              "ticks": ""
             }
            },
            "type": "scattercarpet"
           }
          ],
          "scattergeo": [
           {
            "marker": {
             "colorbar": {
              "outlinewidth": 0,
              "ticks": ""
             }
            },
            "type": "scattergeo"
           }
          ],
          "scattergl": [
           {
            "marker": {
             "colorbar": {
              "outlinewidth": 0,
              "ticks": ""
             }
            },
            "type": "scattergl"
           }
          ],
          "scattermapbox": [
           {
            "marker": {
             "colorbar": {
              "outlinewidth": 0,
              "ticks": ""
             }
            },
            "type": "scattermapbox"
           }
          ],
          "scatterpolar": [
           {
            "marker": {
             "colorbar": {
              "outlinewidth": 0,
              "ticks": ""
             }
            },
            "type": "scatterpolar"
           }
          ],
          "scatterpolargl": [
           {
            "marker": {
             "colorbar": {
              "outlinewidth": 0,
              "ticks": ""
             }
            },
            "type": "scatterpolargl"
           }
          ],
          "scatterternary": [
           {
            "marker": {
             "colorbar": {
              "outlinewidth": 0,
              "ticks": ""
             }
            },
            "type": "scatterternary"
           }
          ],
          "surface": [
           {
            "colorbar": {
             "outlinewidth": 0,
             "ticks": ""
            },
            "colorscale": [
             [
              0,
              "#0d0887"
             ],
             [
              0.1111111111111111,
              "#46039f"
             ],
             [
              0.2222222222222222,
              "#7201a8"
             ],
             [
              0.3333333333333333,
              "#9c179e"
             ],
             [
              0.4444444444444444,
              "#bd3786"
             ],
             [
              0.5555555555555556,
              "#d8576b"
             ],
             [
              0.6666666666666666,
              "#ed7953"
             ],
             [
              0.7777777777777778,
              "#fb9f3a"
             ],
             [
              0.8888888888888888,
              "#fdca26"
             ],
             [
              1,
              "#f0f921"
             ]
            ],
            "type": "surface"
           }
          ],
          "table": [
           {
            "cells": {
             "fill": {
              "color": "#EBF0F8"
             },
             "line": {
              "color": "white"
             }
            },
            "header": {
             "fill": {
              "color": "#C8D4E3"
             },
             "line": {
              "color": "white"
             }
            },
            "type": "table"
           }
          ]
         },
         "layout": {
          "annotationdefaults": {
           "arrowcolor": "#2a3f5f",
           "arrowhead": 0,
           "arrowwidth": 1
          },
          "autotypenumbers": "strict",
          "coloraxis": {
           "colorbar": {
            "outlinewidth": 0,
            "ticks": ""
           }
          },
          "colorscale": {
           "diverging": [
            [
             0,
             "#8e0152"
            ],
            [
             0.1,
             "#c51b7d"
            ],
            [
             0.2,
             "#de77ae"
            ],
            [
             0.3,
             "#f1b6da"
            ],
            [
             0.4,
             "#fde0ef"
            ],
            [
             0.5,
             "#f7f7f7"
            ],
            [
             0.6,
             "#e6f5d0"
            ],
            [
             0.7,
             "#b8e186"
            ],
            [
             0.8,
             "#7fbc41"
            ],
            [
             0.9,
             "#4d9221"
            ],
            [
             1,
             "#276419"
            ]
           ],
           "sequential": [
            [
             0,
             "#0d0887"
            ],
            [
             0.1111111111111111,
             "#46039f"
            ],
            [
             0.2222222222222222,
             "#7201a8"
            ],
            [
             0.3333333333333333,
             "#9c179e"
            ],
            [
             0.4444444444444444,
             "#bd3786"
            ],
            [
             0.5555555555555556,
             "#d8576b"
            ],
            [
             0.6666666666666666,
             "#ed7953"
            ],
            [
             0.7777777777777778,
             "#fb9f3a"
            ],
            [
             0.8888888888888888,
             "#fdca26"
            ],
            [
             1,
             "#f0f921"
            ]
           ],
           "sequentialminus": [
            [
             0,
             "#0d0887"
            ],
            [
             0.1111111111111111,
             "#46039f"
            ],
            [
             0.2222222222222222,
             "#7201a8"
            ],
            [
             0.3333333333333333,
             "#9c179e"
            ],
            [
             0.4444444444444444,
             "#bd3786"
            ],
            [
             0.5555555555555556,
             "#d8576b"
            ],
            [
             0.6666666666666666,
             "#ed7953"
            ],
            [
             0.7777777777777778,
             "#fb9f3a"
            ],
            [
             0.8888888888888888,
             "#fdca26"
            ],
            [
             1,
             "#f0f921"
            ]
           ]
          },
          "colorway": [
           "#636efa",
           "#EF553B",
           "#00cc96",
           "#ab63fa",
           "#FFA15A",
           "#19d3f3",
           "#FF6692",
           "#B6E880",
           "#FF97FF",
           "#FECB52"
          ],
          "font": {
           "color": "#2a3f5f"
          },
          "geo": {
           "bgcolor": "white",
           "lakecolor": "white",
           "landcolor": "#E5ECF6",
           "showlakes": true,
           "showland": true,
           "subunitcolor": "white"
          },
          "hoverlabel": {
           "align": "left"
          },
          "hovermode": "closest",
          "mapbox": {
           "style": "light"
          },
          "paper_bgcolor": "white",
          "plot_bgcolor": "#E5ECF6",
          "polar": {
           "angularaxis": {
            "gridcolor": "white",
            "linecolor": "white",
            "ticks": ""
           },
           "bgcolor": "#E5ECF6",
           "radialaxis": {
            "gridcolor": "white",
            "linecolor": "white",
            "ticks": ""
           }
          },
          "scene": {
           "xaxis": {
            "backgroundcolor": "#E5ECF6",
            "gridcolor": "white",
            "gridwidth": 2,
            "linecolor": "white",
            "showbackground": true,
            "ticks": "",
            "zerolinecolor": "white"
           },
           "yaxis": {
            "backgroundcolor": "#E5ECF6",
            "gridcolor": "white",
            "gridwidth": 2,
            "linecolor": "white",
            "showbackground": true,
            "ticks": "",
            "zerolinecolor": "white"
           },
           "zaxis": {
            "backgroundcolor": "#E5ECF6",
            "gridcolor": "white",
            "gridwidth": 2,
            "linecolor": "white",
            "showbackground": true,
            "ticks": "",
            "zerolinecolor": "white"
           }
          },
          "shapedefaults": {
           "line": {
            "color": "#2a3f5f"
           }
          },
          "ternary": {
           "aaxis": {
            "gridcolor": "white",
            "linecolor": "white",
            "ticks": ""
           },
           "baxis": {
            "gridcolor": "white",
            "linecolor": "white",
            "ticks": ""
           },
           "bgcolor": "#E5ECF6",
           "caxis": {
            "gridcolor": "white",
            "linecolor": "white",
            "ticks": ""
           }
          },
          "title": {
           "x": 0.05
          },
          "xaxis": {
           "automargin": true,
           "gridcolor": "white",
           "linecolor": "white",
           "ticks": "",
           "title": {
            "standoff": 15
           },
           "zerolinecolor": "white",
           "zerolinewidth": 2
          },
          "yaxis": {
           "automargin": true,
           "gridcolor": "white",
           "linecolor": "white",
           "ticks": "",
           "title": {
            "standoff": 15
           },
           "zerolinecolor": "white",
           "zerolinewidth": 2
          }
         }
        },
        "title": {
         "text": "Conversion to step"
        }
       }
      },
      "text/html": [
       "<div>                            <div id=\"96d0b360-37fa-4438-a195-132a0469cf7f\" class=\"plotly-graph-div\" style=\"height:525px; width:100%;\"></div>            <script type=\"text/javascript\">                require([\"plotly\"], function(Plotly) {                    window.PLOTLYENV=window.PLOTLYENV || {};                                    if (document.getElementById(\"96d0b360-37fa-4438-a195-132a0469cf7f\")) {                    Plotly.newPlot(                        \"96d0b360-37fa-4438-a195-132a0469cf7f\",                        [{\"x\":[1.0,0.6201102298696062,0.8127032300021678,0.9461189650573486],\"y\":[\"MainScreenAppear\",\"OffersScreenAppear\",\"CartScreenAppear\",\"PaymentScreenSuccessful\"],\"type\":\"funnel\"}],                        {\"template\":{\"data\":{\"histogram2dcontour\":[{\"type\":\"histogram2dcontour\",\"colorbar\":{\"outlinewidth\":0,\"ticks\":\"\"},\"colorscale\":[[0.0,\"#0d0887\"],[0.1111111111111111,\"#46039f\"],[0.2222222222222222,\"#7201a8\"],[0.3333333333333333,\"#9c179e\"],[0.4444444444444444,\"#bd3786\"],[0.5555555555555556,\"#d8576b\"],[0.6666666666666666,\"#ed7953\"],[0.7777777777777778,\"#fb9f3a\"],[0.8888888888888888,\"#fdca26\"],[1.0,\"#f0f921\"]]}],\"choropleth\":[{\"type\":\"choropleth\",\"colorbar\":{\"outlinewidth\":0,\"ticks\":\"\"}}],\"histogram2d\":[{\"type\":\"histogram2d\",\"colorbar\":{\"outlinewidth\":0,\"ticks\":\"\"},\"colorscale\":[[0.0,\"#0d0887\"],[0.1111111111111111,\"#46039f\"],[0.2222222222222222,\"#7201a8\"],[0.3333333333333333,\"#9c179e\"],[0.4444444444444444,\"#bd3786\"],[0.5555555555555556,\"#d8576b\"],[0.6666666666666666,\"#ed7953\"],[0.7777777777777778,\"#fb9f3a\"],[0.8888888888888888,\"#fdca26\"],[1.0,\"#f0f921\"]]}],\"heatmap\":[{\"type\":\"heatmap\",\"colorbar\":{\"outlinewidth\":0,\"ticks\":\"\"},\"colorscale\":[[0.0,\"#0d0887\"],[0.1111111111111111,\"#46039f\"],[0.2222222222222222,\"#7201a8\"],[0.3333333333333333,\"#9c179e\"],[0.4444444444444444,\"#bd3786\"],[0.5555555555555556,\"#d8576b\"],[0.6666666666666666,\"#ed7953\"],[0.7777777777777778,\"#fb9f3a\"],[0.8888888888888888,\"#fdca26\"],[1.0,\"#f0f921\"]]}],\"heatmapgl\":[{\"type\":\"heatmapgl\",\"colorbar\":{\"outlinewidth\":0,\"ticks\":\"\"},\"colorscale\":[[0.0,\"#0d0887\"],[0.1111111111111111,\"#46039f\"],[0.2222222222222222,\"#7201a8\"],[0.3333333333333333,\"#9c179e\"],[0.4444444444444444,\"#bd3786\"],[0.5555555555555556,\"#d8576b\"],[0.6666666666666666,\"#ed7953\"],[0.7777777777777778,\"#fb9f3a\"],[0.8888888888888888,\"#fdca26\"],[1.0,\"#f0f921\"]]}],\"contourcarpet\":[{\"type\":\"contourcarpet\",\"colorbar\":{\"outlinewidth\":0,\"ticks\":\"\"}}],\"contour\":[{\"type\":\"contour\",\"colorbar\":{\"outlinewidth\":0,\"ticks\":\"\"},\"colorscale\":[[0.0,\"#0d0887\"],[0.1111111111111111,\"#46039f\"],[0.2222222222222222,\"#7201a8\"],[0.3333333333333333,\"#9c179e\"],[0.4444444444444444,\"#bd3786\"],[0.5555555555555556,\"#d8576b\"],[0.6666666666666666,\"#ed7953\"],[0.7777777777777778,\"#fb9f3a\"],[0.8888888888888888,\"#fdca26\"],[1.0,\"#f0f921\"]]}],\"surface\":[{\"type\":\"surface\",\"colorbar\":{\"outlinewidth\":0,\"ticks\":\"\"},\"colorscale\":[[0.0,\"#0d0887\"],[0.1111111111111111,\"#46039f\"],[0.2222222222222222,\"#7201a8\"],[0.3333333333333333,\"#9c179e\"],[0.4444444444444444,\"#bd3786\"],[0.5555555555555556,\"#d8576b\"],[0.6666666666666666,\"#ed7953\"],[0.7777777777777778,\"#fb9f3a\"],[0.8888888888888888,\"#fdca26\"],[1.0,\"#f0f921\"]]}],\"mesh3d\":[{\"type\":\"mesh3d\",\"colorbar\":{\"outlinewidth\":0,\"ticks\":\"\"}}],\"scatter\":[{\"fillpattern\":{\"fillmode\":\"overlay\",\"size\":10,\"solidity\":0.2},\"type\":\"scatter\"}],\"parcoords\":[{\"type\":\"parcoords\",\"line\":{\"colorbar\":{\"outlinewidth\":0,\"ticks\":\"\"}}}],\"scatterpolargl\":[{\"type\":\"scatterpolargl\",\"marker\":{\"colorbar\":{\"outlinewidth\":0,\"ticks\":\"\"}}}],\"bar\":[{\"error_x\":{\"color\":\"#2a3f5f\"},\"error_y\":{\"color\":\"#2a3f5f\"},\"marker\":{\"line\":{\"color\":\"#E5ECF6\",\"width\":0.5},\"pattern\":{\"fillmode\":\"overlay\",\"size\":10,\"solidity\":0.2}},\"type\":\"bar\"}],\"scattergeo\":[{\"type\":\"scattergeo\",\"marker\":{\"colorbar\":{\"outlinewidth\":0,\"ticks\":\"\"}}}],\"scatterpolar\":[{\"type\":\"scatterpolar\",\"marker\":{\"colorbar\":{\"outlinewidth\":0,\"ticks\":\"\"}}}],\"histogram\":[{\"marker\":{\"pattern\":{\"fillmode\":\"overlay\",\"size\":10,\"solidity\":0.2}},\"type\":\"histogram\"}],\"scattergl\":[{\"type\":\"scattergl\",\"marker\":{\"colorbar\":{\"outlinewidth\":0,\"ticks\":\"\"}}}],\"scatter3d\":[{\"type\":\"scatter3d\",\"line\":{\"colorbar\":{\"outlinewidth\":0,\"ticks\":\"\"}},\"marker\":{\"colorbar\":{\"outlinewidth\":0,\"ticks\":\"\"}}}],\"scattermapbox\":[{\"type\":\"scattermapbox\",\"marker\":{\"colorbar\":{\"outlinewidth\":0,\"ticks\":\"\"}}}],\"scatterternary\":[{\"type\":\"scatterternary\",\"marker\":{\"colorbar\":{\"outlinewidth\":0,\"ticks\":\"\"}}}],\"scattercarpet\":[{\"type\":\"scattercarpet\",\"marker\":{\"colorbar\":{\"outlinewidth\":0,\"ticks\":\"\"}}}],\"carpet\":[{\"aaxis\":{\"endlinecolor\":\"#2a3f5f\",\"gridcolor\":\"white\",\"linecolor\":\"white\",\"minorgridcolor\":\"white\",\"startlinecolor\":\"#2a3f5f\"},\"baxis\":{\"endlinecolor\":\"#2a3f5f\",\"gridcolor\":\"white\",\"linecolor\":\"white\",\"minorgridcolor\":\"white\",\"startlinecolor\":\"#2a3f5f\"},\"type\":\"carpet\"}],\"table\":[{\"cells\":{\"fill\":{\"color\":\"#EBF0F8\"},\"line\":{\"color\":\"white\"}},\"header\":{\"fill\":{\"color\":\"#C8D4E3\"},\"line\":{\"color\":\"white\"}},\"type\":\"table\"}],\"barpolar\":[{\"marker\":{\"line\":{\"color\":\"#E5ECF6\",\"width\":0.5},\"pattern\":{\"fillmode\":\"overlay\",\"size\":10,\"solidity\":0.2}},\"type\":\"barpolar\"}],\"pie\":[{\"automargin\":true,\"type\":\"pie\"}]},\"layout\":{\"autotypenumbers\":\"strict\",\"colorway\":[\"#636efa\",\"#EF553B\",\"#00cc96\",\"#ab63fa\",\"#FFA15A\",\"#19d3f3\",\"#FF6692\",\"#B6E880\",\"#FF97FF\",\"#FECB52\"],\"font\":{\"color\":\"#2a3f5f\"},\"hovermode\":\"closest\",\"hoverlabel\":{\"align\":\"left\"},\"paper_bgcolor\":\"white\",\"plot_bgcolor\":\"#E5ECF6\",\"polar\":{\"bgcolor\":\"#E5ECF6\",\"angularaxis\":{\"gridcolor\":\"white\",\"linecolor\":\"white\",\"ticks\":\"\"},\"radialaxis\":{\"gridcolor\":\"white\",\"linecolor\":\"white\",\"ticks\":\"\"}},\"ternary\":{\"bgcolor\":\"#E5ECF6\",\"aaxis\":{\"gridcolor\":\"white\",\"linecolor\":\"white\",\"ticks\":\"\"},\"baxis\":{\"gridcolor\":\"white\",\"linecolor\":\"white\",\"ticks\":\"\"},\"caxis\":{\"gridcolor\":\"white\",\"linecolor\":\"white\",\"ticks\":\"\"}},\"coloraxis\":{\"colorbar\":{\"outlinewidth\":0,\"ticks\":\"\"}},\"colorscale\":{\"sequential\":[[0.0,\"#0d0887\"],[0.1111111111111111,\"#46039f\"],[0.2222222222222222,\"#7201a8\"],[0.3333333333333333,\"#9c179e\"],[0.4444444444444444,\"#bd3786\"],[0.5555555555555556,\"#d8576b\"],[0.6666666666666666,\"#ed7953\"],[0.7777777777777778,\"#fb9f3a\"],[0.8888888888888888,\"#fdca26\"],[1.0,\"#f0f921\"]],\"sequentialminus\":[[0.0,\"#0d0887\"],[0.1111111111111111,\"#46039f\"],[0.2222222222222222,\"#7201a8\"],[0.3333333333333333,\"#9c179e\"],[0.4444444444444444,\"#bd3786\"],[0.5555555555555556,\"#d8576b\"],[0.6666666666666666,\"#ed7953\"],[0.7777777777777778,\"#fb9f3a\"],[0.8888888888888888,\"#fdca26\"],[1.0,\"#f0f921\"]],\"diverging\":[[0,\"#8e0152\"],[0.1,\"#c51b7d\"],[0.2,\"#de77ae\"],[0.3,\"#f1b6da\"],[0.4,\"#fde0ef\"],[0.5,\"#f7f7f7\"],[0.6,\"#e6f5d0\"],[0.7,\"#b8e186\"],[0.8,\"#7fbc41\"],[0.9,\"#4d9221\"],[1,\"#276419\"]]},\"xaxis\":{\"gridcolor\":\"white\",\"linecolor\":\"white\",\"ticks\":\"\",\"title\":{\"standoff\":15},\"zerolinecolor\":\"white\",\"automargin\":true,\"zerolinewidth\":2},\"yaxis\":{\"gridcolor\":\"white\",\"linecolor\":\"white\",\"ticks\":\"\",\"title\":{\"standoff\":15},\"zerolinecolor\":\"white\",\"automargin\":true,\"zerolinewidth\":2},\"scene\":{\"xaxis\":{\"backgroundcolor\":\"#E5ECF6\",\"gridcolor\":\"white\",\"linecolor\":\"white\",\"showbackground\":true,\"ticks\":\"\",\"zerolinecolor\":\"white\",\"gridwidth\":2},\"yaxis\":{\"backgroundcolor\":\"#E5ECF6\",\"gridcolor\":\"white\",\"linecolor\":\"white\",\"showbackground\":true,\"ticks\":\"\",\"zerolinecolor\":\"white\",\"gridwidth\":2},\"zaxis\":{\"backgroundcolor\":\"#E5ECF6\",\"gridcolor\":\"white\",\"linecolor\":\"white\",\"showbackground\":true,\"ticks\":\"\",\"zerolinecolor\":\"white\",\"gridwidth\":2}},\"shapedefaults\":{\"line\":{\"color\":\"#2a3f5f\"}},\"annotationdefaults\":{\"arrowcolor\":\"#2a3f5f\",\"arrowhead\":0,\"arrowwidth\":1},\"geo\":{\"bgcolor\":\"white\",\"landcolor\":\"#E5ECF6\",\"subunitcolor\":\"white\",\"showland\":true,\"showlakes\":true,\"lakecolor\":\"white\"},\"title\":{\"x\":0.05},\"mapbox\":{\"style\":\"light\"}}},\"title\":{\"text\":\"Conversion to step\"}},                        {\"responsive\": true}                    ).then(function(){\n",
       "                            \n",
       "var gd = document.getElementById('96d0b360-37fa-4438-a195-132a0469cf7f');\n",
       "var x = new MutationObserver(function (mutations, observer) {{\n",
       "        var display = window.getComputedStyle(gd).display;\n",
       "        if (!display || display === 'none') {{\n",
       "            console.log([gd, 'removed!']);\n",
       "            Plotly.purge(gd);\n",
       "            observer.disconnect();\n",
       "        }}\n",
       "}});\n",
       "\n",
       "// Listen for the removal of the full notebook cells\n",
       "var notebookContainer = gd.closest('#notebook-container');\n",
       "if (notebookContainer) {{\n",
       "    x.observe(notebookContainer, {childList: true});\n",
       "}}\n",
       "\n",
       "// Listen for the clearing of the current output cell\n",
       "var outputEl = gd.closest('.output');\n",
       "if (outputEl) {{\n",
       "    x.observe(outputEl, {childList: true});\n",
       "}}\n",
       "\n",
       "                        })                };                });            </script>        </div>"
      ]
     },
     "metadata": {},
     "output_type": "display_data"
    }
   ],
   "source": [
    "#conversion to step graph\n",
    "fig = go.Figure(go.Funnel(\n",
    "    y = funnel['event_name'],\n",
    "    x = funnel['conversion_step_1']))\n",
    "\n",
    "\n",
    "fig.update_layout(title=\"Conversion to step\"\n",
    "                  )\n",
    "\n",
    "fig.show()"
   ]
  },
  {
   "cell_type": "markdown",
   "metadata": {},
   "source": [
    "**Conclusion**\n",
    "1. From the initial event (main screen view) to payment, 47% of users proceed.\n",
    "2. The largest drop-off in users occurs when transitioning from the main screen to the special offers page.\n"
   ]
  },
  {
   "cell_type": "markdown",
   "metadata": {},
   "source": [
    "###  A/B test analysis"
   ]
  },
  {
   "cell_type": "markdown",
   "metadata": {},
   "source": [
    "#### Number of users in each experimental group"
   ]
  },
  {
   "cell_type": "code",
   "execution_count": 98,
   "metadata": {},
   "outputs": [
    {
     "data": {
      "text/html": [
       "<div>\n",
       "<style scoped>\n",
       "    .dataframe tbody tr th:only-of-type {\n",
       "        vertical-align: middle;\n",
       "    }\n",
       "\n",
       "    .dataframe tbody tr th {\n",
       "        vertical-align: top;\n",
       "    }\n",
       "\n",
       "    .dataframe thead th {\n",
       "        text-align: right;\n",
       "    }\n",
       "</style>\n",
       "<table border=\"1\" class=\"dataframe\">\n",
       "  <thead>\n",
       "    <tr style=\"text-align: right;\">\n",
       "      <th></th>\n",
       "      <th>device_id</th>\n",
       "      <th>ratio</th>\n",
       "    </tr>\n",
       "    <tr>\n",
       "      <th>exp_id</th>\n",
       "      <th></th>\n",
       "      <th></th>\n",
       "    </tr>\n",
       "  </thead>\n",
       "  <tbody>\n",
       "    <tr>\n",
       "      <th>246</th>\n",
       "      <td>2484</td>\n",
       "      <td>0.329705</td>\n",
       "    </tr>\n",
       "    <tr>\n",
       "      <th>247</th>\n",
       "      <td>2513</td>\n",
       "      <td>0.333555</td>\n",
       "    </tr>\n",
       "    <tr>\n",
       "      <th>248</th>\n",
       "      <td>2537</td>\n",
       "      <td>0.336740</td>\n",
       "    </tr>\n",
       "  </tbody>\n",
       "</table>\n",
       "</div>"
      ],
      "text/plain": [
       "        device_id     ratio\n",
       "exp_id                     \n",
       "246          2484  0.329705\n",
       "247          2513  0.333555\n",
       "248          2537  0.336740"
      ]
     },
     "execution_count": 98,
     "metadata": {},
     "output_type": "execute_result"
    }
   ],
   "source": [
    "#finding the number of participants in each experimental group:\n",
    "users_by_exp_group = data_new.groupby('exp_id').agg({'device_id' : 'nunique'})\n",
    "users_by_exp_group ['ratio'] = users_by_exp_group['device_id']/users_by_exp_group['device_id'].sum()\n",
    "users_by_exp_group"
   ]
  },
  {
   "cell_type": "markdown",
   "metadata": {},
   "source": [
    "Conclusion: Distribution into groups is uniform. The difference between the groups is less than 1 p.p."
   ]
  },
  {
   "cell_type": "markdown",
   "metadata": {},
   "source": [
    "#### Finding the statistical difference between groups 246 and 247"
   ]
  },
  {
   "cell_type": "code",
   "execution_count": 99,
   "metadata": {},
   "outputs": [
    {
     "data": {
      "text/html": [
       "<div>\n",
       "<style scoped>\n",
       "    .dataframe tbody tr th:only-of-type {\n",
       "        vertical-align: middle;\n",
       "    }\n",
       "\n",
       "    .dataframe tbody tr th {\n",
       "        vertical-align: top;\n",
       "    }\n",
       "\n",
       "    .dataframe thead th {\n",
       "        text-align: right;\n",
       "    }\n",
       "</style>\n",
       "<table border=\"1\" class=\"dataframe\">\n",
       "  <thead>\n",
       "    <tr style=\"text-align: right;\">\n",
       "      <th>exp_id</th>\n",
       "      <th>246</th>\n",
       "      <th>247</th>\n",
       "      <th>248</th>\n",
       "    </tr>\n",
       "    <tr>\n",
       "      <th>event_name</th>\n",
       "      <th></th>\n",
       "      <th></th>\n",
       "      <th></th>\n",
       "    </tr>\n",
       "  </thead>\n",
       "  <tbody>\n",
       "    <tr>\n",
       "      <th>CartScreenAppear</th>\n",
       "      <td>1266</td>\n",
       "      <td>1238</td>\n",
       "      <td>1230</td>\n",
       "    </tr>\n",
       "    <tr>\n",
       "      <th>MainScreenAppear</th>\n",
       "      <td>2450</td>\n",
       "      <td>2476</td>\n",
       "      <td>2493</td>\n",
       "    </tr>\n",
       "    <tr>\n",
       "      <th>OffersScreenAppear</th>\n",
       "      <td>1542</td>\n",
       "      <td>1520</td>\n",
       "      <td>1531</td>\n",
       "    </tr>\n",
       "    <tr>\n",
       "      <th>PaymentScreenSuccessful</th>\n",
       "      <td>1200</td>\n",
       "      <td>1158</td>\n",
       "      <td>1181</td>\n",
       "    </tr>\n",
       "    <tr>\n",
       "      <th>Tutorial</th>\n",
       "      <td>278</td>\n",
       "      <td>283</td>\n",
       "      <td>279</td>\n",
       "    </tr>\n",
       "  </tbody>\n",
       "</table>\n",
       "</div>"
      ],
      "text/plain": [
       "exp_id                    246   247   248\n",
       "event_name                               \n",
       "CartScreenAppear         1266  1238  1230\n",
       "MainScreenAppear         2450  2476  2493\n",
       "OffersScreenAppear       1542  1520  1531\n",
       "PaymentScreenSuccessful  1200  1158  1181\n",
       "Tutorial                  278   283   279"
      ]
     },
     "execution_count": 99,
     "metadata": {},
     "output_type": "execute_result"
    }
   ],
   "source": [
    "#grouping the data by experimental groups, events, and the number of unique users for each group and event\n",
    "data_exp_group = data_new.pivot_table (index = 'event_name', columns = 'exp_id', values = 'device_id', aggfunc = 'nunique')\n",
    "data_exp_group"
   ]
  },
  {
   "cell_type": "code",
   "execution_count": 100,
   "metadata": {},
   "outputs": [
    {
     "data": {
      "text/html": [
       "<div>\n",
       "<style scoped>\n",
       "    .dataframe tbody tr th:only-of-type {\n",
       "        vertical-align: middle;\n",
       "    }\n",
       "\n",
       "    .dataframe tbody tr th {\n",
       "        vertical-align: top;\n",
       "    }\n",
       "\n",
       "    .dataframe thead th {\n",
       "        text-align: right;\n",
       "    }\n",
       "</style>\n",
       "<table border=\"1\" class=\"dataframe\">\n",
       "  <thead>\n",
       "    <tr style=\"text-align: right;\">\n",
       "      <th>exp_id</th>\n",
       "      <th>246</th>\n",
       "      <th>247</th>\n",
       "      <th>248</th>\n",
       "      <th>total</th>\n",
       "    </tr>\n",
       "    <tr>\n",
       "      <th>event_name</th>\n",
       "      <th></th>\n",
       "      <th></th>\n",
       "      <th></th>\n",
       "      <th></th>\n",
       "    </tr>\n",
       "  </thead>\n",
       "  <tbody>\n",
       "    <tr>\n",
       "      <th>CartScreenAppear</th>\n",
       "      <td>1266</td>\n",
       "      <td>1238</td>\n",
       "      <td>1230</td>\n",
       "      <td>3734</td>\n",
       "    </tr>\n",
       "    <tr>\n",
       "      <th>MainScreenAppear</th>\n",
       "      <td>2450</td>\n",
       "      <td>2476</td>\n",
       "      <td>2493</td>\n",
       "      <td>7419</td>\n",
       "    </tr>\n",
       "    <tr>\n",
       "      <th>OffersScreenAppear</th>\n",
       "      <td>1542</td>\n",
       "      <td>1520</td>\n",
       "      <td>1531</td>\n",
       "      <td>4593</td>\n",
       "    </tr>\n",
       "    <tr>\n",
       "      <th>PaymentScreenSuccessful</th>\n",
       "      <td>1200</td>\n",
       "      <td>1158</td>\n",
       "      <td>1181</td>\n",
       "      <td>3539</td>\n",
       "    </tr>\n",
       "    <tr>\n",
       "      <th>Tutorial</th>\n",
       "      <td>278</td>\n",
       "      <td>283</td>\n",
       "      <td>279</td>\n",
       "      <td>840</td>\n",
       "    </tr>\n",
       "  </tbody>\n",
       "</table>\n",
       "</div>"
      ],
      "text/plain": [
       "exp_id                    246   247   248  total\n",
       "event_name                                      \n",
       "CartScreenAppear         1266  1238  1230   3734\n",
       "MainScreenAppear         2450  2476  2493   7419\n",
       "OffersScreenAppear       1542  1520  1531   4593\n",
       "PaymentScreenSuccessful  1200  1158  1181   3539\n",
       "Tutorial                  278   283   279    840"
      ]
     },
     "execution_count": 100,
     "metadata": {},
     "output_type": "execute_result"
    }
   ],
   "source": [
    "data_exp_group ['total'] = data_exp_group.sum(axis = 1)\n",
    "data_exp_group"
   ]
  },
  {
   "cell_type": "code",
   "execution_count": 101,
   "metadata": {
    "scrolled": true
   },
   "outputs": [
    {
     "data": {
      "text/html": [
       "<div>\n",
       "<style scoped>\n",
       "    .dataframe tbody tr th:only-of-type {\n",
       "        vertical-align: middle;\n",
       "    }\n",
       "\n",
       "    .dataframe tbody tr th {\n",
       "        vertical-align: top;\n",
       "    }\n",
       "\n",
       "    .dataframe thead th {\n",
       "        text-align: right;\n",
       "    }\n",
       "</style>\n",
       "<table border=\"1\" class=\"dataframe\">\n",
       "  <thead>\n",
       "    <tr style=\"text-align: right;\">\n",
       "      <th>exp_id</th>\n",
       "      <th>246</th>\n",
       "      <th>247</th>\n",
       "      <th>248</th>\n",
       "      <th>total</th>\n",
       "    </tr>\n",
       "    <tr>\n",
       "      <th>event_name</th>\n",
       "      <th></th>\n",
       "      <th></th>\n",
       "      <th></th>\n",
       "      <th></th>\n",
       "    </tr>\n",
       "  </thead>\n",
       "  <tbody>\n",
       "    <tr>\n",
       "      <th>CartScreenAppear</th>\n",
       "      <td>1266</td>\n",
       "      <td>1238</td>\n",
       "      <td>1230</td>\n",
       "      <td>3734</td>\n",
       "    </tr>\n",
       "    <tr>\n",
       "      <th>MainScreenAppear</th>\n",
       "      <td>2450</td>\n",
       "      <td>2476</td>\n",
       "      <td>2493</td>\n",
       "      <td>7419</td>\n",
       "    </tr>\n",
       "    <tr>\n",
       "      <th>OffersScreenAppear</th>\n",
       "      <td>1542</td>\n",
       "      <td>1520</td>\n",
       "      <td>1531</td>\n",
       "      <td>4593</td>\n",
       "    </tr>\n",
       "    <tr>\n",
       "      <th>PaymentScreenSuccessful</th>\n",
       "      <td>1200</td>\n",
       "      <td>1158</td>\n",
       "      <td>1181</td>\n",
       "      <td>3539</td>\n",
       "    </tr>\n",
       "  </tbody>\n",
       "</table>\n",
       "</div>"
      ],
      "text/plain": [
       "exp_id                    246   247   248  total\n",
       "event_name                                      \n",
       "CartScreenAppear         1266  1238  1230   3734\n",
       "MainScreenAppear         2450  2476  2493   7419\n",
       "OffersScreenAppear       1542  1520  1531   4593\n",
       "PaymentScreenSuccessful  1200  1158  1181   3539"
      ]
     },
     "execution_count": 101,
     "metadata": {},
     "output_type": "execute_result"
    }
   ],
   "source": [
    "# all events in the Tutorial category have been removed\n",
    "data_exp_group = data_exp_group.drop(index = 'Tutorial')\n",
    "data_exp_group"
   ]
  },
  {
   "cell_type": "code",
   "execution_count": 102,
   "metadata": {},
   "outputs": [
    {
     "data": {
      "text/plain": [
       "1200"
      ]
     },
     "execution_count": 102,
     "metadata": {},
     "output_type": "execute_result"
    }
   ],
   "source": [
    "# defining variables for calculating the statistical difference between groups 246 and 247\n",
    "#leads - the number of participants in the experiment at the beginning of the test, purchases - users who made a purchase\n",
    "purchases_246 = data_exp_group.loc['PaymentScreenSuccessful', 246]\n",
    "purchases_246"
   ]
  },
  {
   "cell_type": "code",
   "execution_count": 103,
   "metadata": {},
   "outputs": [
    {
     "data": {
      "text/plain": [
       "1158"
      ]
     },
     "execution_count": 103,
     "metadata": {},
     "output_type": "execute_result"
    }
   ],
   "source": [
    "purchases_247 = data_exp_group.loc['PaymentScreenSuccessful', 247]\n",
    "purchases_247"
   ]
  },
  {
   "cell_type": "code",
   "execution_count": 104,
   "metadata": {},
   "outputs": [
    {
     "data": {
      "text/plain": [
       "2484"
      ]
     },
     "execution_count": 104,
     "metadata": {},
     "output_type": "execute_result"
    }
   ],
   "source": [
    "leads_246 = users_by_exp_group.loc[246, 'device_id']\n",
    "leads_246"
   ]
  },
  {
   "cell_type": "code",
   "execution_count": 105,
   "metadata": {},
   "outputs": [
    {
     "data": {
      "text/plain": [
       "2513"
      ]
     },
     "execution_count": 105,
     "metadata": {},
     "output_type": "execute_result"
    }
   ],
   "source": [
    "leads_247 = users_by_exp_group.loc[247, 'device_id']\n",
    "leads_247"
   ]
  },
  {
   "cell_type": "code",
   "execution_count": 106,
   "metadata": {},
   "outputs": [
    {
     "data": {
      "text/plain": [
       "array([1200, 2484])"
      ]
     },
     "execution_count": 106,
     "metadata": {},
     "output_type": "execute_result"
    }
   ],
   "source": [
    "purchases = np.array([purchases_246, leads_246])\n",
    "\n",
    "purchases"
   ]
  },
  {
   "cell_type": "code",
   "execution_count": 107,
   "metadata": {},
   "outputs": [],
   "source": [
    "leads = np.array ([leads_246, leads_247])"
   ]
  },
  {
   "cell_type": "code",
   "execution_count": 108,
   "metadata": {},
   "outputs": [
    {
     "name": "stdout",
     "output_type": "stream",
     "text": [
      "p-value:  0.11456679313141849\n",
      "We failed to reject the null hypothesis; there is no evidence to consider the proportions different.\n"
     ]
    }
   ],
   "source": [
    "#checking for the presence/absence of statistically significant difference between groups 246 and 247\n",
    "\n",
    "alpha = 0.05 # critical level of statistical significance\n",
    "\n",
    "\n",
    "purchases = np.array([purchases_246, purchases_247])\n",
    "leads = np.array ([leads_246, leads_247])\n",
    "\n",
    "\n",
    "p1 = purchases[0]/leads[0]\n",
    "\n",
    "p2 = purchases[1]/leads[1]\n",
    "\n",
    "p_combined = (purchases[0] + purchases[1]) / (leads [0] + leads [1])\n",
    "\n",
    "difference = p1 - p2 \n",
    "\n",
    "z_value = difference / mth.sqrt(p_combined * (1 - p_combined) * (1/leads[0] + 1/leads[1]))\n",
    "\n",
    "distr = st.norm(0, 1)  \n",
    "\n",
    "p_value = (1 - distr.cdf(abs(z_value))) * 2\n",
    "\n",
    "print('p-value: ', p_value)\n",
    "\n",
    "if p_value < alpha:\n",
    "    print('We reject the null hypothesis: there is a significant difference between the proportions')\n",
    "else:\n",
    "    print(\n",
    "        'We failed to reject the null hypothesis; there is no evidence to consider the proportions different.'\n",
    "    ) \n",
    "\n"
   ]
  },
  {
   "cell_type": "markdown",
   "metadata": {},
   "source": [
    "**Conclusion:**\n",
    "There is no statistically significant difference between control groups 246 and 247"
   ]
  },
  {
   "cell_type": "markdown",
   "metadata": {},
   "source": [
    "#### Checking the statistical significance of the difference between the most popular event and all other events in the groups:"
   ]
  },
  {
   "cell_type": "code",
   "execution_count": 109,
   "metadata": {},
   "outputs": [
    {
     "data": {
      "text/html": [
       "<div>\n",
       "<style scoped>\n",
       "    .dataframe tbody tr th:only-of-type {\n",
       "        vertical-align: middle;\n",
       "    }\n",
       "\n",
       "    .dataframe tbody tr th {\n",
       "        vertical-align: top;\n",
       "    }\n",
       "\n",
       "    .dataframe thead th {\n",
       "        text-align: right;\n",
       "    }\n",
       "</style>\n",
       "<table border=\"1\" class=\"dataframe\">\n",
       "  <thead>\n",
       "    <tr style=\"text-align: right;\">\n",
       "      <th>exp_id</th>\n",
       "      <th>246</th>\n",
       "      <th>247</th>\n",
       "      <th>248</th>\n",
       "      <th>total</th>\n",
       "    </tr>\n",
       "    <tr>\n",
       "      <th>event_name</th>\n",
       "      <th></th>\n",
       "      <th></th>\n",
       "      <th></th>\n",
       "      <th></th>\n",
       "    </tr>\n",
       "  </thead>\n",
       "  <tbody>\n",
       "    <tr>\n",
       "      <th>MainScreenAppear</th>\n",
       "      <td>2450</td>\n",
       "      <td>2476</td>\n",
       "      <td>2493</td>\n",
       "      <td>7419</td>\n",
       "    </tr>\n",
       "    <tr>\n",
       "      <th>OffersScreenAppear</th>\n",
       "      <td>1542</td>\n",
       "      <td>1520</td>\n",
       "      <td>1531</td>\n",
       "      <td>4593</td>\n",
       "    </tr>\n",
       "    <tr>\n",
       "      <th>CartScreenAppear</th>\n",
       "      <td>1266</td>\n",
       "      <td>1238</td>\n",
       "      <td>1230</td>\n",
       "      <td>3734</td>\n",
       "    </tr>\n",
       "    <tr>\n",
       "      <th>PaymentScreenSuccessful</th>\n",
       "      <td>1200</td>\n",
       "      <td>1158</td>\n",
       "      <td>1181</td>\n",
       "      <td>3539</td>\n",
       "    </tr>\n",
       "  </tbody>\n",
       "</table>\n",
       "</div>"
      ],
      "text/plain": [
       "exp_id                    246   247   248  total\n",
       "event_name                                      \n",
       "MainScreenAppear         2450  2476  2493   7419\n",
       "OffersScreenAppear       1542  1520  1531   4593\n",
       "CartScreenAppear         1266  1238  1230   3734\n",
       "PaymentScreenSuccessful  1200  1158  1181   3539"
      ]
     },
     "execution_count": 109,
     "metadata": {},
     "output_type": "execute_result"
    }
   ],
   "source": [
    "#defining the most popular event\n",
    "data_pop_event = data_exp_group.sort_values(by = 'total', ascending = False)\n",
    "data_pop_event\n"
   ]
  },
  {
   "cell_type": "markdown",
   "metadata": {},
   "source": [
    "**Conclusion:** The most popular event for all participants in the experiment is MainScreenAppear. This confirms the normalcy of the funnel we described earlier. The majority of participants in the experiment are at the first step of the funnel."
   ]
  },
  {
   "cell_type": "code",
   "execution_count": 110,
   "metadata": {},
   "outputs": [
    {
     "data": {
      "text/html": [
       "<div>\n",
       "<style scoped>\n",
       "    .dataframe tbody tr th:only-of-type {\n",
       "        vertical-align: middle;\n",
       "    }\n",
       "\n",
       "    .dataframe tbody tr th {\n",
       "        vertical-align: top;\n",
       "    }\n",
       "\n",
       "    .dataframe thead th {\n",
       "        text-align: right;\n",
       "    }\n",
       "</style>\n",
       "<table border=\"1\" class=\"dataframe\">\n",
       "  <thead>\n",
       "    <tr style=\"text-align: right;\">\n",
       "      <th>exp_id</th>\n",
       "      <th>246</th>\n",
       "      <th>247</th>\n",
       "      <th>248</th>\n",
       "      <th>total</th>\n",
       "      <th>ratio_246</th>\n",
       "      <th>ratio_247</th>\n",
       "      <th>ratio_248</th>\n",
       "    </tr>\n",
       "    <tr>\n",
       "      <th>event_name</th>\n",
       "      <th></th>\n",
       "      <th></th>\n",
       "      <th></th>\n",
       "      <th></th>\n",
       "      <th></th>\n",
       "      <th></th>\n",
       "      <th></th>\n",
       "    </tr>\n",
       "  </thead>\n",
       "  <tbody>\n",
       "    <tr>\n",
       "      <th>MainScreenAppear</th>\n",
       "      <td>2450</td>\n",
       "      <td>2476</td>\n",
       "      <td>2493</td>\n",
       "      <td>7419</td>\n",
       "      <td>0.379374</td>\n",
       "      <td>0.387359</td>\n",
       "      <td>0.387413</td>\n",
       "    </tr>\n",
       "    <tr>\n",
       "      <th>OffersScreenAppear</th>\n",
       "      <td>1542</td>\n",
       "      <td>1520</td>\n",
       "      <td>1531</td>\n",
       "      <td>4593</td>\n",
       "      <td>0.238774</td>\n",
       "      <td>0.237797</td>\n",
       "      <td>0.237918</td>\n",
       "    </tr>\n",
       "    <tr>\n",
       "      <th>CartScreenAppear</th>\n",
       "      <td>1266</td>\n",
       "      <td>1238</td>\n",
       "      <td>1230</td>\n",
       "      <td>3734</td>\n",
       "      <td>0.196036</td>\n",
       "      <td>0.193680</td>\n",
       "      <td>0.191142</td>\n",
       "    </tr>\n",
       "    <tr>\n",
       "      <th>PaymentScreenSuccessful</th>\n",
       "      <td>1200</td>\n",
       "      <td>1158</td>\n",
       "      <td>1181</td>\n",
       "      <td>3539</td>\n",
       "      <td>0.185816</td>\n",
       "      <td>0.181164</td>\n",
       "      <td>0.183528</td>\n",
       "    </tr>\n",
       "  </tbody>\n",
       "</table>\n",
       "</div>"
      ],
      "text/plain": [
       "exp_id                    246   247   248  total  ratio_246  ratio_247  \\\n",
       "event_name                                                               \n",
       "MainScreenAppear         2450  2476  2493   7419   0.379374   0.387359   \n",
       "OffersScreenAppear       1542  1520  1531   4593   0.238774   0.237797   \n",
       "CartScreenAppear         1266  1238  1230   3734   0.196036   0.193680   \n",
       "PaymentScreenSuccessful  1200  1158  1181   3539   0.185816   0.181164   \n",
       "\n",
       "exp_id                   ratio_248  \n",
       "event_name                          \n",
       "MainScreenAppear          0.387413  \n",
       "OffersScreenAppear        0.237918  \n",
       "CartScreenAppear          0.191142  \n",
       "PaymentScreenSuccessful   0.183528  "
      ]
     },
     "execution_count": 110,
     "metadata": {},
     "output_type": "execute_result"
    }
   ],
   "source": [
    "# finding the proportions of users who completed all 4 types of events in each of the three groups\n",
    "data_pop_event['ratio_246'] = data_pop_event[246]/data_pop_event[246].sum()\n",
    "data_pop_event['ratio_247'] = data_pop_event[247]/data_pop_event[247].sum()\n",
    "data_pop_event['ratio_248'] = data_pop_event[248]/data_pop_event[248].sum()\n",
    "data_pop_event"
   ]
  },
  {
   "cell_type": "code",
   "execution_count": 111,
   "metadata": {},
   "outputs": [
    {
     "data": {
      "text/html": [
       "<div>\n",
       "<style scoped>\n",
       "    .dataframe tbody tr th:only-of-type {\n",
       "        vertical-align: middle;\n",
       "    }\n",
       "\n",
       "    .dataframe tbody tr th {\n",
       "        vertical-align: top;\n",
       "    }\n",
       "\n",
       "    .dataframe thead th {\n",
       "        text-align: right;\n",
       "    }\n",
       "</style>\n",
       "<table border=\"1\" class=\"dataframe\">\n",
       "  <thead>\n",
       "    <tr style=\"text-align: right;\">\n",
       "      <th>exp_id</th>\n",
       "      <th>246</th>\n",
       "      <th>247</th>\n",
       "      <th>248</th>\n",
       "      <th>total</th>\n",
       "      <th>ratio_246</th>\n",
       "      <th>ratio_247</th>\n",
       "      <th>ratio_248</th>\n",
       "      <th>250</th>\n",
       "    </tr>\n",
       "    <tr>\n",
       "      <th>event_name</th>\n",
       "      <th></th>\n",
       "      <th></th>\n",
       "      <th></th>\n",
       "      <th></th>\n",
       "      <th></th>\n",
       "      <th></th>\n",
       "      <th></th>\n",
       "      <th></th>\n",
       "    </tr>\n",
       "  </thead>\n",
       "  <tbody>\n",
       "    <tr>\n",
       "      <th>MainScreenAppear</th>\n",
       "      <td>2450</td>\n",
       "      <td>2476</td>\n",
       "      <td>2493</td>\n",
       "      <td>7419</td>\n",
       "      <td>0.379374</td>\n",
       "      <td>0.387359</td>\n",
       "      <td>0.387413</td>\n",
       "      <td>4926</td>\n",
       "    </tr>\n",
       "    <tr>\n",
       "      <th>OffersScreenAppear</th>\n",
       "      <td>1542</td>\n",
       "      <td>1520</td>\n",
       "      <td>1531</td>\n",
       "      <td>4593</td>\n",
       "      <td>0.238774</td>\n",
       "      <td>0.237797</td>\n",
       "      <td>0.237918</td>\n",
       "      <td>3062</td>\n",
       "    </tr>\n",
       "    <tr>\n",
       "      <th>CartScreenAppear</th>\n",
       "      <td>1266</td>\n",
       "      <td>1238</td>\n",
       "      <td>1230</td>\n",
       "      <td>3734</td>\n",
       "      <td>0.196036</td>\n",
       "      <td>0.193680</td>\n",
       "      <td>0.191142</td>\n",
       "      <td>2504</td>\n",
       "    </tr>\n",
       "    <tr>\n",
       "      <th>PaymentScreenSuccessful</th>\n",
       "      <td>1200</td>\n",
       "      <td>1158</td>\n",
       "      <td>1181</td>\n",
       "      <td>3539</td>\n",
       "      <td>0.185816</td>\n",
       "      <td>0.181164</td>\n",
       "      <td>0.183528</td>\n",
       "      <td>2358</td>\n",
       "    </tr>\n",
       "  </tbody>\n",
       "</table>\n",
       "</div>"
      ],
      "text/plain": [
       "exp_id                    246   247   248  total  ratio_246  ratio_247  \\\n",
       "event_name                                                               \n",
       "MainScreenAppear         2450  2476  2493   7419   0.379374   0.387359   \n",
       "OffersScreenAppear       1542  1520  1531   4593   0.238774   0.237797   \n",
       "CartScreenAppear         1266  1238  1230   3734   0.196036   0.193680   \n",
       "PaymentScreenSuccessful  1200  1158  1181   3539   0.185816   0.181164   \n",
       "\n",
       "exp_id                   ratio_248   250  \n",
       "event_name                                \n",
       "MainScreenAppear          0.387413  4926  \n",
       "OffersScreenAppear        0.237918  3062  \n",
       "CartScreenAppear          0.191142  2504  \n",
       "PaymentScreenSuccessful   0.183528  2358  "
      ]
     },
     "execution_count": 111,
     "metadata": {},
     "output_type": "execute_result"
    }
   ],
   "source": [
    "# creating a combined group 246+247 and name it 250\n",
    "data_pop_event[250] = data_pop_event[246]+data_pop_event[247]\n",
    "data_pop_event"
   ]
  },
  {
   "cell_type": "code",
   "execution_count": 112,
   "metadata": {},
   "outputs": [
    {
     "data": {
      "text/html": [
       "<div>\n",
       "<style scoped>\n",
       "    .dataframe tbody tr th:only-of-type {\n",
       "        vertical-align: middle;\n",
       "    }\n",
       "\n",
       "    .dataframe tbody tr th {\n",
       "        vertical-align: top;\n",
       "    }\n",
       "\n",
       "    .dataframe thead th {\n",
       "        text-align: right;\n",
       "    }\n",
       "</style>\n",
       "<table border=\"1\" class=\"dataframe\">\n",
       "  <thead>\n",
       "    <tr style=\"text-align: right;\">\n",
       "      <th>exp_id</th>\n",
       "      <th>246</th>\n",
       "      <th>247</th>\n",
       "      <th>248</th>\n",
       "      <th>250</th>\n",
       "    </tr>\n",
       "    <tr>\n",
       "      <th>event_name</th>\n",
       "      <th></th>\n",
       "      <th></th>\n",
       "      <th></th>\n",
       "      <th></th>\n",
       "    </tr>\n",
       "  </thead>\n",
       "  <tbody>\n",
       "    <tr>\n",
       "      <th>MainScreenAppear</th>\n",
       "      <td>2450</td>\n",
       "      <td>2476</td>\n",
       "      <td>2493</td>\n",
       "      <td>4926</td>\n",
       "    </tr>\n",
       "    <tr>\n",
       "      <th>OffersScreenAppear</th>\n",
       "      <td>1542</td>\n",
       "      <td>1520</td>\n",
       "      <td>1531</td>\n",
       "      <td>3062</td>\n",
       "    </tr>\n",
       "    <tr>\n",
       "      <th>CartScreenAppear</th>\n",
       "      <td>1266</td>\n",
       "      <td>1238</td>\n",
       "      <td>1230</td>\n",
       "      <td>2504</td>\n",
       "    </tr>\n",
       "    <tr>\n",
       "      <th>PaymentScreenSuccessful</th>\n",
       "      <td>1200</td>\n",
       "      <td>1158</td>\n",
       "      <td>1181</td>\n",
       "      <td>2358</td>\n",
       "    </tr>\n",
       "  </tbody>\n",
       "</table>\n",
       "</div>"
      ],
      "text/plain": [
       "exp_id                    246   247   248   250\n",
       "event_name                                     \n",
       "MainScreenAppear         2450  2476  2493  4926\n",
       "OffersScreenAppear       1542  1520  1531  3062\n",
       "CartScreenAppear         1266  1238  1230  2504\n",
       "PaymentScreenSuccessful  1200  1158  1181  2358"
      ]
     },
     "execution_count": 112,
     "metadata": {},
     "output_type": "execute_result"
    }
   ],
   "source": [
    "# keeping in the table only the values necessary for conducting the z-test\n",
    "data_for_test = data_pop_event[[ 246, 247, 248, 250]]\n",
    "data_for_test"
   ]
  },
  {
   "cell_type": "code",
   "execution_count": 113,
   "metadata": {},
   "outputs": [
    {
     "data": {
      "text/html": [
       "<div>\n",
       "<style scoped>\n",
       "    .dataframe tbody tr th:only-of-type {\n",
       "        vertical-align: middle;\n",
       "    }\n",
       "\n",
       "    .dataframe tbody tr th {\n",
       "        vertical-align: top;\n",
       "    }\n",
       "\n",
       "    .dataframe thead th {\n",
       "        text-align: right;\n",
       "    }\n",
       "</style>\n",
       "<table border=\"1\" class=\"dataframe\">\n",
       "  <thead>\n",
       "    <tr style=\"text-align: right;\">\n",
       "      <th></th>\n",
       "      <th>device_id</th>\n",
       "      <th>ratio</th>\n",
       "    </tr>\n",
       "    <tr>\n",
       "      <th>exp_id</th>\n",
       "      <th></th>\n",
       "      <th></th>\n",
       "    </tr>\n",
       "  </thead>\n",
       "  <tbody>\n",
       "    <tr>\n",
       "      <th>246</th>\n",
       "      <td>2484</td>\n",
       "      <td>0.329705</td>\n",
       "    </tr>\n",
       "    <tr>\n",
       "      <th>247</th>\n",
       "      <td>2513</td>\n",
       "      <td>0.333555</td>\n",
       "    </tr>\n",
       "    <tr>\n",
       "      <th>248</th>\n",
       "      <td>2537</td>\n",
       "      <td>0.336740</td>\n",
       "    </tr>\n",
       "    <tr>\n",
       "      <th>250</th>\n",
       "      <td>4997</td>\n",
       "      <td>4997.000000</td>\n",
       "    </tr>\n",
       "  </tbody>\n",
       "</table>\n",
       "</div>"
      ],
      "text/plain": [
       "        device_id        ratio\n",
       "exp_id                        \n",
       "246          2484     0.329705\n",
       "247          2513     0.333555\n",
       "248          2537     0.336740\n",
       "250          4997  4997.000000"
      ]
     },
     "execution_count": 113,
     "metadata": {},
     "output_type": "execute_result"
    }
   ],
   "source": [
    "# adding to the table the breakdown of test participants by groups, including data for group 250.\n",
    "users_by_exp_group.loc[250] = (users_by_exp_group.loc[246, 'device_id'] \n",
    "                                 + users_by_exp_group.loc[247, 'device_id'])\n",
    "\n",
    "users_by_exp_group\n",
    "\n"
   ]
  },
  {
   "cell_type": "markdown",
   "metadata": {},
   "source": [
    "To test the statistical difference between proportions, we will create a function. We plan to test 4 groups for 4 events: 246 and 247, 246 and 248, 247 and 248, 250 and 248. This amounts to 16 tests. We will again use the z-test, but this time we will apply the Bonferroni correction, which equals alpha/16, for the number of tests.\n",
    "\n",
    "\n",
    "**Null Hypothesis:** The proportions of unique visitors who visited each stage of the funnel are the same.\n",
    "**Alternative Hypothesis:** There is a significant difference between the proportions of unique visitors who visited each stage of the funnel."
   ]
  },
  {
   "cell_type": "code",
   "execution_count": 123,
   "metadata": {},
   "outputs": [],
   "source": [
    "#create a function to calculate the difference between proportions\n",
    "\n",
    "alpha = .05 # critical level of statistical significance\n",
    "\n",
    "def check_equal_z_test_bonf (group1, group2, event, alpha): \n",
    "    p1_event = data_for_test.loc[event, group1]\n",
    "    p2_event = data_for_test.loc[event, group2] \n",
    "    p1_users = users_by_exp_group.loc[group1, 'device_id'] \n",
    "    p2_users = users_by_exp_group.loc[group2, 'device_id'] \n",
    "    p1 = p1_event / p1_users \n",
    "    p2 = p2_event / p2_users \n",
    "    difference = p1 - p2\n",
    "    p_combined = (p1_event + p2_event) / (p1_users + p2_users) \n",
    "    z_value = difference / mth.sqrt(p_combined * (1 - p_combined) * (1 / p1_users + 1 / p2_users))\n",
    "    distr = st.norm(0, 1)\n",
    "    p_value = (1 - distr.cdf(abs(z_value))) * 2\n",
    "    \n",
    "    bonferroni_alpha = alpha / 16\n",
    "    \n",
    "    print('Checking for groups {} and {}, event: {}, p-value: {:.2f}'.format(group1, group2, event, p_value))\n",
    "    if (p_value < bonferroni_alpha):\n",
    "        print(\"Reject the null hypothesis: there is a significant difference between the proportions\")\n",
    "    else:\n",
    "        print(\"Failed to reject the null hypothesis, there is no evidence to suggest the proportions are different\")"
   ]
  },
  {
   "cell_type": "code",
   "execution_count": 124,
   "metadata": {},
   "outputs": [
    {
     "name": "stdout",
     "output_type": "stream",
     "text": [
      "Checking for groups 246 and 247, event: MainScreenAppear, p-value: 0.76\n",
      "Failed to reject the null hypothesis, there is no evidence to suggest the proportions are different\n",
      "\n",
      "Checking for groups 246 and 247, event: OffersScreenAppear, p-value: 0.25\n",
      "Failed to reject the null hypothesis, there is no evidence to suggest the proportions are different\n",
      "\n",
      "Checking for groups 246 and 247, event: CartScreenAppear, p-value: 0.23\n",
      "Failed to reject the null hypothesis, there is no evidence to suggest the proportions are different\n",
      "\n",
      "Checking for groups 246 and 247, event: PaymentScreenSuccessful, p-value: 0.11\n",
      "Failed to reject the null hypothesis, there is no evidence to suggest the proportions are different\n",
      "\n"
     ]
    }
   ],
   "source": [
    "#conducting the test for groups 246 and 247.\n",
    "for event in data_for_test.index:\n",
    "    check_equal_z_test_bonf(246, 247, event, 0.05)\n",
    "    print()"
   ]
  },
  {
   "cell_type": "markdown",
   "metadata": {},
   "source": [
    "**Conclusion:** conducting a z-test with Bonferroni correction, we did not detect statistically significant differences between groups 246 and 247, unlike the z-test we previously conducted for groups 246 and 247 without correction."
   ]
  },
  {
   "cell_type": "code",
   "execution_count": 125,
   "metadata": {},
   "outputs": [
    {
     "name": "stdout",
     "output_type": "stream",
     "text": [
      "Checking for groups 246 and 248, event: MainScreenAppear, p-value: 0.29\n",
      "Failed to reject the null hypothesis, there is no evidence to suggest the proportions are different\n",
      "\n",
      "Checking for groups 246 and 248, event: OffersScreenAppear, p-value: 0.21\n",
      "Failed to reject the null hypothesis, there is no evidence to suggest the proportions are different\n",
      "\n",
      "Checking for groups 246 and 248, event: CartScreenAppear, p-value: 0.08\n",
      "Failed to reject the null hypothesis, there is no evidence to suggest the proportions are different\n",
      "\n",
      "Checking for groups 246 and 248, event: PaymentScreenSuccessful, p-value: 0.21\n",
      "Failed to reject the null hypothesis, there is no evidence to suggest the proportions are different\n",
      "\n"
     ]
    }
   ],
   "source": [
    "#conducting the test for groups 246 and 248\n",
    "for event in data_for_test.index:\n",
    "    check_equal_z_test_bonf(246, 248, event, 0.05)\n",
    "    print()"
   ]
  },
  {
   "cell_type": "code",
   "execution_count": 126,
   "metadata": {},
   "outputs": [
    {
     "name": "stdout",
     "output_type": "stream",
     "text": [
      "Checking for groups 247 and 248, event: MainScreenAppear, p-value: 0.46\n",
      "Failed to reject the null hypothesis, there is no evidence to suggest the proportions are different\n",
      "\n",
      "Checking for groups 247 and 248, event: OffersScreenAppear, p-value: 0.92\n",
      "Failed to reject the null hypothesis, there is no evidence to suggest the proportions are different\n",
      "\n",
      "Checking for groups 247 and 248, event: CartScreenAppear, p-value: 0.58\n",
      "Failed to reject the null hypothesis, there is no evidence to suggest the proportions are different\n",
      "\n",
      "Checking for groups 247 and 248, event: PaymentScreenSuccessful, p-value: 0.74\n",
      "Failed to reject the null hypothesis, there is no evidence to suggest the proportions are different\n",
      "\n"
     ]
    }
   ],
   "source": [
    "#conducting the test for groups 247 and 248\n",
    "for event in data_for_test.index:\n",
    "    check_equal_z_test_bonf(247, 248, event, 0.05)\n",
    "    print()"
   ]
  },
  {
   "cell_type": "code",
   "execution_count": 127,
   "metadata": {},
   "outputs": [
    {
     "name": "stdout",
     "output_type": "stream",
     "text": [
      "Checking for groups 248 and 250, event: MainScreenAppear, p-value: 0.29\n",
      "Failed to reject the null hypothesis, there is no evidence to suggest the proportions are different\n",
      "\n",
      "Checking for groups 248 and 250, event: OffersScreenAppear, p-value: 0.43\n",
      "Failed to reject the null hypothesis, there is no evidence to suggest the proportions are different\n",
      "\n",
      "Checking for groups 248 and 250, event: CartScreenAppear, p-value: 0.18\n",
      "Failed to reject the null hypothesis, there is no evidence to suggest the proportions are different\n",
      "\n",
      "Checking for groups 248 and 250, event: PaymentScreenSuccessful, p-value: 0.60\n",
      "Failed to reject the null hypothesis, there is no evidence to suggest the proportions are different\n",
      "\n"
     ]
    }
   ],
   "source": [
    "#conducting the test for groups 248 and 250\n",
    "for event in data_for_test.index:\n",
    "    check_equal_z_test_bonf(248, 250, event, 0.05)\n",
    "    print()"
   ]
  },
  {
   "cell_type": "markdown",
   "metadata": {},
   "source": [
    "#### The choice of the level of statistical significance"
   ]
  },
  {
   "cell_type": "markdown",
   "metadata": {},
   "source": [
    "To find differences between control and experimental groups, we chose the z-test, setting the value for alpha at 0.05 and using the Bonferroni correction equal to the number of comparisons conducted - 16."
   ]
  },
  {
   "cell_type": "markdown",
   "metadata": {},
   "source": [
    "### Final conclusion"
   ]
  },
  {
   "cell_type": "markdown",
   "metadata": {},
   "source": [
    "In this project, we analyzed the results of an A/A/B test conducted for a mobile application. The control groups (246 and 247) saw the version of the application without font changes, while the experimental group (248) saw the version with font changes.\n",
    "\n",
    " - For analysis, we have data from June 25, 2019, to August 7, 2019. To analyze the test results, we used data from August 1st to 8th, as the data from July 25th to 31st is incomplete.\n",
    " - After data cleaning, we lost less than 1% of unique users and 1% of events in the log.\n",
    " - In the sales funnel and test analysis, we do not consider the Tutorial event as it is the least significant among all events and does not affect the outcome - completing the payment.\n",
    " - 47% of users proceed from the first event (main screen view) to payment.\n",
    " - The largest number of users is lost when transitioning from the main screen to the special offers page.\n",
    " - The distribution into test groups is even. The difference between groups is less than 1 percentage point.\n",
    " - Analysis of the A/A/B test results did not reveal significant differences between the control and experimental groups. It can be concluded that the font styles used for the test did not affect user behavior in the application. \n"
   ]
  }
 ],
 "metadata": {
  "ExecuteTimeLog": [
   {
    "duration": 1262,
    "start_time": "2023-01-03T14:01:20.164Z"
   },
   {
    "duration": 91,
    "start_time": "2023-01-03T14:02:08.926Z"
   },
   {
    "duration": 655,
    "start_time": "2023-01-03T14:02:15.390Z"
   },
   {
    "duration": 312,
    "start_time": "2023-01-03T14:02:32.415Z"
   },
   {
    "duration": 260,
    "start_time": "2023-01-03T14:03:17.094Z"
   },
   {
    "duration": 17,
    "start_time": "2023-01-03T14:03:18.389Z"
   },
   {
    "duration": 17,
    "start_time": "2023-01-03T14:03:42.996Z"
   },
   {
    "duration": 10,
    "start_time": "2023-01-03T14:04:19.488Z"
   },
   {
    "duration": 288,
    "start_time": "2023-01-03T14:05:58.573Z"
   },
   {
    "duration": 18,
    "start_time": "2023-01-03T14:05:59.581Z"
   },
   {
    "duration": 8,
    "start_time": "2023-01-03T14:06:00.718Z"
   },
   {
    "duration": 319,
    "start_time": "2023-01-03T14:07:39.890Z"
   },
   {
    "duration": 17,
    "start_time": "2023-01-03T14:07:41.579Z"
   },
   {
    "duration": 6,
    "start_time": "2023-01-03T14:07:42.987Z"
   },
   {
    "duration": 46,
    "start_time": "2023-01-03T14:11:19.905Z"
   },
   {
    "duration": 27,
    "start_time": "2023-01-03T14:11:20.744Z"
   },
   {
    "duration": 9,
    "start_time": "2023-01-03T14:11:23.136Z"
   },
   {
    "duration": 45,
    "start_time": "2023-01-03T14:14:24.778Z"
   },
   {
    "duration": 260,
    "start_time": "2023-01-03T14:14:32.818Z"
   },
   {
    "duration": 22,
    "start_time": "2023-01-03T14:14:34.122Z"
   },
   {
    "duration": 6,
    "start_time": "2023-01-03T14:14:35.429Z"
   },
   {
    "duration": 3,
    "start_time": "2023-01-03T14:21:07.602Z"
   },
   {
    "duration": 274,
    "start_time": "2023-01-03T14:21:08.164Z"
   },
   {
    "duration": 19,
    "start_time": "2023-01-03T14:21:08.783Z"
   },
   {
    "duration": 7,
    "start_time": "2023-01-03T14:21:09.514Z"
   },
   {
    "duration": 2,
    "start_time": "2023-01-03T14:46:18.351Z"
   },
   {
    "duration": 291,
    "start_time": "2023-01-03T14:46:18.922Z"
   },
   {
    "duration": 18,
    "start_time": "2023-01-03T14:46:19.612Z"
   },
   {
    "duration": 7,
    "start_time": "2023-01-03T14:46:22.740Z"
   },
   {
    "duration": 168,
    "start_time": "2023-01-03T15:03:52.426Z"
   },
   {
    "duration": 19,
    "start_time": "2023-01-03T15:03:53.030Z"
   },
   {
    "duration": 7,
    "start_time": "2023-01-03T15:03:53.741Z"
   },
   {
    "duration": 18,
    "start_time": "2023-01-03T15:10:09.926Z"
   },
   {
    "duration": 7,
    "start_time": "2023-01-03T15:11:28.899Z"
   },
   {
    "duration": 17,
    "start_time": "2023-01-03T15:11:40.383Z"
   },
   {
    "duration": 706,
    "start_time": "2023-01-03T15:16:58.943Z"
   },
   {
    "duration": 8,
    "start_time": "2023-01-03T15:17:19.734Z"
   },
   {
    "duration": 8,
    "start_time": "2023-01-03T15:17:20.265Z"
   },
   {
    "duration": 919,
    "start_time": "2023-01-03T15:17:20.939Z"
   },
   {
    "duration": 26,
    "start_time": "2023-01-03T15:18:48.523Z"
   },
   {
    "duration": 8,
    "start_time": "2023-01-03T15:19:08.158Z"
   },
   {
    "duration": 17,
    "start_time": "2023-01-03T15:19:09.426Z"
   },
   {
    "duration": 18,
    "start_time": "2023-01-03T15:19:27.980Z"
   },
   {
    "duration": 9,
    "start_time": "2023-01-03T15:19:28.525Z"
   },
   {
    "duration": 5,
    "start_time": "2023-01-03T15:19:29.140Z"
   },
   {
    "duration": 18,
    "start_time": "2023-01-03T15:19:30.006Z"
   },
   {
    "duration": 10,
    "start_time": "2023-01-03T15:19:43.777Z"
   },
   {
    "duration": 17,
    "start_time": "2023-01-03T15:19:51.168Z"
   },
   {
    "duration": 6,
    "start_time": "2023-01-03T15:20:04.073Z"
   },
   {
    "duration": 19,
    "start_time": "2023-01-03T15:20:05.062Z"
   },
   {
    "duration": 13,
    "start_time": "2023-01-03T15:20:06.052Z"
   },
   {
    "duration": 18,
    "start_time": "2023-01-03T15:20:06.962Z"
   },
   {
    "duration": 8,
    "start_time": "2023-01-03T15:21:39.556Z"
   },
   {
    "duration": 30,
    "start_time": "2023-01-03T15:27:38.070Z"
   },
   {
    "duration": 8,
    "start_time": "2023-01-03T15:27:38.767Z"
   },
   {
    "duration": 3,
    "start_time": "2023-01-03T15:28:00.211Z"
   },
   {
    "duration": 10,
    "start_time": "2023-01-03T15:28:00.772Z"
   },
   {
    "duration": 21,
    "start_time": "2023-01-03T15:28:18.414Z"
   },
   {
    "duration": 8,
    "start_time": "2023-01-03T15:28:19.785Z"
   },
   {
    "duration": 9,
    "start_time": "2023-01-03T15:35:00.557Z"
   },
   {
    "duration": 3,
    "start_time": "2023-01-03T15:35:43.321Z"
   },
   {
    "duration": 13,
    "start_time": "2023-01-03T15:35:43.840Z"
   },
   {
    "duration": 13,
    "start_time": "2023-01-03T15:36:22.070Z"
   },
   {
    "duration": 9,
    "start_time": "2023-01-03T15:36:22.678Z"
   },
   {
    "duration": 1193,
    "start_time": "2023-01-04T10:23:21.470Z"
   },
   {
    "duration": 477,
    "start_time": "2023-01-04T10:23:22.665Z"
   },
   {
    "duration": 20,
    "start_time": "2023-01-04T10:23:23.144Z"
   },
   {
    "duration": 10,
    "start_time": "2023-01-04T10:23:23.966Z"
   },
   {
    "duration": 7,
    "start_time": "2023-01-04T10:23:24.652Z"
   },
   {
    "duration": 18,
    "start_time": "2023-01-04T10:23:25.662Z"
   },
   {
    "duration": 12,
    "start_time": "2023-01-04T10:23:27.226Z"
   },
   {
    "duration": 8,
    "start_time": "2023-01-04T10:23:29.951Z"
   },
   {
    "duration": 9,
    "start_time": "2023-01-04T10:23:31.154Z"
   },
   {
    "duration": 8,
    "start_time": "2023-01-04T10:23:47.703Z"
   },
   {
    "duration": 9,
    "start_time": "2023-01-04T10:23:48.567Z"
   },
   {
    "duration": 60,
    "start_time": "2023-01-04T10:35:51.889Z"
   },
   {
    "duration": 91,
    "start_time": "2023-01-04T10:45:00.015Z"
   },
   {
    "duration": 10,
    "start_time": "2023-01-04T10:46:57.229Z"
   },
   {
    "duration": 20,
    "start_time": "2023-01-04T10:47:38.359Z"
   },
   {
    "duration": 61,
    "start_time": "2023-01-04T10:51:45.641Z"
   },
   {
    "duration": 73,
    "start_time": "2023-01-04T11:02:49.933Z"
   },
   {
    "duration": 77,
    "start_time": "2023-01-04T11:04:19.968Z"
   },
   {
    "duration": 107,
    "start_time": "2023-01-04T11:04:38.495Z"
   },
   {
    "duration": 17,
    "start_time": "2023-01-04T11:04:56.554Z"
   },
   {
    "duration": 10,
    "start_time": "2023-01-04T11:29:02.489Z"
   },
   {
    "duration": 9,
    "start_time": "2023-01-04T11:29:20.207Z"
   },
   {
    "duration": 22,
    "start_time": "2023-01-04T11:30:01.901Z"
   },
   {
    "duration": 26,
    "start_time": "2023-01-04T11:32:58.158Z"
   },
   {
    "duration": 24,
    "start_time": "2023-01-04T11:33:16.148Z"
   },
   {
    "duration": 8,
    "start_time": "2023-01-04T11:34:19.351Z"
   },
   {
    "duration": 19,
    "start_time": "2023-01-04T11:34:19.970Z"
   },
   {
    "duration": 2,
    "start_time": "2023-01-04T11:34:20.994Z"
   },
   {
    "duration": 11,
    "start_time": "2023-01-04T11:34:21.410Z"
   },
   {
    "duration": 8,
    "start_time": "2023-01-04T11:34:21.635Z"
   },
   {
    "duration": 10,
    "start_time": "2023-01-04T11:34:21.872Z"
   },
   {
    "duration": 59,
    "start_time": "2023-01-04T11:34:22.062Z"
   },
   {
    "duration": 115,
    "start_time": "2023-01-04T11:34:22.299Z"
   },
   {
    "duration": 17,
    "start_time": "2023-01-04T11:34:22.491Z"
   },
   {
    "duration": 29,
    "start_time": "2023-01-04T11:34:30.669Z"
   },
   {
    "duration": 24,
    "start_time": "2023-01-04T11:35:09.291Z"
   },
   {
    "duration": 52,
    "start_time": "2023-01-04T11:37:28.424Z"
   },
   {
    "duration": 5,
    "start_time": "2023-01-04T11:45:22.147Z"
   },
   {
    "duration": 5,
    "start_time": "2023-01-04T11:45:37.288Z"
   },
   {
    "duration": 15,
    "start_time": "2023-01-04T11:55:12.253Z"
   },
   {
    "duration": 15,
    "start_time": "2023-01-04T11:55:55.738Z"
   },
   {
    "duration": 8,
    "start_time": "2023-01-04T12:00:46.838Z"
   },
   {
    "duration": 17,
    "start_time": "2023-01-04T12:01:25.110Z"
   },
   {
    "duration": 32,
    "start_time": "2023-01-04T12:01:34.762Z"
   },
   {
    "duration": 17,
    "start_time": "2023-01-04T12:02:13.901Z"
   },
   {
    "duration": 16,
    "start_time": "2023-01-04T12:02:31.037Z"
   },
   {
    "duration": 26,
    "start_time": "2023-01-04T14:09:30.714Z"
   },
   {
    "duration": 53,
    "start_time": "2023-01-04T14:10:00.934Z"
   },
   {
    "duration": 2,
    "start_time": "2023-01-04T14:11:31.496Z"
   },
   {
    "duration": 10,
    "start_time": "2023-01-04T14:13:06.277Z"
   },
   {
    "duration": 11,
    "start_time": "2023-01-04T14:13:49.445Z"
   },
   {
    "duration": 8,
    "start_time": "2023-01-04T14:16:07.305Z"
   },
   {
    "duration": 7,
    "start_time": "2023-01-04T14:17:13.874Z"
   },
   {
    "duration": 4,
    "start_time": "2023-01-04T14:19:20.809Z"
   },
   {
    "duration": 4,
    "start_time": "2023-01-04T14:19:42.421Z"
   },
   {
    "duration": 5,
    "start_time": "2023-01-04T14:22:47.847Z"
   },
   {
    "duration": 3,
    "start_time": "2023-01-04T14:23:06.816Z"
   },
   {
    "duration": 4,
    "start_time": "2023-01-04T14:23:41.399Z"
   },
   {
    "duration": 2,
    "start_time": "2023-01-04T14:23:41.950Z"
   },
   {
    "duration": 5,
    "start_time": "2023-01-04T14:24:41.145Z"
   },
   {
    "duration": 2,
    "start_time": "2023-01-04T14:24:56.111Z"
   },
   {
    "duration": 176,
    "start_time": "2023-01-04T14:43:55.567Z"
   },
   {
    "duration": 43,
    "start_time": "2023-01-04T14:46:43.948Z"
   },
   {
    "duration": 18,
    "start_time": "2023-01-04T14:47:08.688Z"
   },
   {
    "duration": 61,
    "start_time": "2023-01-04T15:00:46.353Z"
   },
   {
    "duration": 28,
    "start_time": "2023-01-04T15:02:28.227Z"
   },
   {
    "duration": 176,
    "start_time": "2023-01-04T15:02:54.010Z"
   },
   {
    "duration": 29,
    "start_time": "2023-01-04T15:04:54.297Z"
   },
   {
    "duration": 26,
    "start_time": "2023-01-04T15:05:27.071Z"
   },
   {
    "duration": 25,
    "start_time": "2023-01-04T15:05:41.663Z"
   },
   {
    "duration": 29,
    "start_time": "2023-01-04T15:06:36.416Z"
   },
   {
    "duration": 66,
    "start_time": "2023-01-04T15:06:57.240Z"
   },
   {
    "duration": 9,
    "start_time": "2023-01-04T15:07:48.780Z"
   },
   {
    "duration": 151,
    "start_time": "2023-01-04T15:08:11.963Z"
   },
   {
    "duration": 9,
    "start_time": "2023-01-04T15:14:12.805Z"
   },
   {
    "duration": 75,
    "start_time": "2023-01-04T15:14:31.570Z"
   },
   {
    "duration": 9,
    "start_time": "2023-01-04T15:15:10.775Z"
   },
   {
    "duration": 9,
    "start_time": "2023-01-04T15:27:11.285Z"
   },
   {
    "duration": 68,
    "start_time": "2023-01-04T15:27:20.385Z"
   },
   {
    "duration": 249,
    "start_time": "2023-01-04T15:39:14.200Z"
   },
   {
    "duration": 183,
    "start_time": "2023-01-04T15:44:42.934Z"
   },
   {
    "duration": 185,
    "start_time": "2023-01-04T15:44:53.239Z"
   },
   {
    "duration": 196,
    "start_time": "2023-01-04T15:45:47.265Z"
   },
   {
    "duration": 187,
    "start_time": "2023-01-04T15:46:27.482Z"
   },
   {
    "duration": 308,
    "start_time": "2023-01-04T15:46:49.173Z"
   },
   {
    "duration": 207,
    "start_time": "2023-01-04T15:47:06.644Z"
   },
   {
    "duration": 286,
    "start_time": "2023-01-04T15:47:41.678Z"
   },
   {
    "duration": 195,
    "start_time": "2023-01-04T15:47:51.666Z"
   },
   {
    "duration": 266,
    "start_time": "2023-01-04T15:48:55.951Z"
   },
   {
    "duration": 168,
    "start_time": "2023-01-04T15:49:13.580Z"
   },
   {
    "duration": 209,
    "start_time": "2023-01-04T15:49:29.824Z"
   },
   {
    "duration": 214,
    "start_time": "2023-01-04T16:26:51.789Z"
   },
   {
    "duration": 189,
    "start_time": "2023-01-04T16:27:00.957Z"
   },
   {
    "duration": 1057,
    "start_time": "2023-01-04T16:27:22.055Z"
   },
   {
    "duration": 178,
    "start_time": "2023-01-04T16:27:23.115Z"
   },
   {
    "duration": 30,
    "start_time": "2023-01-04T16:27:23.295Z"
   },
   {
    "duration": 16,
    "start_time": "2023-01-04T16:27:23.327Z"
   },
   {
    "duration": 17,
    "start_time": "2023-01-04T16:27:23.345Z"
   },
   {
    "duration": 75,
    "start_time": "2023-01-04T16:27:23.363Z"
   },
   {
    "duration": 21,
    "start_time": "2023-01-04T16:27:23.440Z"
   },
   {
    "duration": 68,
    "start_time": "2023-01-04T16:27:23.463Z"
   },
   {
    "duration": 15,
    "start_time": "2023-01-04T16:27:23.534Z"
   },
   {
    "duration": 10,
    "start_time": "2023-01-04T16:27:23.643Z"
   },
   {
    "duration": 68,
    "start_time": "2023-01-04T16:27:23.822Z"
   },
   {
    "duration": 153,
    "start_time": "2023-01-04T16:27:24.025Z"
   },
   {
    "duration": 20,
    "start_time": "2023-01-04T16:27:24.227Z"
   },
   {
    "duration": 2,
    "start_time": "2023-01-04T16:27:24.566Z"
   },
   {
    "duration": 22,
    "start_time": "2023-01-04T16:27:24.744Z"
   },
   {
    "duration": 8,
    "start_time": "2023-01-04T16:27:25.139Z"
   },
   {
    "duration": 4,
    "start_time": "2023-01-04T16:27:25.354Z"
   },
   {
    "duration": 6,
    "start_time": "2023-01-04T16:27:25.679Z"
   },
   {
    "duration": 3,
    "start_time": "2023-01-04T16:27:26.016Z"
   },
   {
    "duration": 7,
    "start_time": "2023-01-04T16:27:26.354Z"
   },
   {
    "duration": 3,
    "start_time": "2023-01-04T16:27:26.621Z"
   },
   {
    "duration": 303,
    "start_time": "2023-01-04T16:27:28.277Z"
   },
   {
    "duration": 252,
    "start_time": "2023-01-04T16:27:36.142Z"
   },
   {
    "duration": 181,
    "start_time": "2023-01-04T16:29:35.757Z"
   },
   {
    "duration": 42,
    "start_time": "2023-01-04T16:29:48.231Z"
   },
   {
    "duration": 44,
    "start_time": "2023-01-04T16:34:10.573Z"
   },
   {
    "duration": 91,
    "start_time": "2023-01-04T16:34:21.982Z"
   },
   {
    "duration": 4,
    "start_time": "2023-01-04T16:34:45.922Z"
   },
   {
    "duration": 179,
    "start_time": "2023-01-04T16:34:46.384Z"
   },
   {
    "duration": 23,
    "start_time": "2023-01-04T16:34:46.565Z"
   },
   {
    "duration": 10,
    "start_time": "2023-01-04T16:34:46.763Z"
   },
   {
    "duration": 5,
    "start_time": "2023-01-04T16:34:46.960Z"
   },
   {
    "duration": 21,
    "start_time": "2023-01-04T16:34:47.129Z"
   },
   {
    "duration": 3,
    "start_time": "2023-01-04T16:34:47.305Z"
   },
   {
    "duration": 7,
    "start_time": "2023-01-04T16:34:47.497Z"
   },
   {
    "duration": 7,
    "start_time": "2023-01-04T16:34:47.665Z"
   },
   {
    "duration": 10,
    "start_time": "2023-01-04T16:34:47.856Z"
   },
   {
    "duration": 67,
    "start_time": "2023-01-04T16:34:48.059Z"
   },
   {
    "duration": 138,
    "start_time": "2023-01-04T16:34:48.262Z"
   },
   {
    "duration": 19,
    "start_time": "2023-01-04T16:34:48.452Z"
   },
   {
    "duration": 2,
    "start_time": "2023-01-04T16:34:48.836Z"
   },
   {
    "duration": 11,
    "start_time": "2023-01-04T16:34:49.040Z"
   },
   {
    "duration": 8,
    "start_time": "2023-01-04T16:34:49.431Z"
   },
   {
    "duration": 5,
    "start_time": "2023-01-04T16:34:49.600Z"
   },
   {
    "duration": 6,
    "start_time": "2023-01-04T16:34:49.791Z"
   },
   {
    "duration": 3,
    "start_time": "2023-01-04T16:34:49.971Z"
   },
   {
    "duration": 6,
    "start_time": "2023-01-04T16:34:50.173Z"
   },
   {
    "duration": 3,
    "start_time": "2023-01-04T16:34:50.388Z"
   },
   {
    "duration": 188,
    "start_time": "2023-01-04T16:34:50.816Z"
   },
   {
    "duration": 36,
    "start_time": "2023-01-04T16:34:51.861Z"
   },
   {
    "duration": 8,
    "start_time": "2023-01-04T16:34:53.853Z"
   },
   {
    "duration": 11,
    "start_time": "2023-01-04T16:35:02.695Z"
   },
   {
    "duration": 47,
    "start_time": "2023-01-04T16:39:44.176Z"
   },
   {
    "duration": 32,
    "start_time": "2023-01-04T16:40:20.672Z"
   },
   {
    "duration": 49,
    "start_time": "2023-01-04T16:41:17.271Z"
   },
   {
    "duration": 76,
    "start_time": "2023-01-04T16:41:40.706Z"
   },
   {
    "duration": 37,
    "start_time": "2023-01-04T16:41:51.079Z"
   },
   {
    "duration": 26,
    "start_time": "2023-01-04T16:46:06.020Z"
   },
   {
    "duration": 4,
    "start_time": "2023-01-04T16:46:53.429Z"
   },
   {
    "duration": 30,
    "start_time": "2023-01-04T16:47:22.894Z"
   },
   {
    "duration": 26,
    "start_time": "2023-01-04T16:49:24.338Z"
   },
   {
    "duration": 22,
    "start_time": "2023-01-04T16:50:48.070Z"
   },
   {
    "duration": 20,
    "start_time": "2023-01-04T16:54:45.376Z"
   },
   {
    "duration": 9,
    "start_time": "2023-01-04T16:55:39.396Z"
   },
   {
    "duration": 13,
    "start_time": "2023-01-04T16:58:49.322Z"
   },
   {
    "duration": 7,
    "start_time": "2023-01-04T16:58:56.130Z"
   },
   {
    "duration": 5,
    "start_time": "2023-01-04T16:59:27.777Z"
   },
   {
    "duration": 6,
    "start_time": "2023-01-04T17:00:04.621Z"
   },
   {
    "duration": 3,
    "start_time": "2023-01-04T17:00:50.980Z"
   },
   {
    "duration": 3,
    "start_time": "2023-01-04T17:01:01.556Z"
   },
   {
    "duration": 4,
    "start_time": "2023-01-04T17:01:04.866Z"
   },
   {
    "duration": 2,
    "start_time": "2023-01-04T17:01:07.890Z"
   },
   {
    "duration": 4,
    "start_time": "2023-01-04T17:01:22.372Z"
   },
   {
    "duration": 12,
    "start_time": "2023-01-04T17:05:53.198Z"
   },
   {
    "duration": 11,
    "start_time": "2023-01-04T17:06:20.794Z"
   },
   {
    "duration": 28,
    "start_time": "2023-01-04T17:08:58.849Z"
   },
   {
    "duration": 53,
    "start_time": "2023-01-04T17:09:19.954Z"
   },
   {
    "duration": 45,
    "start_time": "2023-01-05T14:36:43.372Z"
   },
   {
    "duration": 1173,
    "start_time": "2023-01-05T14:36:58.656Z"
   },
   {
    "duration": 510,
    "start_time": "2023-01-05T14:36:59.831Z"
   },
   {
    "duration": 27,
    "start_time": "2023-01-05T14:37:00.343Z"
   },
   {
    "duration": 26,
    "start_time": "2023-01-05T14:37:00.372Z"
   },
   {
    "duration": 11,
    "start_time": "2023-01-05T14:37:00.400Z"
   },
   {
    "duration": 28,
    "start_time": "2023-01-05T14:37:00.412Z"
   },
   {
    "duration": 3,
    "start_time": "2023-01-05T14:37:00.441Z"
   },
   {
    "duration": 24,
    "start_time": "2023-01-05T14:37:00.446Z"
   },
   {
    "duration": 10,
    "start_time": "2023-01-05T14:37:00.472Z"
   },
   {
    "duration": 10,
    "start_time": "2023-01-05T14:37:00.496Z"
   },
   {
    "duration": 76,
    "start_time": "2023-01-05T14:37:00.508Z"
   },
   {
    "duration": 139,
    "start_time": "2023-01-05T14:37:00.586Z"
   },
   {
    "duration": 19,
    "start_time": "2023-01-05T14:37:00.762Z"
   },
   {
    "duration": 2,
    "start_time": "2023-01-05T14:37:01.088Z"
   },
   {
    "duration": 12,
    "start_time": "2023-01-05T14:37:01.267Z"
   },
   {
    "duration": 8,
    "start_time": "2023-01-05T14:37:02.066Z"
   },
   {
    "duration": 4,
    "start_time": "2023-01-05T14:37:02.236Z"
   },
   {
    "duration": 5,
    "start_time": "2023-01-05T14:37:02.426Z"
   },
   {
    "duration": 2,
    "start_time": "2023-01-05T14:37:02.620Z"
   },
   {
    "duration": 5,
    "start_time": "2023-01-05T14:37:02.787Z"
   },
   {
    "duration": 2,
    "start_time": "2023-01-05T14:37:02.978Z"
   },
   {
    "duration": 266,
    "start_time": "2023-01-05T14:37:03.594Z"
   },
   {
    "duration": 26,
    "start_time": "2023-01-05T14:37:04.137Z"
   },
   {
    "duration": 14,
    "start_time": "2023-01-05T14:37:04.487Z"
   },
   {
    "duration": 11,
    "start_time": "2023-01-05T14:37:04.675Z"
   },
   {
    "duration": 10,
    "start_time": "2023-01-05T14:37:05.082Z"
   },
   {
    "duration": 3,
    "start_time": "2023-01-05T14:37:05.465Z"
   },
   {
    "duration": 4,
    "start_time": "2023-01-05T14:37:05.645Z"
   },
   {
    "duration": 4,
    "start_time": "2023-01-05T14:37:05.846Z"
   },
   {
    "duration": 11,
    "start_time": "2023-01-05T14:37:06.262Z"
   },
   {
    "duration": 25,
    "start_time": "2023-01-05T14:37:07.162Z"
   },
   {
    "duration": 51,
    "start_time": "2023-01-05T14:37:07.545Z"
   },
   {
    "duration": 251,
    "start_time": "2023-01-05T14:37:08.187Z"
   },
   {
    "duration": 9,
    "start_time": "2023-01-05T14:37:34.367Z"
   },
   {
    "duration": 9,
    "start_time": "2023-01-05T14:38:06.262Z"
   },
   {
    "duration": 10,
    "start_time": "2023-01-05T14:43:06.021Z"
   },
   {
    "duration": 40,
    "start_time": "2023-01-05T14:45:07.737Z"
   },
   {
    "duration": 8,
    "start_time": "2023-01-05T14:45:54.246Z"
   },
   {
    "duration": 9,
    "start_time": "2023-01-05T15:13:29.457Z"
   },
   {
    "duration": 10,
    "start_time": "2023-01-05T15:13:54.374Z"
   },
   {
    "duration": 18,
    "start_time": "2023-01-05T15:14:31.802Z"
   },
   {
    "duration": 13,
    "start_time": "2023-01-05T15:14:50.434Z"
   },
   {
    "duration": 12,
    "start_time": "2023-01-05T15:14:54.202Z"
   },
   {
    "duration": 12,
    "start_time": "2023-01-05T15:16:15.283Z"
   },
   {
    "duration": 1076,
    "start_time": "2023-01-05T15:17:46.085Z"
   },
   {
    "duration": 147,
    "start_time": "2023-01-05T15:17:47.163Z"
   },
   {
    "duration": 19,
    "start_time": "2023-01-05T15:17:47.312Z"
   },
   {
    "duration": 14,
    "start_time": "2023-01-05T15:17:47.333Z"
   },
   {
    "duration": 13,
    "start_time": "2023-01-05T15:17:47.348Z"
   },
   {
    "duration": 27,
    "start_time": "2023-01-05T15:17:47.362Z"
   },
   {
    "duration": 5,
    "start_time": "2023-01-05T15:17:47.391Z"
   },
   {
    "duration": 25,
    "start_time": "2023-01-05T15:17:47.397Z"
   },
   {
    "duration": 7,
    "start_time": "2023-01-05T15:17:47.460Z"
   },
   {
    "duration": 9,
    "start_time": "2023-01-05T15:17:47.637Z"
   },
   {
    "duration": 71,
    "start_time": "2023-01-05T15:17:47.854Z"
   },
   {
    "duration": 136,
    "start_time": "2023-01-05T15:17:48.087Z"
   },
   {
    "duration": 27,
    "start_time": "2023-01-05T15:17:48.300Z"
   },
   {
    "duration": 2,
    "start_time": "2023-01-05T15:17:48.717Z"
   },
   {
    "duration": 10,
    "start_time": "2023-01-05T15:17:48.931Z"
   },
   {
    "duration": 8,
    "start_time": "2023-01-05T15:17:49.325Z"
   },
   {
    "duration": 4,
    "start_time": "2023-01-05T15:17:49.538Z"
   },
   {
    "duration": 5,
    "start_time": "2023-01-05T15:17:49.764Z"
   },
   {
    "duration": 2,
    "start_time": "2023-01-05T15:17:49.965Z"
   },
   {
    "duration": 5,
    "start_time": "2023-01-05T15:17:50.191Z"
   },
   {
    "duration": 2,
    "start_time": "2023-01-05T15:17:50.417Z"
   },
   {
    "duration": 266,
    "start_time": "2023-01-05T15:17:50.890Z"
   },
   {
    "duration": 26,
    "start_time": "2023-01-05T15:17:51.417Z"
   },
   {
    "duration": 15,
    "start_time": "2023-01-05T15:17:51.901Z"
   },
   {
    "duration": 11,
    "start_time": "2023-01-05T15:17:52.138Z"
   },
   {
    "duration": 9,
    "start_time": "2023-01-05T15:17:52.353Z"
   },
   {
    "duration": 2,
    "start_time": "2023-01-05T15:17:52.563Z"
   },
   {
    "duration": 3,
    "start_time": "2023-01-05T15:17:52.779Z"
   },
   {
    "duration": 3,
    "start_time": "2023-01-05T15:17:52.992Z"
   },
   {
    "duration": 11,
    "start_time": "2023-01-05T15:17:53.384Z"
   },
   {
    "duration": 23,
    "start_time": "2023-01-05T15:17:53.745Z"
   },
   {
    "duration": 51,
    "start_time": "2023-01-05T15:17:53.926Z"
   },
   {
    "duration": 10,
    "start_time": "2023-01-05T15:17:54.153Z"
   },
   {
    "duration": 40,
    "start_time": "2023-01-05T15:17:54.354Z"
   },
   {
    "duration": 9,
    "start_time": "2023-01-05T15:17:54.769Z"
   },
   {
    "duration": 9,
    "start_time": "2023-01-05T15:20:15.286Z"
   },
   {
    "duration": 10,
    "start_time": "2023-01-05T15:22:59.991Z"
   },
   {
    "duration": 11,
    "start_time": "2023-01-05T15:26:54.376Z"
   },
   {
    "duration": 10,
    "start_time": "2023-01-05T15:27:58.852Z"
   },
   {
    "duration": 10,
    "start_time": "2023-01-05T15:28:47.238Z"
   },
   {
    "duration": 12,
    "start_time": "2023-01-05T15:30:18.960Z"
   },
   {
    "duration": 11,
    "start_time": "2023-01-05T15:31:09.857Z"
   },
   {
    "duration": 11,
    "start_time": "2023-01-05T15:31:45.071Z"
   },
   {
    "duration": 12,
    "start_time": "2023-01-05T15:46:04.690Z"
   },
   {
    "duration": 12,
    "start_time": "2023-01-05T15:48:10.309Z"
   },
   {
    "duration": 9,
    "start_time": "2023-01-05T15:57:34.915Z"
   },
   {
    "duration": 117,
    "start_time": "2023-01-05T15:58:55.921Z"
   },
   {
    "duration": 10,
    "start_time": "2023-01-05T16:02:38.781Z"
   },
   {
    "duration": 10,
    "start_time": "2023-01-05T16:11:05.830Z"
   },
   {
    "duration": 12,
    "start_time": "2023-01-05T16:13:08.186Z"
   },
   {
    "duration": 1036,
    "start_time": "2023-01-05T16:13:24.499Z"
   },
   {
    "duration": 140,
    "start_time": "2023-01-05T16:13:25.537Z"
   },
   {
    "duration": 23,
    "start_time": "2023-01-05T16:13:25.678Z"
   },
   {
    "duration": 10,
    "start_time": "2023-01-05T16:13:25.702Z"
   },
   {
    "duration": 6,
    "start_time": "2023-01-05T16:13:25.713Z"
   },
   {
    "duration": 17,
    "start_time": "2023-01-05T16:13:25.720Z"
   },
   {
    "duration": 2,
    "start_time": "2023-01-05T16:13:25.739Z"
   },
   {
    "duration": 12,
    "start_time": "2023-01-05T16:13:25.742Z"
   },
   {
    "duration": 9,
    "start_time": "2023-01-05T16:13:25.839Z"
   },
   {
    "duration": 10,
    "start_time": "2023-01-05T16:13:26.009Z"
   },
   {
    "duration": 55,
    "start_time": "2023-01-05T16:13:26.199Z"
   },
   {
    "duration": 112,
    "start_time": "2023-01-05T16:13:26.379Z"
   },
   {
    "duration": 16,
    "start_time": "2023-01-05T16:13:26.558Z"
   },
   {
    "duration": 2,
    "start_time": "2023-01-05T16:13:26.919Z"
   },
   {
    "duration": 10,
    "start_time": "2023-01-05T16:13:27.110Z"
   },
   {
    "duration": 7,
    "start_time": "2023-01-05T16:13:27.469Z"
   },
   {
    "duration": 4,
    "start_time": "2023-01-05T16:13:27.674Z"
   },
   {
    "duration": 5,
    "start_time": "2023-01-05T16:13:27.864Z"
   },
   {
    "duration": 2,
    "start_time": "2023-01-05T16:13:28.067Z"
   },
   {
    "duration": 5,
    "start_time": "2023-01-05T16:13:28.267Z"
   },
   {
    "duration": 2,
    "start_time": "2023-01-05T16:13:28.461Z"
   },
   {
    "duration": 242,
    "start_time": "2023-01-05T16:13:28.831Z"
   },
   {
    "duration": 26,
    "start_time": "2023-01-05T16:13:29.192Z"
   },
   {
    "duration": 13,
    "start_time": "2023-01-05T16:13:29.586Z"
   },
   {
    "duration": 11,
    "start_time": "2023-01-05T16:13:29.766Z"
   },
   {
    "duration": 9,
    "start_time": "2023-01-05T16:13:29.966Z"
   },
   {
    "duration": 2,
    "start_time": "2023-01-05T16:13:30.149Z"
   },
   {
    "duration": 5,
    "start_time": "2023-01-05T16:13:30.361Z"
   },
   {
    "duration": 4,
    "start_time": "2023-01-05T16:13:30.540Z"
   },
   {
    "duration": 10,
    "start_time": "2023-01-05T16:13:30.936Z"
   },
   {
    "duration": 24,
    "start_time": "2023-01-05T16:13:31.317Z"
   },
   {
    "duration": 52,
    "start_time": "2023-01-05T16:13:31.521Z"
   },
   {
    "duration": 10,
    "start_time": "2023-01-05T16:13:31.691Z"
   },
   {
    "duration": 38,
    "start_time": "2023-01-05T16:13:31.857Z"
   },
   {
    "duration": 9,
    "start_time": "2023-01-05T16:13:32.240Z"
   },
   {
    "duration": 13,
    "start_time": "2023-01-05T16:13:32.432Z"
   },
   {
    "duration": 9,
    "start_time": "2023-01-05T16:13:32.769Z"
   },
   {
    "duration": 10,
    "start_time": "2023-01-05T16:13:32.950Z"
   },
   {
    "duration": 11,
    "start_time": "2023-01-05T16:14:00.804Z"
   },
   {
    "duration": 11,
    "start_time": "2023-01-05T16:14:08.838Z"
   },
   {
    "duration": 13,
    "start_time": "2023-01-05T16:14:09.997Z"
   },
   {
    "duration": 13,
    "start_time": "2023-01-05T16:15:37.466Z"
   },
   {
    "duration": 13,
    "start_time": "2023-01-05T17:15:05.402Z"
   },
   {
    "duration": 18,
    "start_time": "2023-01-05T17:15:36.085Z"
   },
   {
    "duration": 11,
    "start_time": "2023-01-05T17:16:03.309Z"
   },
   {
    "duration": 185,
    "start_time": "2023-01-05T17:22:23.950Z"
   },
   {
    "duration": 343,
    "start_time": "2023-01-05T17:23:14.351Z"
   },
   {
    "duration": 227,
    "start_time": "2023-01-05T17:25:17.361Z"
   },
   {
    "duration": 90,
    "start_time": "2023-01-05T17:25:47.670Z"
   },
   {
    "duration": 41,
    "start_time": "2023-01-05T17:25:59.741Z"
   },
   {
    "duration": 45,
    "start_time": "2023-01-05T17:26:13.138Z"
   },
   {
    "duration": 40,
    "start_time": "2023-01-05T17:30:40.558Z"
   },
   {
    "duration": 38,
    "start_time": "2023-01-05T17:30:58.726Z"
   },
   {
    "duration": 39,
    "start_time": "2023-01-05T17:34:26.147Z"
   },
   {
    "duration": 38,
    "start_time": "2023-01-05T17:37:26.623Z"
   },
   {
    "duration": 38,
    "start_time": "2023-01-05T17:39:37.318Z"
   },
   {
    "duration": 14,
    "start_time": "2023-01-05T17:56:34.403Z"
   },
   {
    "duration": 1052,
    "start_time": "2023-01-05T18:11:16.848Z"
   },
   {
    "duration": 147,
    "start_time": "2023-01-05T18:11:17.902Z"
   },
   {
    "duration": 21,
    "start_time": "2023-01-05T18:11:18.051Z"
   },
   {
    "duration": 22,
    "start_time": "2023-01-05T18:11:18.075Z"
   },
   {
    "duration": 6,
    "start_time": "2023-01-05T18:11:18.099Z"
   },
   {
    "duration": 17,
    "start_time": "2023-01-05T18:11:18.106Z"
   },
   {
    "duration": 2,
    "start_time": "2023-01-05T18:11:18.124Z"
   },
   {
    "duration": 16,
    "start_time": "2023-01-05T18:11:18.128Z"
   },
   {
    "duration": 8,
    "start_time": "2023-01-05T18:11:18.178Z"
   },
   {
    "duration": 9,
    "start_time": "2023-01-05T18:11:18.324Z"
   },
   {
    "duration": 57,
    "start_time": "2023-01-05T18:11:18.489Z"
   },
   {
    "duration": 121,
    "start_time": "2023-01-05T18:11:18.682Z"
   },
   {
    "duration": 17,
    "start_time": "2023-01-05T18:11:18.862Z"
   },
   {
    "duration": 3,
    "start_time": "2023-01-05T18:11:19.208Z"
   },
   {
    "duration": 10,
    "start_time": "2023-01-05T18:11:19.370Z"
   },
   {
    "duration": 8,
    "start_time": "2023-01-05T18:11:19.704Z"
   },
   {
    "duration": 5,
    "start_time": "2023-01-05T18:11:19.860Z"
   },
   {
    "duration": 5,
    "start_time": "2023-01-05T18:11:20.031Z"
   },
   {
    "duration": 3,
    "start_time": "2023-01-05T18:11:20.198Z"
   },
   {
    "duration": 5,
    "start_time": "2023-01-05T18:11:20.392Z"
   },
   {
    "duration": 2,
    "start_time": "2023-01-05T18:11:21.190Z"
   },
   {
    "duration": 243,
    "start_time": "2023-01-05T18:11:21.562Z"
   },
   {
    "duration": 26,
    "start_time": "2023-01-05T18:11:21.911Z"
   },
   {
    "duration": 13,
    "start_time": "2023-01-05T18:11:22.293Z"
   },
   {
    "duration": 10,
    "start_time": "2023-01-05T18:11:22.475Z"
   },
   {
    "duration": 9,
    "start_time": "2023-01-05T18:11:22.653Z"
   },
   {
    "duration": 3,
    "start_time": "2023-01-05T18:11:22.878Z"
   },
   {
    "duration": 5,
    "start_time": "2023-01-05T18:11:23.069Z"
   },
   {
    "duration": 4,
    "start_time": "2023-01-05T18:11:23.316Z"
   },
   {
    "duration": 10,
    "start_time": "2023-01-05T18:11:23.774Z"
   },
   {
    "duration": 23,
    "start_time": "2023-01-05T18:11:24.368Z"
   },
   {
    "duration": 53,
    "start_time": "2023-01-05T18:11:24.690Z"
   },
   {
    "duration": 11,
    "start_time": "2023-01-05T18:11:24.914Z"
   },
   {
    "duration": 45,
    "start_time": "2023-01-05T18:11:25.205Z"
   },
   {
    "duration": 9,
    "start_time": "2023-01-05T18:11:26.186Z"
   },
   {
    "duration": 13,
    "start_time": "2023-01-05T18:11:26.816Z"
   },
   {
    "duration": 9,
    "start_time": "2023-01-05T18:11:27.008Z"
   },
   {
    "duration": 11,
    "start_time": "2023-01-05T18:11:27.210Z"
   },
   {
    "duration": 310,
    "start_time": "2023-01-05T18:11:27.410Z"
   },
   {
    "duration": 184,
    "start_time": "2023-01-05T18:11:27.722Z"
   },
   {
    "duration": 1549,
    "start_time": "2023-01-07T12:22:23.737Z"
   },
   {
    "duration": 596,
    "start_time": "2023-01-07T12:22:25.288Z"
   },
   {
    "duration": 24,
    "start_time": "2023-01-07T12:22:25.886Z"
   },
   {
    "duration": 12,
    "start_time": "2023-01-07T12:22:25.915Z"
   },
   {
    "duration": 37,
    "start_time": "2023-01-07T12:22:25.928Z"
   },
   {
    "duration": 34,
    "start_time": "2023-01-07T12:22:25.969Z"
   },
   {
    "duration": 3,
    "start_time": "2023-01-07T12:22:26.006Z"
   },
   {
    "duration": 77,
    "start_time": "2023-01-07T12:22:26.012Z"
   },
   {
    "duration": 20,
    "start_time": "2023-01-07T12:22:26.091Z"
   },
   {
    "duration": 11,
    "start_time": "2023-01-07T12:22:26.114Z"
   },
   {
    "duration": 101,
    "start_time": "2023-01-07T12:22:26.127Z"
   },
   {
    "duration": 179,
    "start_time": "2023-01-07T12:22:26.230Z"
   },
   {
    "duration": 34,
    "start_time": "2023-01-07T12:22:26.411Z"
   },
   {
    "duration": 35,
    "start_time": "2023-01-07T12:22:26.451Z"
   },
   {
    "duration": 24,
    "start_time": "2023-01-07T12:22:26.488Z"
   },
   {
    "duration": 10,
    "start_time": "2023-01-07T12:22:26.808Z"
   },
   {
    "duration": 4,
    "start_time": "2023-01-07T12:22:27.023Z"
   },
   {
    "duration": 5,
    "start_time": "2023-01-07T12:22:27.265Z"
   },
   {
    "duration": 3,
    "start_time": "2023-01-07T12:22:27.448Z"
   },
   {
    "duration": 5,
    "start_time": "2023-01-07T12:22:27.668Z"
   },
   {
    "duration": 7,
    "start_time": "2023-01-07T12:22:27.835Z"
   },
   {
    "duration": 309,
    "start_time": "2023-01-07T12:22:28.287Z"
   },
   {
    "duration": 28,
    "start_time": "2023-01-07T12:22:28.770Z"
   },
   {
    "duration": 15,
    "start_time": "2023-01-07T12:22:29.903Z"
   },
   {
    "duration": 16,
    "start_time": "2023-01-07T12:22:30.369Z"
   },
   {
    "duration": 16,
    "start_time": "2023-01-07T12:22:30.887Z"
   },
   {
    "duration": 3,
    "start_time": "2023-01-07T12:22:31.574Z"
   },
   {
    "duration": 5,
    "start_time": "2023-01-07T12:22:32.076Z"
   },
   {
    "duration": 4,
    "start_time": "2023-01-07T12:22:32.220Z"
   },
   {
    "duration": 13,
    "start_time": "2023-01-07T12:22:32.605Z"
   },
   {
    "duration": 46,
    "start_time": "2023-01-07T12:22:33.414Z"
   },
   {
    "duration": 70,
    "start_time": "2023-01-07T12:22:33.617Z"
   },
   {
    "duration": 13,
    "start_time": "2023-01-07T12:22:34.404Z"
   },
   {
    "duration": 43,
    "start_time": "2023-01-07T12:22:34.788Z"
   },
   {
    "duration": 24,
    "start_time": "2023-01-07T12:22:35.630Z"
   },
   {
    "duration": 13,
    "start_time": "2023-01-07T12:22:36.294Z"
   },
   {
    "duration": 12,
    "start_time": "2023-01-07T12:22:37.059Z"
   },
   {
    "duration": 14,
    "start_time": "2023-01-07T12:22:37.611Z"
   },
   {
    "duration": 425,
    "start_time": "2023-01-07T12:22:37.792Z"
   },
   {
    "duration": 254,
    "start_time": "2023-01-07T12:22:38.219Z"
   },
   {
    "duration": 18,
    "start_time": "2023-01-07T12:22:39.106Z"
   },
   {
    "duration": 38,
    "start_time": "2023-01-07T12:30:26.457Z"
   },
   {
    "duration": 43,
    "start_time": "2023-01-07T12:30:55.017Z"
   },
   {
    "duration": 43,
    "start_time": "2023-01-07T12:31:02.874Z"
   },
   {
    "duration": 32,
    "start_time": "2023-01-07T12:34:54.438Z"
   },
   {
    "duration": 203,
    "start_time": "2023-01-07T12:40:55.501Z"
   },
   {
    "duration": 91,
    "start_time": "2023-01-07T12:41:18.429Z"
   },
   {
    "duration": 80,
    "start_time": "2023-01-07T12:41:29.177Z"
   },
   {
    "duration": 69,
    "start_time": "2023-01-07T12:42:23.231Z"
   },
   {
    "duration": 36,
    "start_time": "2023-01-07T12:43:26.363Z"
   },
   {
    "duration": 93,
    "start_time": "2023-01-07T12:45:02.772Z"
   },
   {
    "duration": 54,
    "start_time": "2023-01-07T12:46:32.179Z"
   },
   {
    "duration": 30,
    "start_time": "2023-01-07T12:49:06.329Z"
   },
   {
    "duration": 17,
    "start_time": "2023-01-07T12:50:13.203Z"
   },
   {
    "duration": 14,
    "start_time": "2023-01-07T12:50:14.575Z"
   },
   {
    "duration": 12,
    "start_time": "2023-01-07T12:50:15.505Z"
   },
   {
    "duration": 21,
    "start_time": "2023-01-07T12:50:15.925Z"
   },
   {
    "duration": 57,
    "start_time": "2023-01-07T12:50:16.127Z"
   },
   {
    "duration": 63,
    "start_time": "2023-01-07T12:50:16.416Z"
   },
   {
    "duration": 17,
    "start_time": "2023-01-07T12:50:18.511Z"
   },
   {
    "duration": 33,
    "start_time": "2023-01-07T12:50:20.323Z"
   },
   {
    "duration": 12,
    "start_time": "2023-01-07T12:50:21.207Z"
   },
   {
    "duration": 66,
    "start_time": "2023-01-07T12:50:21.896Z"
   },
   {
    "duration": 1266,
    "start_time": "2023-01-07T12:50:36.301Z"
   },
   {
    "duration": 190,
    "start_time": "2023-01-07T12:50:37.571Z"
   },
   {
    "duration": 25,
    "start_time": "2023-01-07T12:50:37.768Z"
   },
   {
    "duration": 16,
    "start_time": "2023-01-07T12:50:37.795Z"
   },
   {
    "duration": 35,
    "start_time": "2023-01-07T12:50:37.813Z"
   },
   {
    "duration": 51,
    "start_time": "2023-01-07T12:50:37.850Z"
   },
   {
    "duration": 6,
    "start_time": "2023-01-07T12:50:37.903Z"
   },
   {
    "duration": 53,
    "start_time": "2023-01-07T12:50:37.910Z"
   },
   {
    "duration": 31,
    "start_time": "2023-01-07T12:50:37.966Z"
   },
   {
    "duration": 21,
    "start_time": "2023-01-07T12:50:38.130Z"
   },
   {
    "duration": 87,
    "start_time": "2023-01-07T12:50:38.332Z"
   },
   {
    "duration": 185,
    "start_time": "2023-01-07T12:50:38.525Z"
   },
   {
    "duration": 22,
    "start_time": "2023-01-07T12:50:38.769Z"
   },
   {
    "duration": 3,
    "start_time": "2023-01-07T12:50:39.211Z"
   },
   {
    "duration": 26,
    "start_time": "2023-01-07T12:50:39.425Z"
   },
   {
    "duration": 11,
    "start_time": "2023-01-07T12:50:39.862Z"
   },
   {
    "duration": 14,
    "start_time": "2023-01-07T12:50:40.048Z"
   },
   {
    "duration": 21,
    "start_time": "2023-01-07T12:50:40.250Z"
   },
   {
    "duration": 7,
    "start_time": "2023-01-07T12:50:40.435Z"
   },
   {
    "duration": 6,
    "start_time": "2023-01-07T12:50:40.628Z"
   },
   {
    "duration": 3,
    "start_time": "2023-01-07T12:50:40.829Z"
   },
   {
    "duration": 307,
    "start_time": "2023-01-07T12:50:41.235Z"
   },
   {
    "duration": 44,
    "start_time": "2023-01-07T12:50:41.625Z"
   },
   {
    "duration": 15,
    "start_time": "2023-01-07T12:50:42.079Z"
   },
   {
    "duration": 14,
    "start_time": "2023-01-07T12:50:42.316Z"
   },
   {
    "duration": 11,
    "start_time": "2023-01-07T12:50:42.597Z"
   },
   {
    "duration": 12,
    "start_time": "2023-01-07T12:50:42.933Z"
   },
   {
    "duration": 8,
    "start_time": "2023-01-07T12:50:43.466Z"
   },
   {
    "duration": 6,
    "start_time": "2023-01-07T12:50:43.924Z"
   },
   {
    "duration": 14,
    "start_time": "2023-01-07T12:50:44.825Z"
   },
   {
    "duration": 37,
    "start_time": "2023-01-07T12:50:45.781Z"
   },
   {
    "duration": 71,
    "start_time": "2023-01-07T12:50:46.016Z"
   },
   {
    "duration": 11,
    "start_time": "2023-01-07T12:50:46.261Z"
   },
   {
    "duration": 70,
    "start_time": "2023-01-07T12:50:46.503Z"
   },
   {
    "duration": 9,
    "start_time": "2023-01-07T12:50:46.968Z"
   },
   {
    "duration": 14,
    "start_time": "2023-01-07T12:50:47.178Z"
   },
   {
    "duration": 11,
    "start_time": "2023-01-07T12:50:47.412Z"
   },
   {
    "duration": 13,
    "start_time": "2023-01-07T12:50:47.829Z"
   },
   {
    "duration": 401,
    "start_time": "2023-01-07T12:50:48.661Z"
   },
   {
    "duration": 159,
    "start_time": "2023-01-07T12:50:49.311Z"
   },
   {
    "duration": 29,
    "start_time": "2023-01-07T12:50:51.213Z"
   },
   {
    "duration": 24,
    "start_time": "2023-01-07T12:50:51.856Z"
   },
   {
    "duration": 191,
    "start_time": "2023-01-07T12:50:52.265Z"
   },
   {
    "duration": 68,
    "start_time": "2023-01-07T12:50:52.794Z"
   },
   {
    "duration": 12,
    "start_time": "2023-01-07T12:50:53.409Z"
   },
   {
    "duration": 15,
    "start_time": "2023-01-07T12:54:21.798Z"
   },
   {
    "duration": 10,
    "start_time": "2023-01-07T12:54:48.371Z"
   },
   {
    "duration": 21,
    "start_time": "2023-01-07T14:06:01.381Z"
   },
   {
    "duration": 31,
    "start_time": "2023-01-07T14:07:41.108Z"
   },
   {
    "duration": 61,
    "start_time": "2023-01-07T14:07:42.563Z"
   },
   {
    "duration": 9,
    "start_time": "2023-01-07T14:07:44.974Z"
   },
   {
    "duration": 9,
    "start_time": "2023-01-07T14:07:46.918Z"
   },
   {
    "duration": 5,
    "start_time": "2023-01-07T14:08:31.413Z"
   },
   {
    "duration": 3,
    "start_time": "2023-01-07T14:09:18.911Z"
   },
   {
    "duration": 4,
    "start_time": "2023-01-07T14:09:29.831Z"
   },
   {
    "duration": 4,
    "start_time": "2023-01-07T14:09:55.057Z"
   },
   {
    "duration": 823,
    "start_time": "2023-01-07T14:11:08.650Z"
   },
   {
    "duration": 794,
    "start_time": "2023-01-07T14:11:24.018Z"
   },
   {
    "duration": 6,
    "start_time": "2023-01-07T14:11:38.205Z"
   },
   {
    "duration": 4,
    "start_time": "2023-01-07T14:11:59.187Z"
   },
   {
    "duration": 5,
    "start_time": "2023-01-07T14:14:30.820Z"
   },
   {
    "duration": 6,
    "start_time": "2023-01-07T14:16:17.135Z"
   },
   {
    "duration": 18,
    "start_time": "2023-01-07T14:17:30.905Z"
   },
   {
    "duration": 3,
    "start_time": "2023-01-07T14:19:28.560Z"
   },
   {
    "duration": 172,
    "start_time": "2023-01-07T14:19:28.717Z"
   },
   {
    "duration": 21,
    "start_time": "2023-01-07T14:19:28.891Z"
   },
   {
    "duration": 8,
    "start_time": "2023-01-07T14:19:29.179Z"
   },
   {
    "duration": 7,
    "start_time": "2023-01-07T14:19:29.321Z"
   },
   {
    "duration": 21,
    "start_time": "2023-01-07T14:19:29.450Z"
   },
   {
    "duration": 3,
    "start_time": "2023-01-07T14:19:29.615Z"
   },
   {
    "duration": 11,
    "start_time": "2023-01-07T14:19:29.792Z"
   },
   {
    "duration": 7,
    "start_time": "2023-01-07T14:19:29.950Z"
   },
   {
    "duration": 10,
    "start_time": "2023-01-07T14:19:30.102Z"
   },
   {
    "duration": 68,
    "start_time": "2023-01-07T14:19:30.258Z"
   },
   {
    "duration": 141,
    "start_time": "2023-01-07T14:19:30.426Z"
   },
   {
    "duration": 22,
    "start_time": "2023-01-07T14:19:30.599Z"
   },
   {
    "duration": 3,
    "start_time": "2023-01-07T14:19:30.923Z"
   },
   {
    "duration": 15,
    "start_time": "2023-01-07T14:19:31.103Z"
   },
   {
    "duration": 9,
    "start_time": "2023-01-07T14:19:31.450Z"
   },
   {
    "duration": 5,
    "start_time": "2023-01-07T14:19:31.653Z"
   },
   {
    "duration": 6,
    "start_time": "2023-01-07T14:19:31.821Z"
   },
   {
    "duration": 3,
    "start_time": "2023-01-07T14:19:32.013Z"
   },
   {
    "duration": 6,
    "start_time": "2023-01-07T14:19:32.182Z"
   },
   {
    "duration": 3,
    "start_time": "2023-01-07T14:19:32.361Z"
   },
   {
    "duration": 293,
    "start_time": "2023-01-07T14:19:32.756Z"
   },
   {
    "duration": 34,
    "start_time": "2023-01-07T14:19:33.141Z"
   },
   {
    "duration": 15,
    "start_time": "2023-01-07T14:19:33.521Z"
   },
   {
    "duration": 13,
    "start_time": "2023-01-07T14:19:33.770Z"
   },
   {
    "duration": 10,
    "start_time": "2023-01-07T14:19:34.015Z"
   },
   {
    "duration": 3,
    "start_time": "2023-01-07T14:19:34.310Z"
   },
   {
    "duration": 4,
    "start_time": "2023-01-07T14:19:34.704Z"
   },
   {
    "duration": 5,
    "start_time": "2023-01-07T14:19:35.184Z"
   },
   {
    "duration": 12,
    "start_time": "2023-01-07T14:19:35.951Z"
   },
   {
    "duration": 34,
    "start_time": "2023-01-07T14:19:36.434Z"
   },
   {
    "duration": 68,
    "start_time": "2023-01-07T14:19:36.694Z"
   },
   {
    "duration": 11,
    "start_time": "2023-01-07T14:19:36.900Z"
   },
   {
    "duration": 8,
    "start_time": "2023-01-07T14:19:37.101Z"
   },
   {
    "duration": 10,
    "start_time": "2023-01-07T14:19:37.412Z"
   },
   {
    "duration": 14,
    "start_time": "2023-01-07T14:19:37.608Z"
   },
   {
    "duration": 10,
    "start_time": "2023-01-07T14:19:37.785Z"
   },
   {
    "duration": 13,
    "start_time": "2023-01-07T14:19:37.952Z"
   },
   {
    "duration": 43,
    "start_time": "2023-01-07T14:19:38.150Z"
   },
   {
    "duration": 40,
    "start_time": "2023-01-07T14:19:38.358Z"
   },
   {
    "duration": 14,
    "start_time": "2023-01-07T14:19:39.031Z"
   },
   {
    "duration": 21,
    "start_time": "2023-01-07T14:19:39.383Z"
   },
   {
    "duration": 49,
    "start_time": "2023-01-07T14:19:39.549Z"
   },
   {
    "duration": 9,
    "start_time": "2023-01-07T14:19:39.754Z"
   },
   {
    "duration": 11,
    "start_time": "2023-01-07T14:19:39.948Z"
   },
   {
    "duration": 5,
    "start_time": "2023-01-07T14:19:40.113Z"
   },
   {
    "duration": 5,
    "start_time": "2023-01-07T14:19:40.280Z"
   },
   {
    "duration": 6,
    "start_time": "2023-01-07T14:19:40.473Z"
   },
   {
    "duration": 4,
    "start_time": "2023-01-07T14:19:40.705Z"
   },
   {
    "duration": 5,
    "start_time": "2023-01-07T14:19:40.910Z"
   },
   {
    "duration": 3,
    "start_time": "2023-01-07T14:19:41.081Z"
   },
   {
    "duration": 13,
    "start_time": "2023-01-07T14:19:41.261Z"
   },
   {
    "duration": 1212,
    "start_time": "2023-01-07T14:23:20.201Z"
   },
   {
    "duration": 188,
    "start_time": "2023-01-07T14:23:21.415Z"
   },
   {
    "duration": 41,
    "start_time": "2023-01-07T14:23:21.605Z"
   },
   {
    "duration": 12,
    "start_time": "2023-01-07T14:23:21.651Z"
   },
   {
    "duration": 24,
    "start_time": "2023-01-07T14:23:21.665Z"
   },
   {
    "duration": 28,
    "start_time": "2023-01-07T14:23:21.691Z"
   },
   {
    "duration": 3,
    "start_time": "2023-01-07T14:23:21.721Z"
   },
   {
    "duration": 35,
    "start_time": "2023-01-07T14:23:21.726Z"
   },
   {
    "duration": 13,
    "start_time": "2023-01-07T14:23:21.763Z"
   },
   {
    "duration": 12,
    "start_time": "2023-01-07T14:23:21.933Z"
   },
   {
    "duration": 78,
    "start_time": "2023-01-07T14:23:22.113Z"
   },
   {
    "duration": 169,
    "start_time": "2023-01-07T14:23:22.317Z"
   },
   {
    "duration": 27,
    "start_time": "2023-01-07T14:23:22.497Z"
   },
   {
    "duration": 3,
    "start_time": "2023-01-07T14:23:22.904Z"
   },
   {
    "duration": 13,
    "start_time": "2023-01-07T14:23:23.103Z"
   },
   {
    "duration": 8,
    "start_time": "2023-01-07T14:23:23.509Z"
   },
   {
    "duration": 4,
    "start_time": "2023-01-07T14:23:23.712Z"
   },
   {
    "duration": 5,
    "start_time": "2023-01-07T14:23:23.906Z"
   },
   {
    "duration": 2,
    "start_time": "2023-01-07T14:23:24.104Z"
   },
   {
    "duration": 5,
    "start_time": "2023-01-07T14:23:24.303Z"
   },
   {
    "duration": 3,
    "start_time": "2023-01-07T14:23:24.480Z"
   },
   {
    "duration": 294,
    "start_time": "2023-01-07T14:23:24.882Z"
   },
   {
    "duration": 33,
    "start_time": "2023-01-07T14:23:25.310Z"
   },
   {
    "duration": 15,
    "start_time": "2023-01-07T14:23:25.698Z"
   },
   {
    "duration": 16,
    "start_time": "2023-01-07T14:23:25.906Z"
   },
   {
    "duration": 11,
    "start_time": "2023-01-07T14:23:26.099Z"
   },
   {
    "duration": 3,
    "start_time": "2023-01-07T14:23:26.305Z"
   },
   {
    "duration": 5,
    "start_time": "2023-01-07T14:23:26.467Z"
   },
   {
    "duration": 5,
    "start_time": "2023-01-07T14:23:26.651Z"
   },
   {
    "duration": 14,
    "start_time": "2023-01-07T14:23:27.104Z"
   },
   {
    "duration": 33,
    "start_time": "2023-01-07T14:23:27.537Z"
   },
   {
    "duration": 57,
    "start_time": "2023-01-07T14:23:27.762Z"
   },
   {
    "duration": 11,
    "start_time": "2023-01-07T14:23:27.964Z"
   },
   {
    "duration": 56,
    "start_time": "2023-01-07T14:23:28.155Z"
   },
   {
    "duration": 9,
    "start_time": "2023-01-07T14:23:28.615Z"
   },
   {
    "duration": 14,
    "start_time": "2023-01-07T14:23:28.818Z"
   },
   {
    "duration": 11,
    "start_time": "2023-01-07T14:23:29.103Z"
   },
   {
    "duration": 14,
    "start_time": "2023-01-07T14:23:29.346Z"
   },
   {
    "duration": 387,
    "start_time": "2023-01-07T14:23:29.606Z"
   },
   {
    "duration": 202,
    "start_time": "2023-01-07T14:23:29.996Z"
   },
   {
    "duration": 15,
    "start_time": "2023-01-07T14:23:30.905Z"
   },
   {
    "duration": 21,
    "start_time": "2023-01-07T14:23:31.154Z"
   },
   {
    "duration": 54,
    "start_time": "2023-01-07T14:23:31.778Z"
   },
   {
    "duration": 10,
    "start_time": "2023-01-07T14:23:32.352Z"
   },
   {
    "duration": 9,
    "start_time": "2023-01-07T14:23:33.207Z"
   },
   {
    "duration": 4,
    "start_time": "2023-01-07T14:23:33.798Z"
   },
   {
    "duration": 4,
    "start_time": "2023-01-07T14:23:34.250Z"
   },
   {
    "duration": 4,
    "start_time": "2023-01-07T14:23:34.751Z"
   },
   {
    "duration": 7,
    "start_time": "2023-01-07T14:23:35.129Z"
   },
   {
    "duration": 5,
    "start_time": "2023-01-07T14:23:35.650Z"
   },
   {
    "duration": 3,
    "start_time": "2023-01-07T14:23:36.222Z"
   },
   {
    "duration": 205,
    "start_time": "2023-01-07T14:23:36.673Z"
   },
   {
    "duration": 4,
    "start_time": "2023-01-07T14:26:06.198Z"
   },
   {
    "duration": 169,
    "start_time": "2023-01-07T14:26:07.118Z"
   },
   {
    "duration": 24,
    "start_time": "2023-01-07T14:26:07.525Z"
   },
   {
    "duration": 9,
    "start_time": "2023-01-07T14:26:07.698Z"
   },
   {
    "duration": 7,
    "start_time": "2023-01-07T14:26:07.876Z"
   },
   {
    "duration": 23,
    "start_time": "2023-01-07T14:26:08.003Z"
   },
   {
    "duration": 2,
    "start_time": "2023-01-07T14:26:08.154Z"
   },
   {
    "duration": 9,
    "start_time": "2023-01-07T14:26:08.311Z"
   },
   {
    "duration": 9,
    "start_time": "2023-01-07T14:26:08.480Z"
   },
   {
    "duration": 9,
    "start_time": "2023-01-07T14:26:08.649Z"
   },
   {
    "duration": 74,
    "start_time": "2023-01-07T14:26:08.829Z"
   },
   {
    "duration": 149,
    "start_time": "2023-01-07T14:26:09.004Z"
   },
   {
    "duration": 21,
    "start_time": "2023-01-07T14:26:09.166Z"
   },
   {
    "duration": 3,
    "start_time": "2023-01-07T14:26:09.505Z"
   },
   {
    "duration": 14,
    "start_time": "2023-01-07T14:26:09.685Z"
   },
   {
    "duration": 10,
    "start_time": "2023-01-07T14:26:10.003Z"
   },
   {
    "duration": 4,
    "start_time": "2023-01-07T14:26:10.202Z"
   },
   {
    "duration": 6,
    "start_time": "2023-01-07T14:26:10.358Z"
   },
   {
    "duration": 3,
    "start_time": "2023-01-07T14:26:10.554Z"
   },
   {
    "duration": 7,
    "start_time": "2023-01-07T14:26:10.752Z"
   },
   {
    "duration": 3,
    "start_time": "2023-01-07T14:26:10.967Z"
   },
   {
    "duration": 206,
    "start_time": "2023-01-07T14:26:11.574Z"
   },
   {
    "duration": 28,
    "start_time": "2023-01-07T14:26:12.297Z"
   },
   {
    "duration": 15,
    "start_time": "2023-01-07T14:26:13.013Z"
   },
   {
    "duration": 13,
    "start_time": "2023-01-07T14:26:13.313Z"
   },
   {
    "duration": 8,
    "start_time": "2023-01-07T14:26:13.494Z"
   },
   {
    "duration": 4,
    "start_time": "2023-01-07T14:26:13.676Z"
   },
   {
    "duration": 4,
    "start_time": "2023-01-07T14:26:13.879Z"
   },
   {
    "duration": 3,
    "start_time": "2023-01-07T14:26:14.183Z"
   },
   {
    "duration": 20,
    "start_time": "2023-01-07T14:26:14.925Z"
   },
   {
    "duration": 37,
    "start_time": "2023-01-07T14:26:16.030Z"
   },
   {
    "duration": 62,
    "start_time": "2023-01-07T14:26:16.410Z"
   },
   {
    "duration": 12,
    "start_time": "2023-01-07T14:26:16.660Z"
   },
   {
    "duration": 8,
    "start_time": "2023-01-07T14:26:17.102Z"
   },
   {
    "duration": 13,
    "start_time": "2023-01-07T14:26:18.233Z"
   },
   {
    "duration": 14,
    "start_time": "2023-01-07T14:26:18.650Z"
   },
   {
    "duration": 11,
    "start_time": "2023-01-07T14:26:19.284Z"
   },
   {
    "duration": 16,
    "start_time": "2023-01-07T14:26:19.802Z"
   },
   {
    "duration": 63,
    "start_time": "2023-01-07T14:26:20.633Z"
   },
   {
    "duration": 57,
    "start_time": "2023-01-07T14:26:21.449Z"
   },
   {
    "duration": 25,
    "start_time": "2023-01-07T14:26:22.826Z"
   },
   {
    "duration": 20,
    "start_time": "2023-01-07T14:26:23.797Z"
   },
   {
    "duration": 50,
    "start_time": "2023-01-07T14:26:24.345Z"
   },
   {
    "duration": 11,
    "start_time": "2023-01-07T14:26:25.054Z"
   },
   {
    "duration": 9,
    "start_time": "2023-01-07T14:26:25.652Z"
   },
   {
    "duration": 5,
    "start_time": "2023-01-07T14:26:26.221Z"
   },
   {
    "duration": 4,
    "start_time": "2023-01-07T14:26:27.054Z"
   },
   {
    "duration": 5,
    "start_time": "2023-01-07T14:26:27.256Z"
   },
   {
    "duration": 5,
    "start_time": "2023-01-07T14:26:27.459Z"
   },
   {
    "duration": 4,
    "start_time": "2023-01-07T14:26:27.731Z"
   },
   {
    "duration": 3,
    "start_time": "2023-01-07T14:26:28.078Z"
   },
   {
    "duration": 13,
    "start_time": "2023-01-07T14:26:28.473Z"
   },
   {
    "duration": 1254,
    "start_time": "2023-01-07T14:26:59.450Z"
   },
   {
    "duration": 188,
    "start_time": "2023-01-07T14:27:00.706Z"
   },
   {
    "duration": 23,
    "start_time": "2023-01-07T14:27:00.896Z"
   },
   {
    "duration": 22,
    "start_time": "2023-01-07T14:27:00.936Z"
   },
   {
    "duration": 37,
    "start_time": "2023-01-07T14:27:00.960Z"
   },
   {
    "duration": 34,
    "start_time": "2023-01-07T14:27:00.999Z"
   },
   {
    "duration": 19,
    "start_time": "2023-01-07T14:27:01.035Z"
   },
   {
    "duration": 41,
    "start_time": "2023-01-07T14:27:01.057Z"
   },
   {
    "duration": 36,
    "start_time": "2023-01-07T14:27:01.100Z"
   },
   {
    "duration": 9,
    "start_time": "2023-01-07T14:27:01.250Z"
   },
   {
    "duration": 91,
    "start_time": "2023-01-07T14:27:01.424Z"
   },
   {
    "duration": 150,
    "start_time": "2023-01-07T14:27:01.604Z"
   },
   {
    "duration": 20,
    "start_time": "2023-01-07T14:27:01.772Z"
   },
   {
    "duration": 7,
    "start_time": "2023-01-07T14:27:02.134Z"
   },
   {
    "duration": 13,
    "start_time": "2023-01-07T14:27:02.303Z"
   },
   {
    "duration": 10,
    "start_time": "2023-01-07T14:27:02.698Z"
   },
   {
    "duration": 5,
    "start_time": "2023-01-07T14:27:02.876Z"
   },
   {
    "duration": 6,
    "start_time": "2023-01-07T14:27:03.066Z"
   },
   {
    "duration": 3,
    "start_time": "2023-01-07T14:27:03.269Z"
   },
   {
    "duration": 5,
    "start_time": "2023-01-07T14:27:03.594Z"
   },
   {
    "duration": 3,
    "start_time": "2023-01-07T14:27:03.820Z"
   },
   {
    "duration": 297,
    "start_time": "2023-01-07T14:27:04.227Z"
   },
   {
    "duration": 32,
    "start_time": "2023-01-07T14:27:04.649Z"
   },
   {
    "duration": 14,
    "start_time": "2023-01-07T14:27:05.103Z"
   },
   {
    "duration": 14,
    "start_time": "2023-01-07T14:27:05.373Z"
   },
   {
    "duration": 10,
    "start_time": "2023-01-07T14:27:05.652Z"
   },
   {
    "duration": 9,
    "start_time": "2023-01-07T14:27:05.934Z"
   },
   {
    "duration": 5,
    "start_time": "2023-01-07T14:27:06.217Z"
   },
   {
    "duration": 5,
    "start_time": "2023-01-07T14:27:06.509Z"
   },
   {
    "duration": 11,
    "start_time": "2023-01-07T14:27:07.050Z"
   },
   {
    "duration": 27,
    "start_time": "2023-01-07T14:27:07.578Z"
   },
   {
    "duration": 61,
    "start_time": "2023-01-07T14:27:07.815Z"
   },
   {
    "duration": 10,
    "start_time": "2023-01-07T14:27:08.153Z"
   },
   {
    "duration": 51,
    "start_time": "2023-01-07T14:27:08.513Z"
   },
   {
    "duration": 10,
    "start_time": "2023-01-07T14:27:09.163Z"
   },
   {
    "duration": 14,
    "start_time": "2023-01-07T14:27:09.558Z"
   },
   {
    "duration": 10,
    "start_time": "2023-01-07T14:27:09.852Z"
   },
   {
    "duration": 12,
    "start_time": "2023-01-07T14:27:10.252Z"
   },
   {
    "duration": 388,
    "start_time": "2023-01-07T14:27:10.784Z"
   },
   {
    "duration": 200,
    "start_time": "2023-01-07T14:27:11.174Z"
   },
   {
    "duration": 20,
    "start_time": "2023-01-07T14:27:13.143Z"
   },
   {
    "duration": 23,
    "start_time": "2023-01-07T14:27:13.690Z"
   },
   {
    "duration": 54,
    "start_time": "2023-01-07T14:27:14.466Z"
   },
   {
    "duration": 9,
    "start_time": "2023-01-07T14:27:14.969Z"
   },
   {
    "duration": 10,
    "start_time": "2023-01-07T14:27:15.446Z"
   },
   {
    "duration": 4,
    "start_time": "2023-01-07T14:27:16.072Z"
   },
   {
    "duration": 4,
    "start_time": "2023-01-07T14:27:16.583Z"
   },
   {
    "duration": 5,
    "start_time": "2023-01-07T14:27:16.983Z"
   },
   {
    "duration": 5,
    "start_time": "2023-01-07T14:27:17.521Z"
   },
   {
    "duration": 9,
    "start_time": "2023-01-07T14:27:18.018Z"
   },
   {
    "duration": 7,
    "start_time": "2023-01-07T14:27:18.448Z"
   },
   {
    "duration": 207,
    "start_time": "2023-01-07T14:27:19.051Z"
   },
   {
    "duration": 5,
    "start_time": "2023-01-07T14:33:27.655Z"
   },
   {
    "duration": 5,
    "start_time": "2023-01-07T14:33:28.533Z"
   },
   {
    "duration": 5,
    "start_time": "2023-01-07T14:33:29.489Z"
   },
   {
    "duration": 16,
    "start_time": "2023-01-07T14:33:30.231Z"
   },
   {
    "duration": 5,
    "start_time": "2023-01-07T14:33:34.836Z"
   },
   {
    "duration": 3,
    "start_time": "2023-01-07T14:33:35.952Z"
   },
   {
    "duration": 11,
    "start_time": "2023-01-07T14:33:36.711Z"
   },
   {
    "duration": 3,
    "start_time": "2023-01-07T14:34:20.097Z"
   },
   {
    "duration": 6,
    "start_time": "2023-01-07T14:44:01.468Z"
   },
   {
    "duration": 18,
    "start_time": "2023-01-07T14:45:49.213Z"
   },
   {
    "duration": 8,
    "start_time": "2023-01-07T14:45:58.854Z"
   },
   {
    "duration": 9,
    "start_time": "2023-01-07T14:46:28.455Z"
   },
   {
    "duration": 1334,
    "start_time": "2023-01-07T14:55:36.929Z"
   },
   {
    "duration": 485,
    "start_time": "2023-01-07T14:55:38.265Z"
   },
   {
    "duration": 22,
    "start_time": "2023-01-07T14:55:38.751Z"
   },
   {
    "duration": 10,
    "start_time": "2023-01-07T14:55:38.775Z"
   },
   {
    "duration": 7,
    "start_time": "2023-01-07T14:55:38.787Z"
   },
   {
    "duration": 28,
    "start_time": "2023-01-07T14:55:38.795Z"
   },
   {
    "duration": 3,
    "start_time": "2023-01-07T14:55:38.824Z"
   },
   {
    "duration": 17,
    "start_time": "2023-01-07T14:55:38.828Z"
   },
   {
    "duration": 9,
    "start_time": "2023-01-07T14:55:38.847Z"
   },
   {
    "duration": 10,
    "start_time": "2023-01-07T14:55:38.858Z"
   },
   {
    "duration": 99,
    "start_time": "2023-01-07T14:55:38.870Z"
   },
   {
    "duration": 145,
    "start_time": "2023-01-07T14:55:38.971Z"
   },
   {
    "duration": 18,
    "start_time": "2023-01-07T14:55:39.118Z"
   },
   {
    "duration": 2,
    "start_time": "2023-01-07T14:55:39.178Z"
   },
   {
    "duration": 14,
    "start_time": "2023-01-07T14:55:39.346Z"
   },
   {
    "duration": 7,
    "start_time": "2023-01-07T14:55:39.670Z"
   },
   {
    "duration": 3,
    "start_time": "2023-01-07T14:55:39.841Z"
   },
   {
    "duration": 5,
    "start_time": "2023-01-07T14:55:39.997Z"
   },
   {
    "duration": 2,
    "start_time": "2023-01-07T14:55:40.165Z"
   },
   {
    "duration": 5,
    "start_time": "2023-01-07T14:55:40.341Z"
   },
   {
    "duration": 3,
    "start_time": "2023-01-07T14:55:40.495Z"
   },
   {
    "duration": 279,
    "start_time": "2023-01-07T14:55:40.820Z"
   },
   {
    "duration": 27,
    "start_time": "2023-01-07T14:55:41.178Z"
   },
   {
    "duration": 15,
    "start_time": "2023-01-07T14:55:41.514Z"
   },
   {
    "duration": 13,
    "start_time": "2023-01-07T14:55:41.685Z"
   },
   {
    "duration": 10,
    "start_time": "2023-01-07T14:55:41.865Z"
   },
   {
    "duration": 2,
    "start_time": "2023-01-07T14:55:42.056Z"
   },
   {
    "duration": 4,
    "start_time": "2023-01-07T14:55:42.248Z"
   },
   {
    "duration": 4,
    "start_time": "2023-01-07T14:55:42.416Z"
   },
   {
    "duration": 12,
    "start_time": "2023-01-07T14:55:42.776Z"
   },
   {
    "duration": 23,
    "start_time": "2023-01-07T14:55:43.113Z"
   },
   {
    "duration": 53,
    "start_time": "2023-01-07T14:55:43.298Z"
   },
   {
    "duration": 10,
    "start_time": "2023-01-07T14:55:43.473Z"
   },
   {
    "duration": 39,
    "start_time": "2023-01-07T14:55:43.652Z"
   },
   {
    "duration": 9,
    "start_time": "2023-01-07T14:55:44.008Z"
   },
   {
    "duration": 13,
    "start_time": "2023-01-07T14:55:44.198Z"
   },
   {
    "duration": 9,
    "start_time": "2023-01-07T14:55:44.376Z"
   },
   {
    "duration": 12,
    "start_time": "2023-01-07T14:55:44.540Z"
   },
   {
    "duration": 371,
    "start_time": "2023-01-07T14:55:44.756Z"
   },
   {
    "duration": 210,
    "start_time": "2023-01-07T14:55:45.130Z"
   },
   {
    "duration": 16,
    "start_time": "2023-01-07T14:55:46.264Z"
   },
   {
    "duration": 22,
    "start_time": "2023-01-07T14:55:46.719Z"
   },
   {
    "duration": 49,
    "start_time": "2023-01-07T14:55:46.766Z"
   },
   {
    "duration": 11,
    "start_time": "2023-01-07T14:55:46.951Z"
   },
   {
    "duration": 9,
    "start_time": "2023-01-07T14:55:47.112Z"
   },
   {
    "duration": 4,
    "start_time": "2023-01-07T14:55:47.289Z"
   },
   {
    "duration": 4,
    "start_time": "2023-01-07T14:55:47.480Z"
   },
   {
    "duration": 3,
    "start_time": "2023-01-07T14:55:47.659Z"
   },
   {
    "duration": 4,
    "start_time": "2023-01-07T14:55:48.243Z"
   },
   {
    "duration": 4,
    "start_time": "2023-01-07T14:55:48.697Z"
   },
   {
    "duration": 3,
    "start_time": "2023-01-07T14:55:48.898Z"
   },
   {
    "duration": 10,
    "start_time": "2023-01-07T14:55:49.103Z"
   },
   {
    "duration": 11,
    "start_time": "2023-01-07T14:55:49.829Z"
   },
   {
    "duration": 10,
    "start_time": "2023-01-07T14:58:22.160Z"
   },
   {
    "duration": 5,
    "start_time": "2023-01-07T14:59:58.995Z"
   },
   {
    "duration": 845,
    "start_time": "2023-01-07T15:01:53.310Z"
   },
   {
    "duration": 5,
    "start_time": "2023-01-07T15:02:15.444Z"
   },
   {
    "duration": 12,
    "start_time": "2023-01-07T15:02:28.968Z"
   },
   {
    "duration": 9,
    "start_time": "2023-01-07T15:04:04.964Z"
   },
   {
    "duration": 12,
    "start_time": "2023-01-07T15:04:36.610Z"
   },
   {
    "duration": 12,
    "start_time": "2023-01-07T15:45:19.482Z"
   },
   {
    "duration": 11,
    "start_time": "2023-01-07T15:48:58.777Z"
   },
   {
    "duration": 13,
    "start_time": "2023-01-07T15:51:48.536Z"
   },
   {
    "duration": 13,
    "start_time": "2023-01-07T15:52:30.629Z"
   },
   {
    "duration": 12,
    "start_time": "2023-01-07T15:56:57.331Z"
   },
   {
    "duration": 13,
    "start_time": "2023-01-07T15:59:33.811Z"
   },
   {
    "duration": 1301,
    "start_time": "2023-01-09T07:06:51.549Z"
   },
   {
    "duration": 715,
    "start_time": "2023-01-09T07:06:52.853Z"
   },
   {
    "duration": 21,
    "start_time": "2023-01-09T07:06:53.570Z"
   },
   {
    "duration": 11,
    "start_time": "2023-01-09T07:06:53.593Z"
   },
   {
    "duration": 8,
    "start_time": "2023-01-09T07:06:53.605Z"
   },
   {
    "duration": 20,
    "start_time": "2023-01-09T07:06:53.614Z"
   },
   {
    "duration": 2,
    "start_time": "2023-01-09T07:06:53.636Z"
   },
   {
    "duration": 17,
    "start_time": "2023-01-09T07:06:53.639Z"
   },
   {
    "duration": 7,
    "start_time": "2023-01-09T07:06:53.658Z"
   },
   {
    "duration": 9,
    "start_time": "2023-01-09T07:06:53.667Z"
   },
   {
    "duration": 88,
    "start_time": "2023-01-09T07:06:53.677Z"
   },
   {
    "duration": 133,
    "start_time": "2023-01-09T07:06:53.767Z"
   },
   {
    "duration": 27,
    "start_time": "2023-01-09T07:06:53.902Z"
   },
   {
    "duration": 3,
    "start_time": "2023-01-09T07:06:53.931Z"
   },
   {
    "duration": 11,
    "start_time": "2023-01-09T07:06:54.072Z"
   },
   {
    "duration": 7,
    "start_time": "2023-01-09T07:06:54.414Z"
   },
   {
    "duration": 4,
    "start_time": "2023-01-09T07:06:54.573Z"
   },
   {
    "duration": 5,
    "start_time": "2023-01-09T07:06:54.785Z"
   },
   {
    "duration": 2,
    "start_time": "2023-01-09T07:06:54.947Z"
   },
   {
    "duration": 6,
    "start_time": "2023-01-09T07:06:55.063Z"
   },
   {
    "duration": 2,
    "start_time": "2023-01-09T07:06:55.341Z"
   },
   {
    "duration": 296,
    "start_time": "2023-01-09T07:06:55.632Z"
   },
   {
    "duration": 29,
    "start_time": "2023-01-09T07:06:55.959Z"
   },
   {
    "duration": 15,
    "start_time": "2023-01-09T07:06:56.310Z"
   },
   {
    "duration": 11,
    "start_time": "2023-01-09T07:06:56.460Z"
   },
   {
    "duration": 10,
    "start_time": "2023-01-09T07:06:56.646Z"
   },
   {
    "duration": 2,
    "start_time": "2023-01-09T07:06:56.830Z"
   },
   {
    "duration": 5,
    "start_time": "2023-01-09T07:06:56.983Z"
   },
   {
    "duration": 4,
    "start_time": "2023-01-09T07:06:57.164Z"
   },
   {
    "duration": 11,
    "start_time": "2023-01-09T07:06:57.547Z"
   },
   {
    "duration": 27,
    "start_time": "2023-01-09T07:06:57.929Z"
   },
   {
    "duration": 52,
    "start_time": "2023-01-09T07:06:58.069Z"
   },
   {
    "duration": 10,
    "start_time": "2023-01-09T07:06:58.244Z"
   },
   {
    "duration": 39,
    "start_time": "2023-01-09T07:06:58.425Z"
   },
   {
    "duration": 9,
    "start_time": "2023-01-09T07:06:58.750Z"
   },
   {
    "duration": 17,
    "start_time": "2023-01-09T07:06:58.934Z"
   },
   {
    "duration": 14,
    "start_time": "2023-01-09T07:06:59.126Z"
   },
   {
    "duration": 15,
    "start_time": "2023-01-09T07:06:59.330Z"
   },
   {
    "duration": 407,
    "start_time": "2023-01-09T07:06:59.518Z"
   },
   {
    "duration": 159,
    "start_time": "2023-01-09T07:07:00.495Z"
   },
   {
    "duration": 18,
    "start_time": "2023-01-09T07:07:00.656Z"
   },
   {
    "duration": 29,
    "start_time": "2023-01-09T07:07:00.915Z"
   },
   {
    "duration": 52,
    "start_time": "2023-01-09T07:07:01.081Z"
   },
   {
    "duration": 9,
    "start_time": "2023-01-09T07:07:01.426Z"
   },
   {
    "duration": 9,
    "start_time": "2023-01-09T07:07:01.465Z"
   },
   {
    "duration": 5,
    "start_time": "2023-01-09T07:07:01.651Z"
   },
   {
    "duration": 4,
    "start_time": "2023-01-09T07:07:01.834Z"
   },
   {
    "duration": 5,
    "start_time": "2023-01-09T07:07:02.156Z"
   },
   {
    "duration": 4,
    "start_time": "2023-01-09T07:07:02.218Z"
   },
   {
    "duration": 5,
    "start_time": "2023-01-09T07:07:02.525Z"
   },
   {
    "duration": 3,
    "start_time": "2023-01-09T07:07:02.635Z"
   },
   {
    "duration": 7,
    "start_time": "2023-01-09T07:07:02.852Z"
   },
   {
    "duration": 9,
    "start_time": "2023-01-09T07:07:03.414Z"
   },
   {
    "duration": 4,
    "start_time": "2023-01-09T07:07:03.633Z"
   },
   {
    "duration": 14,
    "start_time": "2023-01-09T07:07:03.918Z"
   },
   {
    "duration": 11,
    "start_time": "2023-01-09T07:43:25.128Z"
   },
   {
    "duration": 1320,
    "start_time": "2023-01-09T12:08:33.457Z"
   },
   {
    "duration": 471,
    "start_time": "2023-01-09T12:08:34.779Z"
   },
   {
    "duration": 21,
    "start_time": "2023-01-09T12:08:35.252Z"
   },
   {
    "duration": 14,
    "start_time": "2023-01-09T12:08:35.275Z"
   },
   {
    "duration": 6,
    "start_time": "2023-01-09T12:08:35.290Z"
   },
   {
    "duration": 25,
    "start_time": "2023-01-09T12:08:35.297Z"
   },
   {
    "duration": 2,
    "start_time": "2023-01-09T12:08:35.324Z"
   },
   {
    "duration": 15,
    "start_time": "2023-01-09T12:08:35.328Z"
   },
   {
    "duration": 9,
    "start_time": "2023-01-09T12:08:35.345Z"
   },
   {
    "duration": 8,
    "start_time": "2023-01-09T12:08:35.356Z"
   },
   {
    "duration": 82,
    "start_time": "2023-01-09T12:08:35.365Z"
   },
   {
    "duration": 134,
    "start_time": "2023-01-09T12:08:35.449Z"
   },
   {
    "duration": 23,
    "start_time": "2023-01-09T12:08:35.591Z"
   },
   {
    "duration": 2,
    "start_time": "2023-01-09T12:08:35.954Z"
   },
   {
    "duration": 13,
    "start_time": "2023-01-09T12:08:36.135Z"
   },
   {
    "duration": 9,
    "start_time": "2023-01-09T12:08:36.495Z"
   },
   {
    "duration": 4,
    "start_time": "2023-01-09T12:08:36.674Z"
   },
   {
    "duration": 5,
    "start_time": "2023-01-09T12:08:36.872Z"
   },
   {
    "duration": 3,
    "start_time": "2023-01-09T12:08:37.067Z"
   },
   {
    "duration": 6,
    "start_time": "2023-01-09T12:08:37.292Z"
   },
   {
    "duration": 3,
    "start_time": "2023-01-09T12:08:37.518Z"
   },
   {
    "duration": 257,
    "start_time": "2023-01-09T12:08:37.934Z"
   },
   {
    "duration": 26,
    "start_time": "2023-01-09T12:08:38.328Z"
   },
   {
    "duration": 14,
    "start_time": "2023-01-09T12:08:38.664Z"
   },
   {
    "duration": 14,
    "start_time": "2023-01-09T12:08:38.901Z"
   },
   {
    "duration": 9,
    "start_time": "2023-01-09T12:08:39.105Z"
   },
   {
    "duration": 3,
    "start_time": "2023-01-09T12:08:39.283Z"
   },
   {
    "duration": 4,
    "start_time": "2023-01-09T12:08:39.476Z"
   },
   {
    "duration": 4,
    "start_time": "2023-01-09T12:08:39.689Z"
   },
   {
    "duration": 13,
    "start_time": "2023-01-09T12:08:40.096Z"
   },
   {
    "duration": 23,
    "start_time": "2023-01-09T12:08:40.501Z"
   },
   {
    "duration": 63,
    "start_time": "2023-01-09T12:08:40.691Z"
   },
   {
    "duration": 10,
    "start_time": "2023-01-09T12:08:40.894Z"
   },
   {
    "duration": 52,
    "start_time": "2023-01-09T12:08:41.084Z"
   },
   {
    "duration": 9,
    "start_time": "2023-01-09T12:08:41.534Z"
   },
   {
    "duration": 12,
    "start_time": "2023-01-09T12:08:41.783Z"
   },
   {
    "duration": 10,
    "start_time": "2023-01-09T12:08:42.042Z"
   },
   {
    "duration": 16,
    "start_time": "2023-01-09T12:08:42.256Z"
   },
   {
    "duration": 349,
    "start_time": "2023-01-09T12:08:42.448Z"
   },
   {
    "duration": 163,
    "start_time": "2023-01-09T12:08:42.798Z"
   },
   {
    "duration": 15,
    "start_time": "2023-01-09T12:08:44.378Z"
   },
   {
    "duration": 24,
    "start_time": "2023-01-09T12:08:44.764Z"
   },
   {
    "duration": 48,
    "start_time": "2023-01-09T12:08:44.956Z"
   },
   {
    "duration": 9,
    "start_time": "2023-01-09T12:08:45.137Z"
   },
   {
    "duration": 8,
    "start_time": "2023-01-09T12:08:45.306Z"
   },
   {
    "duration": 4,
    "start_time": "2023-01-09T12:08:45.473Z"
   },
   {
    "duration": 4,
    "start_time": "2023-01-09T12:08:45.641Z"
   },
   {
    "duration": 4,
    "start_time": "2023-01-09T12:08:45.820Z"
   },
   {
    "duration": 5,
    "start_time": "2023-01-09T12:08:45.996Z"
   },
   {
    "duration": 4,
    "start_time": "2023-01-09T12:08:46.182Z"
   },
   {
    "duration": 3,
    "start_time": "2023-01-09T12:08:46.372Z"
   },
   {
    "duration": 7,
    "start_time": "2023-01-09T12:08:46.541Z"
   },
   {
    "duration": 8,
    "start_time": "2023-01-09T12:08:47.149Z"
   },
   {
    "duration": 5,
    "start_time": "2023-01-09T12:08:47.442Z"
   },
   {
    "duration": 13,
    "start_time": "2023-01-09T12:08:47.634Z"
   },
   {
    "duration": 11,
    "start_time": "2023-01-09T12:08:47.836Z"
   },
   {
    "duration": 40,
    "start_time": "2023-01-09T12:08:48.037Z"
   },
   {
    "duration": 530,
    "start_time": "2023-01-09T12:11:58.590Z"
   },
   {
    "duration": 9,
    "start_time": "2023-01-09T12:13:25.467Z"
   },
   {
    "duration": 10,
    "start_time": "2023-01-09T12:13:54.286Z"
   },
   {
    "duration": 91,
    "start_time": "2023-01-09T12:18:26.171Z"
   },
   {
    "duration": 71,
    "start_time": "2023-01-09T12:19:29.790Z"
   },
   {
    "duration": 8,
    "start_time": "2023-01-09T12:19:34.467Z"
   },
   {
    "duration": 19,
    "start_time": "2023-01-09T12:19:38.620Z"
   },
   {
    "duration": 8,
    "start_time": "2023-01-09T12:19:50.734Z"
   },
   {
    "duration": 1122,
    "start_time": "2023-01-09T12:20:32.923Z"
   },
   {
    "duration": 0,
    "start_time": "2023-01-09T12:20:34.047Z"
   },
   {
    "duration": 903,
    "start_time": "2023-01-09T12:20:34.272Z"
   },
   {
    "duration": 0,
    "start_time": "2023-01-09T12:20:35.177Z"
   },
   {
    "duration": 0,
    "start_time": "2023-01-09T12:20:35.180Z"
   },
   {
    "duration": 0,
    "start_time": "2023-01-09T12:20:35.182Z"
   },
   {
    "duration": 8,
    "start_time": "2023-01-09T12:20:35.472Z"
   },
   {
    "duration": 8,
    "start_time": "2023-01-09T12:20:42.070Z"
   },
   {
    "duration": 853,
    "start_time": "2023-01-09T12:20:51.649Z"
   },
   {
    "duration": 12,
    "start_time": "2023-01-09T12:20:53.734Z"
   },
   {
    "duration": 11,
    "start_time": "2023-01-09T12:21:09.432Z"
   },
   {
    "duration": 13,
    "start_time": "2023-01-09T12:21:09.847Z"
   },
   {
    "duration": 51,
    "start_time": "2023-01-09T12:21:10.343Z"
   },
   {
    "duration": 8,
    "start_time": "2023-01-09T12:21:51.429Z"
   },
   {
    "duration": 32,
    "start_time": "2023-01-09T12:28:32.406Z"
   },
   {
    "duration": 7,
    "start_time": "2023-01-09T12:30:26.837Z"
   },
   {
    "duration": 31,
    "start_time": "2023-01-09T12:31:04.071Z"
   },
   {
    "duration": 31,
    "start_time": "2023-01-09T12:31:13.491Z"
   },
   {
    "duration": 7,
    "start_time": "2023-01-09T12:31:40.018Z"
   },
   {
    "duration": 7,
    "start_time": "2023-01-09T12:31:56.578Z"
   },
   {
    "duration": 7,
    "start_time": "2023-01-09T12:34:06.270Z"
   },
   {
    "duration": 8,
    "start_time": "2023-01-09T12:34:18.824Z"
   },
   {
    "duration": 4,
    "start_time": "2023-01-09T12:35:09.452Z"
   },
   {
    "duration": 16,
    "start_time": "2023-01-09T12:35:16.076Z"
   },
   {
    "duration": 12,
    "start_time": "2023-01-09T12:35:24.975Z"
   },
   {
    "duration": 14,
    "start_time": "2023-01-09T12:39:59.999Z"
   },
   {
    "duration": 12,
    "start_time": "2023-01-09T12:40:04.466Z"
   },
   {
    "duration": 6,
    "start_time": "2023-01-09T12:41:40.013Z"
   },
   {
    "duration": 1119,
    "start_time": "2023-01-09T12:42:23.025Z"
   },
   {
    "duration": 146,
    "start_time": "2023-01-09T12:42:24.146Z"
   },
   {
    "duration": 21,
    "start_time": "2023-01-09T12:42:24.294Z"
   },
   {
    "duration": 9,
    "start_time": "2023-01-09T12:42:24.317Z"
   },
   {
    "duration": 7,
    "start_time": "2023-01-09T12:42:24.328Z"
   },
   {
    "duration": 28,
    "start_time": "2023-01-09T12:42:24.337Z"
   },
   {
    "duration": 3,
    "start_time": "2023-01-09T12:42:24.366Z"
   },
   {
    "duration": 36,
    "start_time": "2023-01-09T12:42:24.370Z"
   },
   {
    "duration": 7,
    "start_time": "2023-01-09T12:42:24.407Z"
   },
   {
    "duration": 7,
    "start_time": "2023-01-09T12:42:24.447Z"
   },
   {
    "duration": 61,
    "start_time": "2023-01-09T12:42:24.617Z"
   },
   {
    "duration": 141,
    "start_time": "2023-01-09T12:42:24.741Z"
   },
   {
    "duration": 24,
    "start_time": "2023-01-09T12:42:24.899Z"
   },
   {
    "duration": 2,
    "start_time": "2023-01-09T12:42:25.214Z"
   },
   {
    "duration": 12,
    "start_time": "2023-01-09T12:42:25.388Z"
   },
   {
    "duration": 7,
    "start_time": "2023-01-09T12:42:25.755Z"
   },
   {
    "duration": 4,
    "start_time": "2023-01-09T12:42:25.878Z"
   },
   {
    "duration": 5,
    "start_time": "2023-01-09T12:42:26.032Z"
   },
   {
    "duration": 2,
    "start_time": "2023-01-09T12:42:26.188Z"
   },
   {
    "duration": 4,
    "start_time": "2023-01-09T12:42:26.352Z"
   },
   {
    "duration": 3,
    "start_time": "2023-01-09T12:42:26.510Z"
   },
   {
    "duration": 259,
    "start_time": "2023-01-09T12:42:26.858Z"
   },
   {
    "duration": 26,
    "start_time": "2023-01-09T12:42:27.192Z"
   },
   {
    "duration": 13,
    "start_time": "2023-01-09T12:42:27.534Z"
   },
   {
    "duration": 12,
    "start_time": "2023-01-09T12:42:27.714Z"
   },
   {
    "duration": 9,
    "start_time": "2023-01-09T12:42:27.896Z"
   },
   {
    "duration": 2,
    "start_time": "2023-01-09T12:42:28.084Z"
   },
   {
    "duration": 4,
    "start_time": "2023-01-09T12:42:28.286Z"
   },
   {
    "duration": 4,
    "start_time": "2023-01-09T12:42:28.489Z"
   },
   {
    "duration": 11,
    "start_time": "2023-01-09T12:42:28.965Z"
   },
   {
    "duration": 23,
    "start_time": "2023-01-09T12:42:29.873Z"
   },
   {
    "duration": 52,
    "start_time": "2023-01-09T12:42:31.061Z"
   },
   {
    "duration": 10,
    "start_time": "2023-01-09T12:42:31.566Z"
   },
   {
    "duration": 38,
    "start_time": "2023-01-09T12:42:31.989Z"
   },
   {
    "duration": 9,
    "start_time": "2023-01-09T12:42:34.555Z"
   },
   {
    "duration": 11,
    "start_time": "2023-01-09T12:42:34.837Z"
   },
   {
    "duration": 11,
    "start_time": "2023-01-09T12:42:35.171Z"
   },
   {
    "duration": 12,
    "start_time": "2023-01-09T12:42:35.590Z"
   },
   {
    "duration": 344,
    "start_time": "2023-01-09T12:42:35.841Z"
   },
   {
    "duration": 163,
    "start_time": "2023-01-09T12:42:36.187Z"
   },
   {
    "duration": 42,
    "start_time": "2023-01-09T12:42:38.042Z"
   },
   {
    "duration": 18,
    "start_time": "2023-01-09T12:42:38.592Z"
   },
   {
    "duration": 35,
    "start_time": "2023-01-09T12:44:18.802Z"
   },
   {
    "duration": 21,
    "start_time": "2023-01-09T12:44:19.154Z"
   },
   {
    "duration": 78,
    "start_time": "2023-01-09T12:44:19.368Z"
   },
   {
    "duration": 8,
    "start_time": "2023-01-09T12:44:19.508Z"
   },
   {
    "duration": 8,
    "start_time": "2023-01-09T12:44:19.666Z"
   },
   {
    "duration": 927,
    "start_time": "2023-01-09T12:44:19.776Z"
   },
   {
    "duration": 0,
    "start_time": "2023-01-09T12:44:20.705Z"
   },
   {
    "duration": 0,
    "start_time": "2023-01-09T12:44:20.706Z"
   },
   {
    "duration": 0,
    "start_time": "2023-01-09T12:44:20.708Z"
   },
   {
    "duration": 0,
    "start_time": "2023-01-09T12:44:20.708Z"
   },
   {
    "duration": 0,
    "start_time": "2023-01-09T12:44:20.709Z"
   },
   {
    "duration": 13,
    "start_time": "2023-01-09T12:44:20.925Z"
   },
   {
    "duration": 7,
    "start_time": "2023-01-09T12:44:22.158Z"
   },
   {
    "duration": 799,
    "start_time": "2023-01-09T12:44:22.389Z"
   },
   {
    "duration": 0,
    "start_time": "2023-01-09T12:44:23.189Z"
   },
   {
    "duration": 0,
    "start_time": "2023-01-09T12:44:23.190Z"
   },
   {
    "duration": 0,
    "start_time": "2023-01-09T12:44:23.191Z"
   },
   {
    "duration": 0,
    "start_time": "2023-01-09T12:44:23.192Z"
   },
   {
    "duration": 11,
    "start_time": "2023-01-09T12:44:23.375Z"
   },
   {
    "duration": 5,
    "start_time": "2023-01-09T12:44:24.021Z"
   },
   {
    "duration": 73,
    "start_time": "2023-01-09T12:44:24.809Z"
   },
   {
    "duration": 12,
    "start_time": "2023-01-09T12:44:37.981Z"
   },
   {
    "duration": 32,
    "start_time": "2023-01-09T12:45:37.846Z"
   },
   {
    "duration": 19,
    "start_time": "2023-01-09T12:45:38.915Z"
   },
   {
    "duration": 75,
    "start_time": "2023-01-09T12:45:39.063Z"
   },
   {
    "duration": 8,
    "start_time": "2023-01-09T12:45:39.225Z"
   },
   {
    "duration": 8,
    "start_time": "2023-01-09T12:45:39.377Z"
   },
   {
    "duration": 720,
    "start_time": "2023-01-09T12:45:39.543Z"
   },
   {
    "duration": 0,
    "start_time": "2023-01-09T12:45:40.265Z"
   },
   {
    "duration": 0,
    "start_time": "2023-01-09T12:45:40.266Z"
   },
   {
    "duration": 0,
    "start_time": "2023-01-09T12:45:40.267Z"
   },
   {
    "duration": 0,
    "start_time": "2023-01-09T12:45:40.268Z"
   },
   {
    "duration": 9,
    "start_time": "2023-01-09T12:45:40.341Z"
   },
   {
    "duration": 11,
    "start_time": "2023-01-09T12:45:40.567Z"
   },
   {
    "duration": 7,
    "start_time": "2023-01-09T12:45:41.357Z"
   },
   {
    "duration": 702,
    "start_time": "2023-01-09T12:45:41.534Z"
   },
   {
    "duration": 0,
    "start_time": "2023-01-09T12:45:42.238Z"
   },
   {
    "duration": 0,
    "start_time": "2023-01-09T12:45:42.239Z"
   },
   {
    "duration": 0,
    "start_time": "2023-01-09T12:45:42.240Z"
   },
   {
    "duration": 0,
    "start_time": "2023-01-09T12:45:42.241Z"
   },
   {
    "duration": 10,
    "start_time": "2023-01-09T12:45:42.410Z"
   },
   {
    "duration": 12,
    "start_time": "2023-01-09T12:45:51.288Z"
   },
   {
    "duration": 11,
    "start_time": "2023-01-09T12:46:11.854Z"
   },
   {
    "duration": 14,
    "start_time": "2023-01-09T12:46:28.131Z"
   },
   {
    "duration": 11,
    "start_time": "2023-01-09T12:49:00.078Z"
   },
   {
    "duration": 9,
    "start_time": "2023-01-09T12:49:02.851Z"
   },
   {
    "duration": 13,
    "start_time": "2023-01-09T12:49:07.505Z"
   },
   {
    "duration": 13,
    "start_time": "2023-01-09T12:49:16.779Z"
   },
   {
    "duration": 13,
    "start_time": "2023-01-09T12:51:30.786Z"
   },
   {
    "duration": 13,
    "start_time": "2023-01-09T12:51:39.100Z"
   },
   {
    "duration": 6,
    "start_time": "2023-01-09T12:52:04.936Z"
   },
   {
    "duration": 6,
    "start_time": "2023-01-09T12:52:14.923Z"
   },
   {
    "duration": 38,
    "start_time": "2023-01-09T12:52:34.219Z"
   },
   {
    "duration": 31,
    "start_time": "2023-01-09T12:53:51.843Z"
   },
   {
    "duration": 19,
    "start_time": "2023-01-09T12:53:52.156Z"
   },
   {
    "duration": 75,
    "start_time": "2023-01-09T12:53:52.327Z"
   },
   {
    "duration": 7,
    "start_time": "2023-01-09T12:53:52.478Z"
   },
   {
    "duration": 8,
    "start_time": "2023-01-09T12:53:52.642Z"
   },
   {
    "duration": 729,
    "start_time": "2023-01-09T12:54:15.064Z"
   },
   {
    "duration": 736,
    "start_time": "2023-01-09T12:54:15.985Z"
   },
   {
    "duration": 0,
    "start_time": "2023-01-09T12:54:16.723Z"
   },
   {
    "duration": 0,
    "start_time": "2023-01-09T12:54:16.724Z"
   },
   {
    "duration": 0,
    "start_time": "2023-01-09T12:54:16.725Z"
   },
   {
    "duration": 0,
    "start_time": "2023-01-09T12:54:16.726Z"
   },
   {
    "duration": 12,
    "start_time": "2023-01-09T12:54:16.819Z"
   },
   {
    "duration": 9,
    "start_time": "2023-01-09T12:54:17.550Z"
   },
   {
    "duration": 729,
    "start_time": "2023-01-09T12:54:18.326Z"
   },
   {
    "duration": 0,
    "start_time": "2023-01-09T12:54:19.057Z"
   },
   {
    "duration": 8,
    "start_time": "2023-01-09T12:54:19.206Z"
   },
   {
    "duration": 8,
    "start_time": "2023-01-09T12:54:19.464Z"
   },
   {
    "duration": 6,
    "start_time": "2023-01-09T12:54:19.858Z"
   },
   {
    "duration": 8,
    "start_time": "2023-01-09T12:54:20.386Z"
   },
   {
    "duration": 11,
    "start_time": "2023-01-09T12:54:21.323Z"
   },
   {
    "duration": 5,
    "start_time": "2023-01-09T12:54:22.011Z"
   },
   {
    "duration": 49,
    "start_time": "2023-01-09T12:54:22.749Z"
   },
   {
    "duration": 785,
    "start_time": "2023-01-09T12:57:02.272Z"
   },
   {
    "duration": 15,
    "start_time": "2023-01-09T12:57:21.289Z"
   },
   {
    "duration": 1146,
    "start_time": "2023-01-09T13:00:33.374Z"
   },
   {
    "duration": 162,
    "start_time": "2023-01-09T13:00:34.521Z"
   },
   {
    "duration": 26,
    "start_time": "2023-01-09T13:00:34.685Z"
   },
   {
    "duration": 13,
    "start_time": "2023-01-09T13:00:34.714Z"
   },
   {
    "duration": 17,
    "start_time": "2023-01-09T13:00:34.730Z"
   },
   {
    "duration": 36,
    "start_time": "2023-01-09T13:00:34.749Z"
   },
   {
    "duration": 11,
    "start_time": "2023-01-09T13:00:34.787Z"
   },
   {
    "duration": 33,
    "start_time": "2023-01-09T13:00:34.800Z"
   },
   {
    "duration": 20,
    "start_time": "2023-01-09T13:00:34.836Z"
   },
   {
    "duration": 8,
    "start_time": "2023-01-09T13:00:34.987Z"
   },
   {
    "duration": 80,
    "start_time": "2023-01-09T13:00:35.153Z"
   },
   {
    "duration": 120,
    "start_time": "2023-01-09T13:00:35.380Z"
   },
   {
    "duration": 19,
    "start_time": "2023-01-09T13:00:35.558Z"
   },
   {
    "duration": 2,
    "start_time": "2023-01-09T13:00:35.916Z"
   },
   {
    "duration": 13,
    "start_time": "2023-01-09T13:00:36.101Z"
   },
   {
    "duration": 7,
    "start_time": "2023-01-09T13:00:36.467Z"
   },
   {
    "duration": 4,
    "start_time": "2023-01-09T13:00:36.636Z"
   },
   {
    "duration": 5,
    "start_time": "2023-01-09T13:00:36.822Z"
   },
   {
    "duration": 2,
    "start_time": "2023-01-09T13:00:36.985Z"
   },
   {
    "duration": 5,
    "start_time": "2023-01-09T13:00:37.177Z"
   },
   {
    "duration": 3,
    "start_time": "2023-01-09T13:00:37.389Z"
   },
   {
    "duration": 238,
    "start_time": "2023-01-09T13:00:37.772Z"
   },
   {
    "duration": 26,
    "start_time": "2023-01-09T13:00:38.368Z"
   },
   {
    "duration": 14,
    "start_time": "2023-01-09T13:00:38.694Z"
   },
   {
    "duration": 11,
    "start_time": "2023-01-09T13:00:38.864Z"
   },
   {
    "duration": 10,
    "start_time": "2023-01-09T13:00:39.033Z"
   },
   {
    "duration": 2,
    "start_time": "2023-01-09T13:00:39.191Z"
   },
   {
    "duration": 3,
    "start_time": "2023-01-09T13:00:39.359Z"
   },
   {
    "duration": 4,
    "start_time": "2023-01-09T13:00:39.528Z"
   },
   {
    "duration": 11,
    "start_time": "2023-01-09T13:00:39.843Z"
   },
   {
    "duration": 23,
    "start_time": "2023-01-09T13:00:40.203Z"
   },
   {
    "duration": 51,
    "start_time": "2023-01-09T13:00:40.372Z"
   },
   {
    "duration": 10,
    "start_time": "2023-01-09T13:00:40.553Z"
   },
   {
    "duration": 37,
    "start_time": "2023-01-09T13:00:40.756Z"
   },
   {
    "duration": 9,
    "start_time": "2023-01-09T13:00:41.137Z"
   },
   {
    "duration": 13,
    "start_time": "2023-01-09T13:00:41.353Z"
   },
   {
    "duration": 10,
    "start_time": "2023-01-09T13:00:41.567Z"
   },
   {
    "duration": 11,
    "start_time": "2023-01-09T13:00:41.771Z"
   },
   {
    "duration": 322,
    "start_time": "2023-01-09T13:00:41.982Z"
   },
   {
    "duration": 196,
    "start_time": "2023-01-09T13:00:42.306Z"
   },
   {
    "duration": 34,
    "start_time": "2023-01-09T13:00:43.337Z"
   },
   {
    "duration": 20,
    "start_time": "2023-01-09T13:00:43.965Z"
   },
   {
    "duration": 72,
    "start_time": "2023-01-09T13:00:44.137Z"
   },
   {
    "duration": 8,
    "start_time": "2023-01-09T13:00:44.792Z"
   },
   {
    "duration": 10,
    "start_time": "2023-01-09T13:00:45.164Z"
   },
   {
    "duration": 1265,
    "start_time": "2023-01-09T13:00:46.598Z"
   },
   {
    "duration": 0,
    "start_time": "2023-01-09T13:00:47.864Z"
   },
   {
    "duration": 0,
    "start_time": "2023-01-09T13:00:47.866Z"
   },
   {
    "duration": 0,
    "start_time": "2023-01-09T13:00:47.867Z"
   },
   {
    "duration": 0,
    "start_time": "2023-01-09T13:00:47.868Z"
   },
   {
    "duration": 0,
    "start_time": "2023-01-09T13:00:47.870Z"
   },
   {
    "duration": 0,
    "start_time": "2023-01-09T13:00:47.871Z"
   },
   {
    "duration": 8,
    "start_time": "2023-01-09T13:00:53.045Z"
   },
   {
    "duration": 952,
    "start_time": "2023-01-09T13:00:53.375Z"
   },
   {
    "duration": 0,
    "start_time": "2023-01-09T13:00:54.329Z"
   },
   {
    "duration": 7,
    "start_time": "2023-01-09T13:00:54.405Z"
   },
   {
    "duration": 7,
    "start_time": "2023-01-09T13:00:57.362Z"
   },
   {
    "duration": 5,
    "start_time": "2023-01-09T13:00:58.214Z"
   },
   {
    "duration": 8,
    "start_time": "2023-01-09T13:00:59.186Z"
   },
   {
    "duration": 6,
    "start_time": "2023-01-09T13:01:00.155Z"
   },
   {
    "duration": 9,
    "start_time": "2023-01-09T13:01:00.821Z"
   },
   {
    "duration": 67,
    "start_time": "2023-01-09T13:01:01.681Z"
   },
   {
    "duration": 1312,
    "start_time": "2023-01-12T10:00:08.997Z"
   },
   {
    "duration": 272,
    "start_time": "2023-01-12T10:00:10.310Z"
   },
   {
    "duration": 23,
    "start_time": "2023-01-12T10:00:10.584Z"
   },
   {
    "duration": 9,
    "start_time": "2023-01-12T10:00:10.609Z"
   },
   {
    "duration": 7,
    "start_time": "2023-01-12T10:00:10.620Z"
   },
   {
    "duration": 22,
    "start_time": "2023-01-12T10:00:10.628Z"
   },
   {
    "duration": 3,
    "start_time": "2023-01-12T10:00:10.651Z"
   },
   {
    "duration": 16,
    "start_time": "2023-01-12T10:00:10.676Z"
   },
   {
    "duration": 11,
    "start_time": "2023-01-12T10:00:10.694Z"
   },
   {
    "duration": 11,
    "start_time": "2023-01-12T10:00:10.708Z"
   },
   {
    "duration": 84,
    "start_time": "2023-01-12T10:00:10.721Z"
   },
   {
    "duration": 121,
    "start_time": "2023-01-12T10:00:10.839Z"
   },
   {
    "duration": 22,
    "start_time": "2023-01-12T10:00:10.990Z"
   },
   {
    "duration": 2,
    "start_time": "2023-01-12T10:00:11.337Z"
   },
   {
    "duration": 13,
    "start_time": "2023-01-12T10:00:11.481Z"
   },
   {
    "duration": 8,
    "start_time": "2023-01-12T10:00:11.897Z"
   },
   {
    "duration": 4,
    "start_time": "2023-01-12T10:00:12.069Z"
   },
   {
    "duration": 6,
    "start_time": "2023-01-12T10:00:12.248Z"
   },
   {
    "duration": 3,
    "start_time": "2023-01-12T10:00:12.435Z"
   },
   {
    "duration": 5,
    "start_time": "2023-01-12T10:00:12.624Z"
   },
   {
    "duration": 3,
    "start_time": "2023-01-12T10:00:12.803Z"
   },
   {
    "duration": 271,
    "start_time": "2023-01-12T10:00:13.246Z"
   },
   {
    "duration": 27,
    "start_time": "2023-01-12T10:00:13.610Z"
   },
   {
    "duration": 14,
    "start_time": "2023-01-12T10:00:14.109Z"
   },
   {
    "duration": 13,
    "start_time": "2023-01-12T10:00:14.319Z"
   },
   {
    "duration": 9,
    "start_time": "2023-01-12T10:00:14.656Z"
   },
   {
    "duration": 3,
    "start_time": "2023-01-12T10:00:14.838Z"
   },
   {
    "duration": 4,
    "start_time": "2023-01-12T10:00:15.020Z"
   },
   {
    "duration": 4,
    "start_time": "2023-01-12T10:00:15.236Z"
   },
   {
    "duration": 11,
    "start_time": "2023-01-12T10:00:15.694Z"
   },
   {
    "duration": 23,
    "start_time": "2023-01-12T10:00:17.148Z"
   },
   {
    "duration": 54,
    "start_time": "2023-01-12T10:00:17.306Z"
   },
   {
    "duration": 10,
    "start_time": "2023-01-12T10:00:17.588Z"
   },
   {
    "duration": 55,
    "start_time": "2023-01-12T10:00:18.795Z"
   },
   {
    "duration": 12,
    "start_time": "2023-01-12T10:00:19.955Z"
   },
   {
    "duration": 13,
    "start_time": "2023-01-12T10:00:20.397Z"
   },
   {
    "duration": 11,
    "start_time": "2023-01-12T10:00:21.413Z"
   },
   {
    "duration": 15,
    "start_time": "2023-01-12T10:00:22.476Z"
   },
   {
    "duration": 380,
    "start_time": "2023-01-12T10:00:23.720Z"
   },
   {
    "duration": 119,
    "start_time": "2023-01-12T10:00:24.565Z"
   },
   {
    "duration": 40,
    "start_time": "2023-01-12T10:00:30.870Z"
   },
   {
    "duration": 20,
    "start_time": "2023-01-12T10:00:32.669Z"
   },
   {
    "duration": 77,
    "start_time": "2023-01-12T10:00:33.667Z"
   },
   {
    "duration": 9,
    "start_time": "2023-01-12T10:01:01.276Z"
   },
   {
    "duration": 8,
    "start_time": "2023-01-12T10:01:06.821Z"
   },
   {
    "duration": 844,
    "start_time": "2023-01-12T10:01:11.775Z"
   },
   {
    "duration": 5,
    "start_time": "2023-01-12T10:03:04.440Z"
   },
   {
    "duration": 4,
    "start_time": "2023-01-12T10:04:17.015Z"
   },
   {
    "duration": 91,
    "start_time": "2023-01-12T10:05:06.713Z"
   },
   {
    "duration": 2,
    "start_time": "2023-01-12T10:08:08.786Z"
   },
   {
    "duration": 90,
    "start_time": "2023-01-12T10:09:28.685Z"
   },
   {
    "duration": 36,
    "start_time": "2023-01-12T10:10:18.581Z"
   },
   {
    "duration": 2,
    "start_time": "2023-01-12T10:10:29.469Z"
   },
   {
    "duration": 4,
    "start_time": "2023-01-12T10:11:40.749Z"
   },
   {
    "duration": 5,
    "start_time": "2023-01-12T10:13:23.674Z"
   },
   {
    "duration": 6,
    "start_time": "2023-01-12T10:13:25.746Z"
   },
   {
    "duration": 4,
    "start_time": "2023-01-12T10:13:26.227Z"
   },
   {
    "duration": 883,
    "start_time": "2023-01-12T10:13:26.679Z"
   },
   {
    "duration": 0,
    "start_time": "2023-01-12T10:13:27.565Z"
   },
   {
    "duration": 12,
    "start_time": "2023-01-12T10:13:28.006Z"
   },
   {
    "duration": 17,
    "start_time": "2023-01-12T10:13:28.904Z"
   },
   {
    "duration": 4,
    "start_time": "2023-01-12T10:13:53.195Z"
   },
   {
    "duration": 5,
    "start_time": "2023-01-12T10:13:53.855Z"
   },
   {
    "duration": 3,
    "start_time": "2023-01-12T10:13:54.610Z"
   },
   {
    "duration": 9,
    "start_time": "2023-01-12T10:13:55.411Z"
   },
   {
    "duration": 13,
    "start_time": "2023-01-12T10:14:11.418Z"
   },
   {
    "duration": 1245,
    "start_time": "2023-01-12T10:17:04.408Z"
   },
   {
    "duration": 165,
    "start_time": "2023-01-12T10:17:05.654Z"
   },
   {
    "duration": 23,
    "start_time": "2023-01-12T10:17:05.820Z"
   },
   {
    "duration": 51,
    "start_time": "2023-01-12T10:17:05.845Z"
   },
   {
    "duration": 7,
    "start_time": "2023-01-12T10:17:05.899Z"
   },
   {
    "duration": 35,
    "start_time": "2023-01-12T10:17:05.909Z"
   },
   {
    "duration": 3,
    "start_time": "2023-01-12T10:17:05.945Z"
   },
   {
    "duration": 16,
    "start_time": "2023-01-12T10:17:05.950Z"
   },
   {
    "duration": 13,
    "start_time": "2023-01-12T10:17:05.968Z"
   },
   {
    "duration": 28,
    "start_time": "2023-01-12T10:17:05.983Z"
   },
   {
    "duration": 66,
    "start_time": "2023-01-12T10:17:06.028Z"
   },
   {
    "duration": 142,
    "start_time": "2023-01-12T10:17:06.179Z"
   },
   {
    "duration": 21,
    "start_time": "2023-01-12T10:17:06.323Z"
   },
   {
    "duration": 3,
    "start_time": "2023-01-12T10:17:06.686Z"
   },
   {
    "duration": 15,
    "start_time": "2023-01-12T10:17:06.887Z"
   },
   {
    "duration": 12,
    "start_time": "2023-01-12T10:17:07.259Z"
   },
   {
    "duration": 5,
    "start_time": "2023-01-12T10:17:07.458Z"
   },
   {
    "duration": 6,
    "start_time": "2023-01-12T10:17:07.629Z"
   },
   {
    "duration": 3,
    "start_time": "2023-01-12T10:17:07.831Z"
   },
   {
    "duration": 5,
    "start_time": "2023-01-12T10:17:08.011Z"
   },
   {
    "duration": 2,
    "start_time": "2023-01-12T10:17:08.238Z"
   },
   {
    "duration": 291,
    "start_time": "2023-01-12T10:17:08.632Z"
   },
   {
    "duration": 44,
    "start_time": "2023-01-12T10:17:09.005Z"
   },
   {
    "duration": 14,
    "start_time": "2023-01-12T10:17:09.364Z"
   },
   {
    "duration": 13,
    "start_time": "2023-01-12T10:17:09.579Z"
   },
   {
    "duration": 12,
    "start_time": "2023-01-12T10:17:09.793Z"
   },
   {
    "duration": 3,
    "start_time": "2023-01-12T10:17:09.956Z"
   },
   {
    "duration": 5,
    "start_time": "2023-01-12T10:17:10.094Z"
   },
   {
    "duration": 5,
    "start_time": "2023-01-12T10:17:10.286Z"
   },
   {
    "duration": 16,
    "start_time": "2023-01-12T10:17:10.672Z"
   },
   {
    "duration": 28,
    "start_time": "2023-01-12T10:17:11.119Z"
   },
   {
    "duration": 59,
    "start_time": "2023-01-12T10:17:11.310Z"
   },
   {
    "duration": 12,
    "start_time": "2023-01-12T10:17:11.524Z"
   },
   {
    "duration": 41,
    "start_time": "2023-01-12T10:17:11.759Z"
   },
   {
    "duration": 12,
    "start_time": "2023-01-12T10:17:12.209Z"
   },
   {
    "duration": 18,
    "start_time": "2023-01-12T10:17:12.436Z"
   },
   {
    "duration": 10,
    "start_time": "2023-01-12T10:17:13.268Z"
   },
   {
    "duration": 12,
    "start_time": "2023-01-12T10:17:13.957Z"
   },
   {
    "duration": 328,
    "start_time": "2023-01-12T10:17:14.493Z"
   },
   {
    "duration": 114,
    "start_time": "2023-01-12T10:17:14.873Z"
   },
   {
    "duration": 44,
    "start_time": "2023-01-12T10:17:16.706Z"
   },
   {
    "duration": 3,
    "start_time": "2023-01-12T10:17:18.977Z"
   },
   {
    "duration": 83,
    "start_time": "2023-01-12T10:17:19.994Z"
   },
   {
    "duration": 9,
    "start_time": "2023-01-12T10:17:21.509Z"
   },
   {
    "duration": 8,
    "start_time": "2023-01-12T10:17:30.610Z"
   },
   {
    "duration": 5,
    "start_time": "2023-01-12T10:17:32.222Z"
   },
   {
    "duration": 5,
    "start_time": "2023-01-12T10:17:33.192Z"
   },
   {
    "duration": 6,
    "start_time": "2023-01-12T10:17:33.765Z"
   },
   {
    "duration": 6,
    "start_time": "2023-01-12T10:17:34.309Z"
   },
   {
    "duration": 5,
    "start_time": "2023-01-12T10:17:35.104Z"
   },
   {
    "duration": 3,
    "start_time": "2023-01-12T10:17:35.928Z"
   },
   {
    "duration": 7,
    "start_time": "2023-01-12T10:17:36.474Z"
   },
   {
    "duration": 9,
    "start_time": "2023-01-12T10:17:38.918Z"
   },
   {
    "duration": 3,
    "start_time": "2023-01-12T10:21:27.038Z"
   },
   {
    "duration": 13,
    "start_time": "2023-01-12T10:21:39.123Z"
   },
   {
    "duration": 11,
    "start_time": "2023-01-12T10:21:53.430Z"
   },
   {
    "duration": 11,
    "start_time": "2023-01-12T10:21:59.396Z"
   },
   {
    "duration": 8,
    "start_time": "2023-01-12T10:22:06.246Z"
   },
   {
    "duration": 12,
    "start_time": "2023-01-12T10:22:40.281Z"
   },
   {
    "duration": 5,
    "start_time": "2023-01-12T10:31:18.635Z"
   },
   {
    "duration": 8,
    "start_time": "2023-01-12T10:31:41.335Z"
   },
   {
    "duration": 9,
    "start_time": "2023-01-12T10:32:32.906Z"
   },
   {
    "duration": 7,
    "start_time": "2023-01-12T10:33:00.020Z"
   },
   {
    "duration": 954,
    "start_time": "2023-01-12T10:33:27.583Z"
   },
   {
    "duration": 1434,
    "start_time": "2023-01-12T10:38:05.092Z"
   },
   {
    "duration": 202,
    "start_time": "2023-01-12T10:38:06.528Z"
   },
   {
    "duration": 22,
    "start_time": "2023-01-12T10:38:06.732Z"
   },
   {
    "duration": 21,
    "start_time": "2023-01-12T10:38:06.756Z"
   },
   {
    "duration": 6,
    "start_time": "2023-01-12T10:38:06.779Z"
   },
   {
    "duration": 20,
    "start_time": "2023-01-12T10:38:06.787Z"
   },
   {
    "duration": 2,
    "start_time": "2023-01-12T10:38:07.040Z"
   },
   {
    "duration": 13,
    "start_time": "2023-01-12T10:38:07.309Z"
   },
   {
    "duration": 8,
    "start_time": "2023-01-12T10:38:07.620Z"
   },
   {
    "duration": 9,
    "start_time": "2023-01-12T10:38:07.925Z"
   },
   {
    "duration": 66,
    "start_time": "2023-01-12T10:38:08.197Z"
   },
   {
    "duration": 130,
    "start_time": "2023-01-12T10:38:08.490Z"
   },
   {
    "duration": 22,
    "start_time": "2023-01-12T10:38:08.769Z"
   },
   {
    "duration": 2,
    "start_time": "2023-01-12T10:38:09.306Z"
   },
   {
    "duration": 12,
    "start_time": "2023-01-12T10:38:09.557Z"
   },
   {
    "duration": 7,
    "start_time": "2023-01-12T10:38:10.108Z"
   },
   {
    "duration": 4,
    "start_time": "2023-01-12T10:38:10.364Z"
   },
   {
    "duration": 5,
    "start_time": "2023-01-12T10:38:10.633Z"
   },
   {
    "duration": 2,
    "start_time": "2023-01-12T10:38:10.874Z"
   },
   {
    "duration": 4,
    "start_time": "2023-01-12T10:38:11.154Z"
   },
   {
    "duration": 3,
    "start_time": "2023-01-12T10:38:11.442Z"
   },
   {
    "duration": 260,
    "start_time": "2023-01-12T10:38:11.987Z"
   },
   {
    "duration": 26,
    "start_time": "2023-01-12T10:38:12.574Z"
   },
   {
    "duration": 13,
    "start_time": "2023-01-12T10:38:13.135Z"
   },
   {
    "duration": 12,
    "start_time": "2023-01-12T10:38:13.467Z"
   },
   {
    "duration": 10,
    "start_time": "2023-01-12T10:38:13.740Z"
   },
   {
    "duration": 2,
    "start_time": "2023-01-12T10:38:14.066Z"
   },
   {
    "duration": 4,
    "start_time": "2023-01-12T10:38:14.462Z"
   },
   {
    "duration": 5,
    "start_time": "2023-01-12T10:38:14.823Z"
   },
   {
    "duration": 10,
    "start_time": "2023-01-12T10:38:16.870Z"
   },
   {
    "duration": 25,
    "start_time": "2023-01-12T10:38:17.702Z"
   },
   {
    "duration": 48,
    "start_time": "2023-01-12T10:38:18.083Z"
   },
   {
    "duration": 10,
    "start_time": "2023-01-12T10:38:18.795Z"
   },
   {
    "duration": 47,
    "start_time": "2023-01-12T10:38:19.109Z"
   },
   {
    "duration": 10,
    "start_time": "2023-01-12T10:38:19.760Z"
   },
   {
    "duration": 15,
    "start_time": "2023-01-12T10:38:20.105Z"
   },
   {
    "duration": 10,
    "start_time": "2023-01-12T10:38:20.402Z"
   },
   {
    "duration": 11,
    "start_time": "2023-01-12T10:38:20.748Z"
   },
   {
    "duration": 333,
    "start_time": "2023-01-12T10:38:21.042Z"
   },
   {
    "duration": 108,
    "start_time": "2023-01-12T10:38:21.623Z"
   },
   {
    "duration": 39,
    "start_time": "2023-01-12T10:38:23.163Z"
   },
   {
    "duration": 2,
    "start_time": "2023-01-12T10:38:24.325Z"
   },
   {
    "duration": 73,
    "start_time": "2023-01-12T10:38:24.729Z"
   },
   {
    "duration": 8,
    "start_time": "2023-01-12T10:38:25.120Z"
   },
   {
    "duration": 8,
    "start_time": "2023-01-12T10:38:25.487Z"
   },
   {
    "duration": 5,
    "start_time": "2023-01-12T10:38:25.849Z"
   },
   {
    "duration": 4,
    "start_time": "2023-01-12T10:38:26.253Z"
   },
   {
    "duration": 4,
    "start_time": "2023-01-12T10:38:26.626Z"
   },
   {
    "duration": 4,
    "start_time": "2023-01-12T10:38:27.072Z"
   },
   {
    "duration": 4,
    "start_time": "2023-01-12T10:38:27.437Z"
   },
   {
    "duration": 3,
    "start_time": "2023-01-12T10:38:27.849Z"
   },
   {
    "duration": 7,
    "start_time": "2023-01-12T10:38:28.230Z"
   },
   {
    "duration": 8,
    "start_time": "2023-01-12T10:38:29.584Z"
   },
   {
    "duration": 2,
    "start_time": "2023-01-12T10:38:31.340Z"
   },
   {
    "duration": 13,
    "start_time": "2023-01-12T10:38:31.801Z"
   },
   {
    "duration": 11,
    "start_time": "2023-01-12T10:38:32.328Z"
   },
   {
    "duration": 9,
    "start_time": "2023-01-12T10:38:32.822Z"
   },
   {
    "duration": 8,
    "start_time": "2023-01-12T10:38:33.320Z"
   },
   {
    "duration": 8,
    "start_time": "2023-01-12T10:38:35.045Z"
   },
   {
    "duration": 9,
    "start_time": "2023-01-12T10:38:35.522Z"
   },
   {
    "duration": 10,
    "start_time": "2023-01-12T10:38:36.029Z"
   },
   {
    "duration": 14,
    "start_time": "2023-01-12T10:38:36.777Z"
   },
   {
    "duration": 1220,
    "start_time": "2023-01-12T10:38:37.358Z"
   },
   {
    "duration": 7,
    "start_time": "2023-01-12T10:40:27.123Z"
   },
   {
    "duration": 10,
    "start_time": "2023-01-12T10:40:59.625Z"
   },
   {
    "duration": 8,
    "start_time": "2023-01-12T10:42:43.265Z"
   },
   {
    "duration": 20,
    "start_time": "2023-01-12T10:42:43.938Z"
   },
   {
    "duration": 7,
    "start_time": "2023-01-12T10:44:20.605Z"
   },
   {
    "duration": 1097,
    "start_time": "2023-01-12T10:44:24.066Z"
   },
   {
    "duration": 1482,
    "start_time": "2023-01-12T10:45:04.440Z"
   },
   {
    "duration": 1161,
    "start_time": "2023-01-12T10:45:25.594Z"
   },
   {
    "duration": 6,
    "start_time": "2023-01-12T10:45:49.600Z"
   },
   {
    "duration": 5,
    "start_time": "2023-01-12T10:45:50.163Z"
   },
   {
    "duration": 2,
    "start_time": "2023-01-12T10:46:03.818Z"
   },
   {
    "duration": 3,
    "start_time": "2023-01-12T10:46:07.190Z"
   },
   {
    "duration": 7,
    "start_time": "2023-01-12T10:48:03.491Z"
   },
   {
    "duration": 7,
    "start_time": "2023-01-12T10:48:09.390Z"
   },
   {
    "duration": 6,
    "start_time": "2023-01-12T10:48:11.089Z"
   },
   {
    "duration": 8,
    "start_time": "2023-01-12T10:48:11.586Z"
   },
   {
    "duration": 9,
    "start_time": "2023-01-12T10:48:11.799Z"
   },
   {
    "duration": 16,
    "start_time": "2023-01-12T10:48:12.003Z"
   },
   {
    "duration": 2,
    "start_time": "2023-01-12T10:48:12.224Z"
   },
   {
    "duration": 3,
    "start_time": "2023-01-12T10:48:12.456Z"
   },
   {
    "duration": 840,
    "start_time": "2023-01-12T10:48:12.719Z"
   },
   {
    "duration": 3,
    "start_time": "2023-01-12T11:07:03.600Z"
   },
   {
    "duration": 166,
    "start_time": "2023-01-12T11:07:03.748Z"
   },
   {
    "duration": 19,
    "start_time": "2023-01-12T11:07:03.916Z"
   },
   {
    "duration": 7,
    "start_time": "2023-01-12T11:07:04.095Z"
   },
   {
    "duration": 5,
    "start_time": "2023-01-12T11:07:04.221Z"
   },
   {
    "duration": 20,
    "start_time": "2023-01-12T11:07:04.349Z"
   },
   {
    "duration": 2,
    "start_time": "2023-01-12T11:07:04.490Z"
   },
   {
    "duration": 10,
    "start_time": "2023-01-12T11:07:04.648Z"
   },
   {
    "duration": 9,
    "start_time": "2023-01-12T11:07:04.808Z"
   },
   {
    "duration": 12,
    "start_time": "2023-01-12T11:07:04.939Z"
   },
   {
    "duration": 56,
    "start_time": "2023-01-12T11:07:05.118Z"
   },
   {
    "duration": 138,
    "start_time": "2023-01-12T11:07:05.248Z"
   },
   {
    "duration": 21,
    "start_time": "2023-01-12T11:07:05.415Z"
   },
   {
    "duration": 3,
    "start_time": "2023-01-12T11:07:05.730Z"
   },
   {
    "duration": 16,
    "start_time": "2023-01-12T11:07:05.870Z"
   },
   {
    "duration": 9,
    "start_time": "2023-01-12T11:07:06.222Z"
   },
   {
    "duration": 4,
    "start_time": "2023-01-12T11:07:06.413Z"
   },
   {
    "duration": 5,
    "start_time": "2023-01-12T11:07:06.509Z"
   },
   {
    "duration": 2,
    "start_time": "2023-01-12T11:07:06.664Z"
   },
   {
    "duration": 5,
    "start_time": "2023-01-12T11:07:06.852Z"
   },
   {
    "duration": 2,
    "start_time": "2023-01-12T11:07:07.040Z"
   },
   {
    "duration": 182,
    "start_time": "2023-01-12T11:07:07.313Z"
   },
   {
    "duration": 28,
    "start_time": "2023-01-12T11:07:07.638Z"
   },
   {
    "duration": 14,
    "start_time": "2023-01-12T11:07:07.987Z"
   },
   {
    "duration": 14,
    "start_time": "2023-01-12T11:07:08.139Z"
   },
   {
    "duration": 8,
    "start_time": "2023-01-12T11:07:08.457Z"
   },
   {
    "duration": 3,
    "start_time": "2023-01-12T11:07:08.569Z"
   },
   {
    "duration": 4,
    "start_time": "2023-01-12T11:07:08.789Z"
   },
   {
    "duration": 4,
    "start_time": "2023-01-12T11:07:08.966Z"
   },
   {
    "duration": 12,
    "start_time": "2023-01-12T11:07:09.249Z"
   },
   {
    "duration": 26,
    "start_time": "2023-01-12T11:07:09.710Z"
   },
   {
    "duration": 55,
    "start_time": "2023-01-12T11:07:09.881Z"
   },
   {
    "duration": 14,
    "start_time": "2023-01-12T11:07:10.128Z"
   },
   {
    "duration": 9,
    "start_time": "2023-01-12T11:07:10.277Z"
   },
   {
    "duration": 10,
    "start_time": "2023-01-12T11:07:10.612Z"
   },
   {
    "duration": 17,
    "start_time": "2023-01-12T11:07:10.844Z"
   },
   {
    "duration": 10,
    "start_time": "2023-01-12T11:07:11.185Z"
   },
   {
    "duration": 11,
    "start_time": "2023-01-12T11:07:11.448Z"
   },
   {
    "duration": 40,
    "start_time": "2023-01-12T11:07:11.599Z"
   },
   {
    "duration": 42,
    "start_time": "2023-01-12T11:07:12.649Z"
   },
   {
    "duration": 41,
    "start_time": "2023-01-12T11:07:13.331Z"
   },
   {
    "duration": 3,
    "start_time": "2023-01-12T11:07:13.730Z"
   },
   {
    "duration": 87,
    "start_time": "2023-01-12T11:07:13.888Z"
   },
   {
    "duration": 11,
    "start_time": "2023-01-12T11:07:14.119Z"
   },
   {
    "duration": 10,
    "start_time": "2023-01-12T11:07:14.324Z"
   },
   {
    "duration": 4,
    "start_time": "2023-01-12T11:07:16.276Z"
   },
   {
    "duration": 5,
    "start_time": "2023-01-12T11:07:16.486Z"
   },
   {
    "duration": 5,
    "start_time": "2023-01-12T11:07:16.795Z"
   },
   {
    "duration": 6,
    "start_time": "2023-01-12T11:07:17.397Z"
   },
   {
    "duration": 6,
    "start_time": "2023-01-12T11:07:17.593Z"
   },
   {
    "duration": 3,
    "start_time": "2023-01-12T11:07:18.208Z"
   },
   {
    "duration": 7,
    "start_time": "2023-01-12T11:07:18.701Z"
   },
   {
    "duration": 8,
    "start_time": "2023-01-12T11:07:24.014Z"
   },
   {
    "duration": 2,
    "start_time": "2023-01-12T11:07:26.134Z"
   },
   {
    "duration": 12,
    "start_time": "2023-01-12T11:07:26.363Z"
   },
   {
    "duration": 10,
    "start_time": "2023-01-12T11:07:27.365Z"
   },
   {
    "duration": 9,
    "start_time": "2023-01-12T11:07:30.657Z"
   },
   {
    "duration": 10,
    "start_time": "2023-01-12T11:08:04.711Z"
   },
   {
    "duration": 6,
    "start_time": "2023-01-12T11:08:12.933Z"
   },
   {
    "duration": 9,
    "start_time": "2023-01-12T11:08:13.570Z"
   },
   {
    "duration": 8,
    "start_time": "2023-01-12T11:08:13.798Z"
   },
   {
    "duration": 7,
    "start_time": "2023-01-12T11:08:14.572Z"
   },
   {
    "duration": 3,
    "start_time": "2023-01-12T11:08:14.813Z"
   },
   {
    "duration": 3,
    "start_time": "2023-01-12T11:08:15.122Z"
   },
   {
    "duration": 1893,
    "start_time": "2023-01-12T11:08:15.950Z"
   },
   {
    "duration": 11,
    "start_time": "2023-01-12T11:09:00.902Z"
   },
   {
    "duration": 8,
    "start_time": "2023-01-12T11:09:04.750Z"
   },
   {
    "duration": 6,
    "start_time": "2023-01-12T11:09:06.799Z"
   },
   {
    "duration": 10,
    "start_time": "2023-01-12T11:09:07.286Z"
   },
   {
    "duration": 9,
    "start_time": "2023-01-12T11:09:07.637Z"
   },
   {
    "duration": 8,
    "start_time": "2023-01-12T11:09:08.022Z"
   },
   {
    "duration": 2,
    "start_time": "2023-01-12T11:09:08.570Z"
   },
   {
    "duration": 3,
    "start_time": "2023-01-12T11:09:09.110Z"
   },
   {
    "duration": 11,
    "start_time": "2023-01-12T11:09:09.791Z"
   },
   {
    "duration": 35,
    "start_time": "2023-01-12T11:29:42.018Z"
   },
   {
    "duration": 36,
    "start_time": "2023-01-12T11:34:24.259Z"
   },
   {
    "duration": 47,
    "start_time": "2023-01-12T11:34:46.648Z"
   },
   {
    "duration": 42,
    "start_time": "2023-01-12T11:35:04.665Z"
   },
   {
    "duration": 1349,
    "start_time": "2023-01-12T13:55:01.034Z"
   },
   {
    "duration": 650,
    "start_time": "2023-01-12T13:55:02.385Z"
   },
   {
    "duration": 23,
    "start_time": "2023-01-12T13:55:03.037Z"
   },
   {
    "duration": 12,
    "start_time": "2023-01-12T13:55:03.061Z"
   },
   {
    "duration": 9,
    "start_time": "2023-01-12T13:55:03.076Z"
   },
   {
    "duration": 33,
    "start_time": "2023-01-12T13:55:03.087Z"
   },
   {
    "duration": 5,
    "start_time": "2023-01-12T13:55:03.122Z"
   },
   {
    "duration": 18,
    "start_time": "2023-01-12T13:55:03.128Z"
   },
   {
    "duration": 8,
    "start_time": "2023-01-12T13:55:03.147Z"
   },
   {
    "duration": 8,
    "start_time": "2023-01-12T13:55:03.157Z"
   },
   {
    "duration": 99,
    "start_time": "2023-01-12T13:55:03.166Z"
   },
   {
    "duration": 147,
    "start_time": "2023-01-12T13:55:03.266Z"
   },
   {
    "duration": 21,
    "start_time": "2023-01-12T13:55:03.416Z"
   },
   {
    "duration": 2,
    "start_time": "2023-01-12T13:55:03.441Z"
   },
   {
    "duration": 26,
    "start_time": "2023-01-12T13:55:03.445Z"
   },
   {
    "duration": 21,
    "start_time": "2023-01-12T13:55:03.473Z"
   },
   {
    "duration": 6,
    "start_time": "2023-01-12T13:55:03.496Z"
   },
   {
    "duration": 5,
    "start_time": "2023-01-12T13:55:03.516Z"
   },
   {
    "duration": 6,
    "start_time": "2023-01-12T13:55:03.523Z"
   },
   {
    "duration": 8,
    "start_time": "2023-01-12T13:55:03.531Z"
   },
   {
    "duration": 10,
    "start_time": "2023-01-12T13:55:03.540Z"
   },
   {
    "duration": 271,
    "start_time": "2023-01-12T13:55:03.552Z"
   },
   {
    "duration": 28,
    "start_time": "2023-01-12T13:55:03.825Z"
   },
   {
    "duration": 15,
    "start_time": "2023-01-12T13:55:03.855Z"
   },
   {
    "duration": 47,
    "start_time": "2023-01-12T13:55:03.872Z"
   },
   {
    "duration": 13,
    "start_time": "2023-01-12T13:55:03.921Z"
   },
   {
    "duration": 18,
    "start_time": "2023-01-12T13:55:03.936Z"
   },
   {
    "duration": 8,
    "start_time": "2023-01-12T13:55:03.956Z"
   },
   {
    "duration": 7,
    "start_time": "2023-01-12T13:55:03.966Z"
   },
   {
    "duration": 69,
    "start_time": "2023-01-12T13:55:03.975Z"
   },
   {
    "duration": 36,
    "start_time": "2023-01-12T13:55:04.046Z"
   },
   {
    "duration": 63,
    "start_time": "2023-01-12T13:55:04.085Z"
   },
   {
    "duration": 10,
    "start_time": "2023-01-12T13:55:04.150Z"
   },
   {
    "duration": 70,
    "start_time": "2023-01-12T13:55:04.162Z"
   },
   {
    "duration": 11,
    "start_time": "2023-01-12T13:55:04.234Z"
   },
   {
    "duration": 32,
    "start_time": "2023-01-12T13:55:04.247Z"
   },
   {
    "duration": 12,
    "start_time": "2023-01-12T13:55:04.281Z"
   },
   {
    "duration": 23,
    "start_time": "2023-01-12T13:55:04.295Z"
   },
   {
    "duration": 612,
    "start_time": "2023-01-12T13:55:04.319Z"
   },
   {
    "duration": 107,
    "start_time": "2023-01-12T13:55:04.933Z"
   },
   {
    "duration": 108,
    "start_time": "2023-01-12T13:55:05.045Z"
   },
   {
    "duration": 2,
    "start_time": "2023-01-12T13:55:05.155Z"
   },
   {
    "duration": 117,
    "start_time": "2023-01-12T13:55:05.159Z"
   },
   {
    "duration": 11,
    "start_time": "2023-01-12T13:55:05.277Z"
   },
   {
    "duration": 25,
    "start_time": "2023-01-12T13:55:05.290Z"
   },
   {
    "duration": 4,
    "start_time": "2023-01-12T13:55:05.317Z"
   },
   {
    "duration": 8,
    "start_time": "2023-01-12T13:55:05.323Z"
   },
   {
    "duration": 7,
    "start_time": "2023-01-12T13:55:05.332Z"
   },
   {
    "duration": 12,
    "start_time": "2023-01-12T13:55:05.341Z"
   },
   {
    "duration": 8,
    "start_time": "2023-01-12T13:55:05.355Z"
   },
   {
    "duration": 10,
    "start_time": "2023-01-12T13:55:05.365Z"
   },
   {
    "duration": 17,
    "start_time": "2023-01-12T13:55:05.376Z"
   },
   {
    "duration": 24,
    "start_time": "2023-01-12T13:55:05.395Z"
   },
   {
    "duration": 15,
    "start_time": "2023-01-12T13:55:05.421Z"
   },
   {
    "duration": 27,
    "start_time": "2023-01-12T13:55:05.438Z"
   },
   {
    "duration": 20,
    "start_time": "2023-01-12T13:55:05.467Z"
   },
   {
    "duration": 15,
    "start_time": "2023-01-12T13:55:05.490Z"
   },
   {
    "duration": 27,
    "start_time": "2023-01-12T13:55:05.507Z"
   },
   {
    "duration": 15,
    "start_time": "2023-01-12T13:55:05.535Z"
   },
   {
    "duration": 23,
    "start_time": "2023-01-12T13:55:05.552Z"
   },
   {
    "duration": 12,
    "start_time": "2023-01-12T13:55:05.577Z"
   },
   {
    "duration": 10,
    "start_time": "2023-01-12T13:55:05.591Z"
   },
   {
    "duration": 12,
    "start_time": "2023-01-12T13:55:05.603Z"
   },
   {
    "duration": 540,
    "start_time": "2023-01-12T14:02:46.891Z"
   },
   {
    "duration": 1438,
    "start_time": "2023-01-14T10:46:38.250Z"
   },
   {
    "duration": 733,
    "start_time": "2023-01-14T10:46:39.690Z"
   },
   {
    "duration": 35,
    "start_time": "2023-01-14T10:46:40.425Z"
   },
   {
    "duration": 15,
    "start_time": "2023-01-14T10:46:40.462Z"
   },
   {
    "duration": 16,
    "start_time": "2023-01-14T10:46:40.479Z"
   },
   {
    "duration": 26,
    "start_time": "2023-01-14T10:46:40.497Z"
   },
   {
    "duration": 3,
    "start_time": "2023-01-14T10:46:40.525Z"
   },
   {
    "duration": 23,
    "start_time": "2023-01-14T10:46:40.529Z"
   },
   {
    "duration": 12,
    "start_time": "2023-01-14T10:46:40.554Z"
   },
   {
    "duration": 9,
    "start_time": "2023-01-14T10:46:40.569Z"
   },
   {
    "duration": 85,
    "start_time": "2023-01-14T10:46:40.580Z"
   },
   {
    "duration": 165,
    "start_time": "2023-01-14T10:46:40.667Z"
   },
   {
    "duration": 29,
    "start_time": "2023-01-14T10:46:40.835Z"
   },
   {
    "duration": 3,
    "start_time": "2023-01-14T10:46:41.320Z"
   },
   {
    "duration": 13,
    "start_time": "2023-01-14T10:46:41.495Z"
   },
   {
    "duration": 7,
    "start_time": "2023-01-14T10:46:41.862Z"
   },
   {
    "duration": 5,
    "start_time": "2023-01-14T10:46:42.067Z"
   },
   {
    "duration": 6,
    "start_time": "2023-01-14T10:46:42.414Z"
   },
   {
    "duration": 3,
    "start_time": "2023-01-14T10:46:42.604Z"
   },
   {
    "duration": 6,
    "start_time": "2023-01-14T10:46:42.803Z"
   },
   {
    "duration": 3,
    "start_time": "2023-01-14T10:46:43.004Z"
   },
   {
    "duration": 290,
    "start_time": "2023-01-14T10:46:43.606Z"
   },
   {
    "duration": 636,
    "start_time": "2023-01-14T10:46:43.960Z"
   },
   {
    "duration": 43,
    "start_time": "2023-01-14T10:46:44.598Z"
   },
   {
    "duration": 13,
    "start_time": "2023-01-14T10:46:45.606Z"
   },
   {
    "duration": 14,
    "start_time": "2023-01-14T10:46:46.083Z"
   },
   {
    "duration": 8,
    "start_time": "2023-01-14T10:46:46.347Z"
   },
   {
    "duration": 3,
    "start_time": "2023-01-14T10:46:46.521Z"
   },
   {
    "duration": 5,
    "start_time": "2023-01-14T10:46:46.710Z"
   },
   {
    "duration": 4,
    "start_time": "2023-01-14T10:46:46.901Z"
   },
   {
    "duration": 34,
    "start_time": "2023-01-14T10:46:48.150Z"
   },
   {
    "duration": 29,
    "start_time": "2023-01-14T10:46:48.994Z"
   },
   {
    "duration": 55,
    "start_time": "2023-01-14T10:46:49.248Z"
   },
   {
    "duration": 18,
    "start_time": "2023-01-14T10:46:49.538Z"
   },
   {
    "duration": 44,
    "start_time": "2023-01-14T10:46:50.475Z"
   },
   {
    "duration": 9,
    "start_time": "2023-01-14T10:46:51.499Z"
   },
   {
    "duration": 14,
    "start_time": "2023-01-14T10:46:51.881Z"
   },
   {
    "duration": 17,
    "start_time": "2023-01-14T10:46:52.545Z"
   },
   {
    "duration": 12,
    "start_time": "2023-01-14T10:46:53.049Z"
   },
   {
    "duration": 512,
    "start_time": "2023-01-14T10:46:56.441Z"
   },
   {
    "duration": 62,
    "start_time": "2023-01-14T10:46:57.802Z"
   },
   {
    "duration": 54,
    "start_time": "2023-01-14T10:47:00.596Z"
   },
   {
    "duration": 2,
    "start_time": "2023-01-14T10:47:28.805Z"
   },
   {
    "duration": 84,
    "start_time": "2023-01-14T10:47:29.438Z"
   },
   {
    "duration": 10,
    "start_time": "2023-01-14T10:47:29.907Z"
   },
   {
    "duration": 11,
    "start_time": "2023-01-14T10:47:30.607Z"
   },
   {
    "duration": 4,
    "start_time": "2023-01-14T10:47:53.753Z"
   },
   {
    "duration": 7,
    "start_time": "2023-01-14T10:47:54.345Z"
   },
   {
    "duration": 5,
    "start_time": "2023-01-14T10:47:55.046Z"
   },
   {
    "duration": 4,
    "start_time": "2023-01-14T10:47:55.419Z"
   },
   {
    "duration": 5,
    "start_time": "2023-01-14T10:47:55.903Z"
   },
   {
    "duration": 6,
    "start_time": "2023-01-14T10:47:56.344Z"
   },
   {
    "duration": 172,
    "start_time": "2023-01-14T10:47:56.804Z"
   },
   {
    "duration": 13,
    "start_time": "2023-01-14T10:48:13.681Z"
   },
   {
    "duration": 20,
    "start_time": "2023-01-14T10:48:22.243Z"
   },
   {
    "duration": 1162,
    "start_time": "2023-01-14T10:48:57.259Z"
   },
   {
    "duration": 174,
    "start_time": "2023-01-14T10:48:58.423Z"
   },
   {
    "duration": 25,
    "start_time": "2023-01-14T10:48:58.599Z"
   },
   {
    "duration": 21,
    "start_time": "2023-01-14T10:48:58.627Z"
   },
   {
    "duration": 18,
    "start_time": "2023-01-14T10:48:58.650Z"
   },
   {
    "duration": 28,
    "start_time": "2023-01-14T10:48:58.670Z"
   },
   {
    "duration": 2,
    "start_time": "2023-01-14T10:48:58.700Z"
   },
   {
    "duration": 19,
    "start_time": "2023-01-14T10:48:58.705Z"
   },
   {
    "duration": 19,
    "start_time": "2023-01-14T10:48:58.728Z"
   },
   {
    "duration": 9,
    "start_time": "2023-01-14T10:48:58.900Z"
   },
   {
    "duration": 65,
    "start_time": "2023-01-14T10:48:59.046Z"
   },
   {
    "duration": 146,
    "start_time": "2023-01-14T10:48:59.206Z"
   },
   {
    "duration": 22,
    "start_time": "2023-01-14T10:48:59.353Z"
   },
   {
    "duration": 3,
    "start_time": "2023-01-14T10:49:00.004Z"
   },
   {
    "duration": 13,
    "start_time": "2023-01-14T10:49:00.174Z"
   },
   {
    "duration": 7,
    "start_time": "2023-01-14T10:49:00.509Z"
   },
   {
    "duration": 5,
    "start_time": "2023-01-14T10:49:00.680Z"
   },
   {
    "duration": 9,
    "start_time": "2023-01-14T10:49:01.044Z"
   },
   {
    "duration": 2,
    "start_time": "2023-01-14T10:49:01.207Z"
   },
   {
    "duration": 5,
    "start_time": "2023-01-14T10:49:01.400Z"
   },
   {
    "duration": 2,
    "start_time": "2023-01-14T10:49:01.581Z"
   },
   {
    "duration": 295,
    "start_time": "2023-01-14T10:49:01.999Z"
   },
   {
    "duration": 710,
    "start_time": "2023-01-14T10:49:02.351Z"
   },
   {
    "duration": 33,
    "start_time": "2023-01-14T10:49:03.065Z"
   },
   {
    "duration": 17,
    "start_time": "2023-01-14T10:49:03.195Z"
   },
   {
    "duration": 14,
    "start_time": "2023-01-14T10:49:03.417Z"
   },
   {
    "duration": 10,
    "start_time": "2023-01-14T10:49:03.598Z"
   },
   {
    "duration": 4,
    "start_time": "2023-01-14T10:49:03.752Z"
   },
   {
    "duration": 4,
    "start_time": "2023-01-14T10:49:03.965Z"
   },
   {
    "duration": 4,
    "start_time": "2023-01-14T10:49:04.202Z"
   },
   {
    "duration": 36,
    "start_time": "2023-01-14T10:49:04.768Z"
   },
   {
    "duration": 28,
    "start_time": "2023-01-14T10:49:05.471Z"
   },
   {
    "duration": 62,
    "start_time": "2023-01-14T10:49:05.707Z"
   },
   {
    "duration": 14,
    "start_time": "2023-01-14T10:49:06.147Z"
   },
   {
    "duration": 58,
    "start_time": "2023-01-14T10:49:06.748Z"
   },
   {
    "duration": 9,
    "start_time": "2023-01-14T10:49:07.667Z"
   },
   {
    "duration": 17,
    "start_time": "2023-01-14T10:49:08.140Z"
   },
   {
    "duration": 10,
    "start_time": "2023-01-14T10:49:08.570Z"
   },
   {
    "duration": 12,
    "start_time": "2023-01-14T10:49:09.021Z"
   },
   {
    "duration": 450,
    "start_time": "2023-01-14T10:49:10.411Z"
   },
   {
    "duration": 90,
    "start_time": "2023-01-14T10:49:10.862Z"
   },
   {
    "duration": 56,
    "start_time": "2023-01-14T10:49:11.357Z"
   },
   {
    "duration": 7,
    "start_time": "2023-01-14T10:49:11.846Z"
   },
   {
    "duration": 81,
    "start_time": "2023-01-14T10:49:12.250Z"
   },
   {
    "duration": 12,
    "start_time": "2023-01-14T10:49:12.341Z"
   },
   {
    "duration": 10,
    "start_time": "2023-01-14T10:49:12.704Z"
   },
   {
    "duration": 6,
    "start_time": "2023-01-14T10:49:12.944Z"
   },
   {
    "duration": 4,
    "start_time": "2023-01-14T10:49:13.475Z"
   },
   {
    "duration": 4,
    "start_time": "2023-01-14T10:49:13.972Z"
   },
   {
    "duration": 4,
    "start_time": "2023-01-14T10:49:14.471Z"
   },
   {
    "duration": 5,
    "start_time": "2023-01-14T10:49:14.698Z"
   },
   {
    "duration": 5,
    "start_time": "2023-01-14T10:49:15.318Z"
   },
   {
    "duration": 160,
    "start_time": "2023-01-14T10:49:16.144Z"
   },
   {
    "duration": 8,
    "start_time": "2023-01-14T10:50:05.879Z"
   }
  ],
  "kernelspec": {
   "display_name": "Python 3 (ipykernel)",
   "language": "python",
   "name": "python3"
  },
  "language_info": {
   "codemirror_mode": {
    "name": "ipython",
    "version": 3
   },
   "file_extension": ".py",
   "mimetype": "text/x-python",
   "name": "python",
   "nbconvert_exporter": "python",
   "pygments_lexer": "ipython3",
   "version": "3.11.5"
  },
  "toc": {
   "base_numbering": 1,
   "nav_menu": {},
   "number_sections": false,
   "sideBar": true,
   "skip_h1_title": false,
   "title_cell": "Table of Contents",
   "title_sidebar": "Contents",
   "toc_cell": false,
   "toc_position": {
    "height": "calc(100% - 180px)",
    "left": "10px",
    "top": "150px",
    "width": "165px"
   },
   "toc_section_display": true,
   "toc_window_display": true
  }
 },
 "nbformat": 4,
 "nbformat_minor": 2
}
